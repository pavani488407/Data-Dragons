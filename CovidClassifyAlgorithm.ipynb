{
    "cells": [
        {
            "cell_type": "markdown",
            "metadata": {},
            "source": "## Covid Classification Algorithm\n   With 13 predictor variables we need to predict whether a person he/she interacted with chatbot is under panic state of mind or not with the way he/she interacted."
        },
        {
            "cell_type": "code",
            "execution_count": 47,
            "metadata": {},
            "outputs": [],
            "source": "# Importing pandas and numpy libraries\nimport pandas as pd\nimport numpy as np\n\n# Importing libraries required for plotting\nimport matplotlib.pyplot as plt\nimport seaborn as sns\n\n# Importing spark related libraries for session creation\nfrom pyspark.sql import SparkSession"
        },
        {
            "cell_type": "markdown",
            "metadata": {},
            "source": "### INSTALLATION OF PIXIEDUST to connect with cloudant database to read the conversation happened with user"
        },
        {
            "cell_type": "code",
            "execution_count": 1,
            "metadata": {},
            "outputs": [
                {
                    "name": "stdout",
                    "output_type": "stream",
                    "text": "Waiting for a Spark session to start...\nSpark Initialization Done! ApplicationId = app-20200726013330-0000\nKERNEL_ID = 2d5a71c2-1efc-4000-bfa9-12af0e713f79\nCollecting pixiedust\n\u001b[?25l  Downloading https://files.pythonhosted.org/packages/16/ba/7488f06b48238205562f9d63aaae2303c060c5dfd63b1ddd3bd9d4656eb1/pixiedust-1.1.18.tar.gz (197kB)\n\u001b[K    100% |\u2588\u2588\u2588\u2588\u2588\u2588\u2588\u2588\u2588\u2588\u2588\u2588\u2588\u2588\u2588\u2588\u2588\u2588\u2588\u2588\u2588\u2588\u2588\u2588\u2588\u2588\u2588\u2588\u2588\u2588\u2588\u2588| 204kB 4.1MB/s ta 0:00:01\n\u001b[?25hCollecting mpld3 (from pixiedust)\n\u001b[?25l  Downloading https://files.pythonhosted.org/packages/66/31/89bd2afd21b920e3612996623e7b3aac14d741537aa77600ea5102a34be0/mpld3-0.5.1.tar.gz (1.0MB)\n\u001b[K    100% |\u2588\u2588\u2588\u2588\u2588\u2588\u2588\u2588\u2588\u2588\u2588\u2588\u2588\u2588\u2588\u2588\u2588\u2588\u2588\u2588\u2588\u2588\u2588\u2588\u2588\u2588\u2588\u2588\u2588\u2588\u2588\u2588| 1.0MB 4.3MB/s eta 0:00:01\n\u001b[?25hCollecting lxml (from pixiedust)\n\u001b[?25l  Downloading https://files.pythonhosted.org/packages/79/37/d420b7fdc9a550bd29b8cfeacff3b38502d9600b09d7dfae9a69e623b891/lxml-4.5.2-cp36-cp36m-manylinux1_x86_64.whl (5.5MB)\n\u001b[K    100% |\u2588\u2588\u2588\u2588\u2588\u2588\u2588\u2588\u2588\u2588\u2588\u2588\u2588\u2588\u2588\u2588\u2588\u2588\u2588\u2588\u2588\u2588\u2588\u2588\u2588\u2588\u2588\u2588\u2588\u2588\u2588\u2588| 5.5MB 2.5MB/s eta 0:00:01\n\u001b[?25hCollecting geojson (from pixiedust)\n  Downloading https://files.pythonhosted.org/packages/e4/8d/9e28e9af95739e6d2d2f8d4bef0b3432da40b7c3588fbad4298c1be09e48/geojson-2.5.0-py2.py3-none-any.whl\nCollecting astunparse (from pixiedust)\n  Downloading https://files.pythonhosted.org/packages/2b/03/13dde6512ad7b4557eb792fbcf0c653af6076b81e5941d36ec61f7ce6028/astunparse-1.6.3-py2.py3-none-any.whl\nCollecting markdown (from pixiedust)\n\u001b[?25l  Downloading https://files.pythonhosted.org/packages/a4/63/eaec2bd025ab48c754b55e8819af0f6a69e2b1e187611dd40cbbe101ee7f/Markdown-3.2.2-py3-none-any.whl (88kB)\n\u001b[K    100% |\u2588\u2588\u2588\u2588\u2588\u2588\u2588\u2588\u2588\u2588\u2588\u2588\u2588\u2588\u2588\u2588\u2588\u2588\u2588\u2588\u2588\u2588\u2588\u2588\u2588\u2588\u2588\u2588\u2588\u2588\u2588\u2588| 92kB 6.0MB/s eta 0:00:01\n\u001b[?25hCollecting colour (from pixiedust)\n  Downloading https://files.pythonhosted.org/packages/74/46/e81907704ab203206769dee1385dc77e1407576ff8f50a0681d0a6b541be/colour-0.1.5-py2.py3-none-any.whl\nCollecting requests (from pixiedust)\n\u001b[?25l  Downloading https://files.pythonhosted.org/packages/45/1e/0c169c6a5381e241ba7404532c16a21d86ab872c9bed8bdcd4c423954103/requests-2.24.0-py2.py3-none-any.whl (61kB)\n\u001b[K    100% |\u2588\u2588\u2588\u2588\u2588\u2588\u2588\u2588\u2588\u2588\u2588\u2588\u2588\u2588\u2588\u2588\u2588\u2588\u2588\u2588\u2588\u2588\u2588\u2588\u2588\u2588\u2588\u2588\u2588\u2588\u2588\u2588| 71kB 3.7MB/s eta 0:00:01\n\u001b[?25hCollecting jinja2 (from mpld3->pixiedust)\n\u001b[?25l  Downloading https://files.pythonhosted.org/packages/30/9e/f663a2aa66a09d838042ae1a2c5659828bb9b41ea3a6efa20a20fd92b121/Jinja2-2.11.2-py2.py3-none-any.whl (125kB)\n\u001b[K    100% |\u2588\u2588\u2588\u2588\u2588\u2588\u2588\u2588\u2588\u2588\u2588\u2588\u2588\u2588\u2588\u2588\u2588\u2588\u2588\u2588\u2588\u2588\u2588\u2588\u2588\u2588\u2588\u2588\u2588\u2588\u2588\u2588| 133kB 6.4MB/s eta 0:00:01\n\u001b[?25hCollecting matplotlib (from mpld3->pixiedust)\n\u001b[?25l  Downloading https://files.pythonhosted.org/packages/93/ae/81b1c98ae97350711adb021ee12ea678b37f608ec2faa35c3a7db11795fa/matplotlib-3.3.0-1-cp36-cp36m-manylinux1_x86_64.whl (11.5MB)\n\u001b[K    100% |\u2588\u2588\u2588\u2588\u2588\u2588\u2588\u2588\u2588\u2588\u2588\u2588\u2588\u2588\u2588\u2588\u2588\u2588\u2588\u2588\u2588\u2588\u2588\u2588\u2588\u2588\u2588\u2588\u2588\u2588\u2588\u2588| 11.5MB 1.4MB/s eta 0:00:01\n\u001b[?25hCollecting six<2.0,>=1.6.1 (from astunparse->pixiedust)\n  Downloading https://files.pythonhosted.org/packages/ee/ff/48bde5c0f013094d729fe4b0316ba2a24774b3ff1c52d924a8a4cb04078a/six-1.15.0-py2.py3-none-any.whl\nCollecting wheel<1.0,>=0.23.0 (from astunparse->pixiedust)\n  Downloading https://files.pythonhosted.org/packages/8c/23/848298cccf8e40f5bbb59009b32848a4c38f4e7f3364297ab3c3e2e2cd14/wheel-0.34.2-py2.py3-none-any.whl\nCollecting importlib-metadata; python_version < \"3.8\" (from markdown->pixiedust)\n  Downloading https://files.pythonhosted.org/packages/8e/58/cdea07eb51fc2b906db0968a94700866fc46249bdc75cac23f9d13168929/importlib_metadata-1.7.0-py2.py3-none-any.whl\nCollecting urllib3!=1.25.0,!=1.25.1,<1.26,>=1.21.1 (from requests->pixiedust)\n\u001b[?25l  Downloading https://files.pythonhosted.org/packages/9f/f0/a391d1463ebb1b233795cabfc0ef38d3db4442339de68f847026199e69d7/urllib3-1.25.10-py2.py3-none-any.whl (127kB)\n\u001b[K    100% |\u2588\u2588\u2588\u2588\u2588\u2588\u2588\u2588\u2588\u2588\u2588\u2588\u2588\u2588\u2588\u2588\u2588\u2588\u2588\u2588\u2588\u2588\u2588\u2588\u2588\u2588\u2588\u2588\u2588\u2588\u2588\u2588| 133kB 6.5MB/s eta 0:00:01\n\u001b[?25hCollecting chardet<4,>=3.0.2 (from requests->pixiedust)\n\u001b[?25l  Downloading https://files.pythonhosted.org/packages/bc/a9/01ffebfb562e4274b6487b4bb1ddec7ca55ec7510b22e4c51f14098443b8/chardet-3.0.4-py2.py3-none-any.whl (133kB)\n\u001b[K    100% |\u2588\u2588\u2588\u2588\u2588\u2588\u2588\u2588\u2588\u2588\u2588\u2588\u2588\u2588\u2588\u2588\u2588\u2588\u2588\u2588\u2588\u2588\u2588\u2588\u2588\u2588\u2588\u2588\u2588\u2588\u2588\u2588| 143kB 5.6MB/s eta 0:00:01\n\u001b[?25hCollecting certifi>=2017.4.17 (from requests->pixiedust)\n\u001b[?25l  Downloading https://files.pythonhosted.org/packages/5e/c4/6c4fe722df5343c33226f0b4e0bb042e4dc13483228b4718baf286f86d87/certifi-2020.6.20-py2.py3-none-any.whl (156kB)\n\u001b[K    100% |\u2588\u2588\u2588\u2588\u2588\u2588\u2588\u2588\u2588\u2588\u2588\u2588\u2588\u2588\u2588\u2588\u2588\u2588\u2588\u2588\u2588\u2588\u2588\u2588\u2588\u2588\u2588\u2588\u2588\u2588\u2588\u2588| 163kB 7.9MB/s eta 0:00:01\n\u001b[?25hCollecting idna<3,>=2.5 (from requests->pixiedust)\n\u001b[?25l  Downloading https://files.pythonhosted.org/packages/a2/38/928ddce2273eaa564f6f50de919327bf3a00f091b5baba8dfa9460f3a8a8/idna-2.10-py2.py3-none-any.whl (58kB)\n\u001b[K    100% |\u2588\u2588\u2588\u2588\u2588\u2588\u2588\u2588\u2588\u2588\u2588\u2588\u2588\u2588\u2588\u2588\u2588\u2588\u2588\u2588\u2588\u2588\u2588\u2588\u2588\u2588\u2588\u2588\u2588\u2588\u2588\u2588| 61kB 4.3MB/s eta 0:00:01\n\u001b[?25hCollecting MarkupSafe>=0.23 (from jinja2->mpld3->pixiedust)\n  Downloading https://files.pythonhosted.org/packages/b2/5f/23e0023be6bb885d00ffbefad2942bc51a620328ee910f64abe5a8d18dd1/MarkupSafe-1.1.1-cp36-cp36m-manylinux1_x86_64.whl\nCollecting kiwisolver>=1.0.1 (from matplotlib->mpld3->pixiedust)\n\u001b[?25l  Downloading https://files.pythonhosted.org/packages/ae/23/147de658aabbf968324551ea22c0c13a00284c4ef49a77002e91f79657b7/kiwisolver-1.2.0-cp36-cp36m-manylinux1_x86_64.whl (88kB)\n\u001b[K    100% |\u2588\u2588\u2588\u2588\u2588\u2588\u2588\u2588\u2588\u2588\u2588\u2588\u2588\u2588\u2588\u2588\u2588\u2588\u2588\u2588\u2588\u2588\u2588\u2588\u2588\u2588\u2588\u2588\u2588\u2588\u2588\u2588| 92kB 4.7MB/s eta 0:00:01\n\u001b[?25hCollecting pyparsing!=2.0.4,!=2.1.2,!=2.1.6,>=2.0.3 (from matplotlib->mpld3->pixiedust)\n\u001b[?25l  Downloading https://files.pythonhosted.org/packages/8a/bb/488841f56197b13700afd5658fc279a2025a39e22449b7cf29864669b15d/pyparsing-2.4.7-py2.py3-none-any.whl (67kB)\n\u001b[K    100% |\u2588\u2588\u2588\u2588\u2588\u2588\u2588\u2588\u2588\u2588\u2588\u2588\u2588\u2588\u2588\u2588\u2588\u2588\u2588\u2588\u2588\u2588\u2588\u2588\u2588\u2588\u2588\u2588\u2588\u2588\u2588\u2588| 71kB 4.6MB/s eta 0:00:01\n\u001b[?25hCollecting numpy>=1.15 (from matplotlib->mpld3->pixiedust)\n\u001b[?25l  Downloading https://files.pythonhosted.org/packages/b1/9a/7d474ba0860a41f771c9523d8c4ea56b084840b5ca4092d96bdee8a3b684/numpy-1.19.1-cp36-cp36m-manylinux2010_x86_64.whl (14.5MB)\n\u001b[K    100% |\u2588\u2588\u2588\u2588\u2588\u2588\u2588\u2588\u2588\u2588\u2588\u2588\u2588\u2588\u2588\u2588\u2588\u2588\u2588\u2588\u2588\u2588\u2588\u2588\u2588\u2588\u2588\u2588\u2588\u2588\u2588\u2588| 14.5MB 1.4MB/s eta 0:00:01\n\u001b[?25hCollecting python-dateutil>=2.1 (from matplotlib->mpld3->pixiedust)\n\u001b[?25l  Downloading https://files.pythonhosted.org/packages/d4/70/d60450c3dd48ef87586924207ae8907090de0b306af2bce5d134d78615cb/python_dateutil-2.8.1-py2.py3-none-any.whl (227kB)\n\u001b[K    100% |\u2588\u2588\u2588\u2588\u2588\u2588\u2588\u2588\u2588\u2588\u2588\u2588\u2588\u2588\u2588\u2588\u2588\u2588\u2588\u2588\u2588\u2588\u2588\u2588\u2588\u2588\u2588\u2588\u2588\u2588\u2588\u2588| 235kB 6.0MB/s eta 0:00:01\n\u001b[?25hCollecting pillow>=6.2.0 (from matplotlib->mpld3->pixiedust)\n\u001b[?25l  Downloading https://files.pythonhosted.org/packages/30/bf/92385b4262178ca22b34f82e0e09c2922eb351fe39f3cc7b8ba9ea555b41/Pillow-7.2.0-cp36-cp36m-manylinux1_x86_64.whl (2.2MB)\n\u001b[K    100% |\u2588\u2588\u2588\u2588\u2588\u2588\u2588\u2588\u2588\u2588\u2588\u2588\u2588\u2588\u2588\u2588\u2588\u2588\u2588\u2588\u2588\u2588\u2588\u2588\u2588\u2588\u2588\u2588\u2588\u2588\u2588\u2588| 2.2MB 5.3MB/s eta 0:00:01\n\u001b[?25hCollecting cycler>=0.10 (from matplotlib->mpld3->pixiedust)\n  Downloading https://files.pythonhosted.org/packages/f7/d2/e07d3ebb2bd7af696440ce7e754c59dd546ffe1bbe732c8ab68b9c834e61/cycler-0.10.0-py2.py3-none-any.whl\nCollecting zipp>=0.5 (from importlib-metadata; python_version < \"3.8\"->markdown->pixiedust)\n  Downloading https://files.pythonhosted.org/packages/b2/34/bfcb43cc0ba81f527bc4f40ef41ba2ff4080e047acb0586b56b3d017ace4/zipp-3.1.0-py3-none-any.whl\nBuilding wheels for collected packages: pixiedust, mpld3\n  Building wheel for pixiedust (setup.py) ... \u001b[?25ldone\n\u001b[?25h  Stored in directory: /home/spark/shared/.cache/pip/wheels/e8/b1/86/c2f2e16e6bf9bfe556f9dbf8adb9f41816c476d73078c7d0eb\n  Building wheel for mpld3 (setup.py) ... \u001b[?25ldone\n\u001b[?25h  Stored in directory: /home/spark/shared/.cache/pip/wheels/38/68/06/d119af6c3f9a2d1e123c1f72d276576b457131b3a7bf94e402\nSuccessfully built pixiedust mpld3\n\u001b[31mtensorflow 1.13.1 requires tensorboard<1.14.0,>=1.13.0, which is not installed.\u001b[0m\n\u001b[31mpytest-astropy 0.8.0 requires pytest-cov>=2.0, which is not installed.\u001b[0m\n\u001b[31mpytest-astropy 0.8.0 requires pytest-filter-subpackage>=0.1, which is not installed.\u001b[0m\n\u001b[31mpytest-openfiles 0.5.0 has requirement pytest>=4.6, but you'll have pytest 3.10.1 which is incompatible.\u001b[0m\n\u001b[31mpytest-doctestplus 0.7.0 has requirement pytest>=4.0, but you'll have pytest 3.10.1 which is incompatible.\u001b[0m\n\u001b[31mpytest-astropy 0.8.0 has requirement pytest>=4.6, but you'll have pytest 3.10.1 which is incompatible.\u001b[0m\n\u001b[31mibm-cos-sdk-core 2.6.0 has requirement requests<2.23,>=2.18, but you'll have requests 2.24.0 which is incompatible.\u001b[0m\n\u001b[31mbotocore 1.12.82 has requirement urllib3<1.25,>=1.20, but you'll have urllib3 1.25.10 which is incompatible.\u001b[0m\nInstalling collected packages: MarkupSafe, jinja2, kiwisolver, pyparsing, numpy, six, python-dateutil, pillow, cycler, matplotlib, mpld3, lxml, geojson, wheel, astunparse, zipp, importlib-metadata, markdown, colour, urllib3, chardet, certifi, idna, requests, pixiedust\nSuccessfully installed MarkupSafe-1.1.1 astunparse-1.6.3 certifi-2020.6.20 chardet-3.0.4 colour-0.1.5 cycler-0.10.0 geojson-2.5.0 idna-2.10 importlib-metadata-1.7.0 jinja2-2.11.2 kiwisolver-1.2.0 lxml-4.5.2 markdown-3.2.2 matplotlib-3.3.0 mpld3-0.5.1 numpy-1.19.1 pillow-7.2.0 pixiedust-1.1.18 pyparsing-2.4.7 python-dateutil-2.8.1 requests-2.24.0 six-1.15.0 urllib3-1.25.10 wheel-0.34.2 zipp-3.1.0\r\n"
                }
            ],
            "source": "## !pip install --upgrade pixiedust"
        },
        {
            "cell_type": "code",
            "execution_count": 2,
            "metadata": {},
            "outputs": [
                {
                    "name": "stdout",
                    "output_type": "stream",
                    "text": "Pixiedust database opened successfully\nTable VERSION_TRACKER created successfully\nTable METRICS_TRACKER created successfully\n\nShare anonymous install statistics? (opt-out instructions)\n\nPixieDust will record metadata on its environment the next time the package is installed or updated. The data is anonymized and aggregated to help plan for future releases, and records only the following values:\n\n{\n   \"data_sent\": currentDate,\n   \"runtime\": \"python\",\n   \"application_version\": currentPixiedustVersion,\n   \"space_id\": nonIdentifyingUniqueId,\n   \"config\": {\n       \"repository_id\": \"https://github.com/ibm-watson-data-lab/pixiedust\",\n       \"target_runtimes\": [\"Data Science Experience\"],\n       \"event_id\": \"web\",\n       \"event_organizer\": \"dev-journeys\"\n   }\n}\nYou can opt out by calling pixiedust.optOut() in a new cell.\n"
                },
                {
                    "data": {
                        "text/html": "\n        <div style=\"margin:10px\">\n            <a href=\"https://github.com/ibm-watson-data-lab/pixiedust\" target=\"_new\">\n                <img src=\"https://github.com/ibm-watson-data-lab/pixiedust/raw/master/docs/_static/pd_icon32.png\" style=\"float:left;margin-right:10px\"/>\n            </a>\n            <span>Pixiedust version 1.1.18</span>\n        </div>\n        ",
                        "text/plain": "<IPython.core.display.HTML object>"
                    },
                    "metadata": {},
                    "output_type": "display_data"
                },
                {
                    "name": "stdout",
                    "output_type": "stream",
                    "text": "\u001b[31mPixiedust runtime updated. Please restart kernel\u001b[0m\nTable SPARK_PACKAGES created successfully\nTable USER_PREFERENCES created successfully\nTable service_connections created successfully\nPackageManager is disabled because /home/spark/shared/user-libs/spark2/ is not on the Java Class Path. Please contact your administrator\nPackageManager is disabled because /home/spark/shared/user-libs/spark2/ is not on the Java Class Path. Please contact your administrator\n"
                }
            ],
            "source": "import pixiedust\npixiedust.installPackage(\"com.typesafe.play:play-json_2.11:2.5.9\")\npixiedust.installPackage(\"org.apache.bahir:spark-sql-cloudant_2.11:0\")"
        },
        {
            "cell_type": "markdown",
            "metadata": {},
            "source": "### CREATION OF SPARK OBJECT,READ THE CLOUDANT DATA AND CREATION OF DATAFRAME OUT OF IT"
        },
        {
            "cell_type": "code",
            "execution_count": 4,
            "metadata": {},
            "outputs": [],
            "source": "# Creating the spark session object\nspark = SparkSession.builder.getOrCreate()"
        },
        {
            "cell_type": "code",
            "execution_count": 5,
            "metadata": {},
            "outputs": [],
            "source": "# Reading the data from cloudant DB with passing respective credentials\ncloudantdata = spark.read.format(\"org.apache.bahir.cloudant\")\\\n    .option(\"cloudant.host\",\"af8283bb-2183-43be-bb89-f1d2d2194ef8-bluemix.cloudantnosqldb.appdomain.cloud\")\\\n    .option(\"cloudant.username\", \"af8283bb-2183-43be-bb89-f1d2d2194ef8-bluemix\")\\\n    .option(\"cloudant.password\",\"49aeaafa905e8c6187446ac9c2b813467a7b7c8cf87bb91a928f7a4c5af71fb1\")\\\n    .load(\"cloudantpartofnoderedbdgpz\")\n"
        },
        {
            "cell_type": "code",
            "execution_count": 6,
            "metadata": {},
            "outputs": [
                {
                    "name": "stdout",
                    "output_type": "stream",
                    "text": "root\n |-- _id: string (nullable = true)\n |-- _rev: string (nullable = true)\n |-- actions: array (nullable = true)\n |    |-- element: string (containsNull = true)\n |-- context: struct (nullable = true)\n |    |-- conversation_id: string (nullable = true)\n |    |-- location: string (nullable = true)\n |    |-- location_stats: struct (nullable = true)\n |    |    |-- result: string (nullable = true)\n |    |-- low_confidence: string (nullable = true)\n |    |-- name: string (nullable = true)\n |    |-- out_of_bounds: string (nullable = true)\n |    |-- summary: struct (nullable = true)\n |    |    |-- result: string (nullable = true)\n |    |-- system: struct (nullable = true)\n |    |    |-- _node_output_map: struct (nullable = true)\n |    |    |    |-- handler_10_1585096776761: array (nullable = true)\n |    |    |    |    |-- element: string (containsNull = true)\n |    |    |    |-- handler_5_1595417612094: array (nullable = true)\n |    |    |    |    |-- element: string (containsNull = true)\n |    |    |    |-- node_10_1595582357742: string (nullable = true)\n |    |    |    |-- node_11748: string (nullable = true)\n |    |    |    |-- node_11750: array (nullable = true)\n |    |    |    |    |-- element: string (containsNull = true)\n |    |    |    |-- node_11751: string (nullable = true)\n |    |    |    |-- node_11766: array (nullable = true)\n |    |    |    |    |-- element: string (containsNull = true)\n |    |    |    |-- node_11771: array (nullable = true)\n |    |    |    |    |-- element: string (containsNull = true)\n |    |    |    |-- node_11776: array (nullable = true)\n |    |    |    |    |-- element: string (containsNull = true)\n |    |    |    |-- node_11777: array (nullable = true)\n |    |    |    |    |-- element: string (containsNull = true)\n |    |    |    |-- node_11791: array (nullable = true)\n |    |    |    |    |-- element: string (containsNull = true)\n |    |    |    |-- node_6_1595581935202: string (nullable = true)\n |    |    |    |-- node_8_1595372184651: string (nullable = true)\n |    |    |    |-- node_8_1595581985039: string (nullable = true)\n |    |    |    |-- node_8_1595582061947: string (nullable = true)\n |    |    |    |-- response_10_1585074743918: array (nullable = true)\n |    |    |    |    |-- element: string (containsNull = true)\n |    |    |    |-- response_10_1585074744879: array (nullable = true)\n |    |    |    |    |-- element: string (containsNull = true)\n |    |    |    |-- response_1_1585095663277: string (nullable = true)\n |    |    |    |-- response_2_1595374273625: string (nullable = true)\n |    |    |    |-- response_4_1595371799873: string (nullable = true)\n |    |    |    |-- response_4_1595373223679: array (nullable = true)\n |    |    |    |    |-- element: array (containsNull = true)\n |    |    |    |    |    |-- element: string (containsNull = true)\n |    |    |    |-- response_7_1585095664425: array (nullable = true)\n |    |    |    |    |-- element: string (containsNull = true)\n |    |    |    |-- response_9_1585096897994: string (nullable = true)\n |    |    |-- branch_exited: boolean (nullable = true)\n |    |    |-- branch_exited_reason: string (nullable = true)\n |    |    |-- dialog_request_counter: long (nullable = true)\n |    |    |-- dialog_stack: array (nullable = true)\n |    |    |    |-- element: struct (containsNull = true)\n |    |    |    |    |-- dialog_node: string (nullable = true)\n |    |    |    |    |-- state: string (nullable = true)\n |    |    |-- dialog_turn_counter: long (nullable = true)\n |    |    |-- initialized: string (nullable = true)\n |    |    |-- last_branch_node: string (nullable = true)\n |    |-- webhook_result_2: struct (nullable = true)\n |    |    |-- result: string (nullable = true)\n |    |-- zipcode: string (nullable = true)\n |-- entities: array (nullable = true)\n |    |-- element: struct (containsNull = true)\n |    |    |-- confidence: double (nullable = true)\n |    |    |-- entity: string (nullable = true)\n |    |    |-- groups: array (nullable = true)\n |    |    |    |-- element: struct (containsNull = true)\n |    |    |    |    |-- group: string (nullable = true)\n |    |    |    |    |-- location: array (nullable = true)\n |    |    |    |    |    |-- element: long (containsNull = true)\n |    |    |-- interpretation: struct (nullable = true)\n |    |    |    |-- numeric_value: long (nullable = true)\n |    |    |    |-- subtype: string (nullable = true)\n |    |    |-- location: array (nullable = true)\n |    |    |    |-- element: long (containsNull = true)\n |    |    |-- value: string (nullable = true)\n |-- input: struct (nullable = true)\n |    |-- original_text: string (nullable = true)\n |    |-- text: string (nullable = true)\n |-- intents: array (nullable = true)\n |    |-- element: struct (containsNull = true)\n |    |    |-- confidence: double (nullable = true)\n |    |    |-- intent: string (nullable = true)\n |-- output: struct (nullable = true)\n |    |-- buttons: array (nullable = true)\n |    |    |-- element: struct (containsNull = true)\n |    |    |    |-- id: string (nullable = true)\n |    |-- disclaimers: array (nullable = true)\n |    |    |-- element: string (containsNull = true)\n |    |-- generic: array (nullable = true)\n |    |    |-- element: struct (containsNull = true)\n |    |    |    |-- response_type: string (nullable = true)\n |    |    |    |-- text: string (nullable = true)\n |    |-- log_messages: array (nullable = true)\n |    |    |-- element: struct (containsNull = true)\n |    |    |    |-- level: string (nullable = true)\n |    |    |    |-- msg: string (nullable = true)\n |    |    |    |-- node_id: string (nullable = true)\n |    |    |    |-- node_title: string (nullable = true)\n |    |-- nodes_visited: array (nullable = true)\n |    |    |-- element: string (containsNull = true)\n |    |-- text: array (nullable = true)\n |    |    |-- element: string (containsNull = true)\n |    |-- warning: string (nullable = true)\n\n"
                },
                {
                    "data": {
                        "text/plain": "673"
                    },
                    "execution_count": 6,
                    "metadata": {},
                    "output_type": "execute_result"
                }
            ],
            "source": "# This code prints the schema and a record count\ncloudantdata.printSchema()\ncloudantdata.count()"
        },
        {
            "cell_type": "code",
            "execution_count": 7,
            "metadata": {},
            "outputs": [
                {
                    "name": "stdout",
                    "output_type": "stream",
                    "text": "+----------+-------+--------------------+\n|      name|zipcode|              intent|\n+----------+-------+--------------------+\n|   Hemanth|  21215|[Enter_your_Zipcode]|\n|  Michelle|  33023|   [Enter_your_name]|\n|   Hemanth|  22314|        [Prevention]|\n|   Hemanth|  85013|        [Prevention]|\n|   Hemanth|  11203|          [goodbyes]|\n|   Krishna| 123456|          [greeting]|\n|   Krishna| 123456|          [greeting]|\n|   Krishna| 123456|          [greeting]|\n|    Pavani|  95134|          [greeting]|\n|      John|  21215|   [Enter_your_name]|\n|      John|  85013|[Enter_your_Zipcode]|\n|Tony Stark|  21215|   [Enter_your_name]|\n|   Hemanth|  11203|          [greeting]|\n|   Timothy|  21224|   [Enter_your_name]|\n|   Timothy|  11203|                  []|\n|     James|  11203|   [Enter_your_name]|\n|     James|  21215|          [greeting]|\n|   Matthew|  21215|   [HandwashingTips]|\n|   Anthony|  21215|   [Enter_your_name]|\n|   Anthony|  95134|   [HandwashingTips]|\n+----------+-------+--------------------+\nonly showing top 20 rows\n\n"
                }
            ],
            "source": "#Selectiong the required data from the cloudant datasource\ncovid19Data = cloudantdata.select(\"context.name\",\"context.zipcode\",\"intents.intent\")\ncovid19Data.show()"
        },
        {
            "cell_type": "code",
            "execution_count": 8,
            "metadata": {},
            "outputs": [
                {
                    "name": "stdout",
                    "output_type": "stream",
                    "text": "                     name zipcode                      intent\n0                 Hemanth   21215        [Enter_your_Zipcode]\n1                Michelle   33023           [Enter_your_name]\n2                 Hemanth   22314                [Prevention]\n3                 Hemanth   85013                [Prevention]\n4                 Hemanth   11203                  [goodbyes]\n5                 Krishna  123456                  [greeting]\n6                 Krishna  123456                  [greeting]\n7                 Krishna  123456                  [greeting]\n8                  Pavani   95134                  [greeting]\n9                    John   21215           [Enter_your_name]\n10                   John   85013        [Enter_your_Zipcode]\n11             Tony Stark   21215           [Enter_your_name]\n12                Hemanth   11203                  [greeting]\n13                Timothy   21224           [Enter_your_name]\n14                Timothy   11203                          []\n15                  James   11203           [Enter_your_name]\n16                  James   21215                  [greeting]\n17                Matthew   21215           [HandwashingTips]\n18                Anthony   21215           [Enter_your_name]\n19                Anthony   95134           [HandwashingTips]\n20                Anthony   95134        [Symptomsinchildren]\n21                Hemanth   11203     [CoughRelatedQuestions]\n22            Emma Watson   21215                          []\n23                Hemanth   95134           [HandwashingTips]\n24            Emma Watson   10004  [BodyPainRelatedQuestions]\n25             Tony Stark   21215                   [Testing]\n26         Anushka Sharma   10004            [How_many_cases]\n27         Anushka Sharma   10004  [BodyPainRelatedQuestions]\n28                  Brian   22314                  [greeting]\n29                Krishna  123456                  [Symptoms]\n..                    ...     ...                         ...\n643                Robert   10032                [Prevention]\n644           Christopher   10021      [ColdRelatedQuestions]\n645           Christopher   10021                  [greeting]\n646                 Brian   22314                  [greeting]\n647               Krishna  123456          [GenericQuestions]\n648               Michael   10004      [ColdRelatedQuestions]\n649                Joseph   10004                  [Symptoms]\n650                Joseph   10004            [How_many_cases]\n651                Joseph   10004           [HandwashingTips]\n652               Charles   22314                [Prevention]\n653  Atal Bihari Vajpayee   11354                  [greeting]\n654               Hemanth   22314                  [greeting]\n655               Hemanth   22314           [Enter_your_name]\n656                 Donna   33023                  [greeting]\n657         Indira Gandhi   30024                  [greeting]\n658         Indira Gandhi  760005        [Enter_your_Zipcode]\n659          Bhagat Singh   11354                  [greeting]\n660               Anthony   95134  [BodyPainRelatedQuestions]\n661               Anthony   95134                  [greeting]\n662              Michelle   11223        [Enter_your_Zipcode]\n663               Krishna  123456                  [greeting]\n664               Krishna  123456                          []\n665               Hemanth   10021        [Enter_your_Zipcode]\n666                Robert   21224                  [greeting]\n667               Krishna  123456        [Enter_your_Zipcode]\n668               Krishna  123456        [Enter_your_Zipcode]\n669               Krishna  123456                  [greeting]\n670               Hemanth   95134           [Enter_your_name]\n671           Emma Watson   10021          [GenericQuestions]\n672           Emma Watson   10021                  [greeting]\n\n[673 rows x 3 columns]\n"
                }
            ],
            "source": "# Converting the read coviddata from cloudant db to pandas data frame\nimport pandas as pd\ncovidDF = covid19Data.toPandas()\nprint(covidDF)"
        },
        {
            "cell_type": "markdown",
            "metadata": {},
            "source": "### PROCESSING AND HANDLING DATA for MODEL BUILDING"
        },
        {
            "cell_type": "code",
            "execution_count": 9,
            "metadata": {},
            "outputs": [
                {
                    "data": {
                        "text/html": "<div>\n<style scoped>\n    .dataframe tbody tr th:only-of-type {\n        vertical-align: middle;\n    }\n\n    .dataframe tbody tr th {\n        vertical-align: top;\n    }\n\n    .dataframe thead th {\n        text-align: right;\n    }\n</style>\n<table border=\"1\" class=\"dataframe\">\n  <thead>\n    <tr style=\"text-align: right;\">\n      <th></th>\n      <th>name</th>\n      <th>zipcode</th>\n      <th>intent</th>\n    </tr>\n  </thead>\n  <tbody>\n    <tr>\n      <th>668</th>\n      <td>Krishna</td>\n      <td>123456</td>\n      <td>[Enter_your_Zipcode]</td>\n    </tr>\n    <tr>\n      <th>669</th>\n      <td>Krishna</td>\n      <td>123456</td>\n      <td>[greeting]</td>\n    </tr>\n    <tr>\n      <th>670</th>\n      <td>Hemanth</td>\n      <td>95134</td>\n      <td>[Enter_your_name]</td>\n    </tr>\n    <tr>\n      <th>671</th>\n      <td>Emma Watson</td>\n      <td>10021</td>\n      <td>[GenericQuestions]</td>\n    </tr>\n    <tr>\n      <th>672</th>\n      <td>Emma Watson</td>\n      <td>10021</td>\n      <td>[greeting]</td>\n    </tr>\n  </tbody>\n</table>\n</div>",
                        "text/plain": "            name zipcode                intent\n668      Krishna  123456  [Enter_your_Zipcode]\n669      Krishna  123456            [greeting]\n670      Hemanth   95134     [Enter_your_name]\n671  Emma Watson   10021    [GenericQuestions]\n672  Emma Watson   10021            [greeting]"
                    },
                    "execution_count": 9,
                    "metadata": {},
                    "output_type": "execute_result"
                }
            ],
            "source": "# Check on how data looks for further processing\ncovidDF.tail()"
        },
        {
            "cell_type": "code",
            "execution_count": 10,
            "metadata": {},
            "outputs": [
                {
                    "data": {
                        "text/plain": "11203     64\n21215     63\n22314     63\n11223     62\n85013     55\n10021     48\n10032     47\n123456    41\n10004     41\n95134     39\n22003     30\n11354     28\n30024     26\n760005    17\n21224     14\n33023     13\n500089    11\n10005     10\nName: zipcode, dtype: int64"
                    },
                    "execution_count": 10,
                    "metadata": {},
                    "output_type": "execute_result"
                }
            ],
            "source": "# Check on zipcodes and names \nprint(covidDF.name.value_counts())\nprint(covidDF.zipcode.value_counts())"
        },
        {
            "cell_type": "code",
            "execution_count": 11,
            "metadata": {},
            "outputs": [],
            "source": "# Creating copy for further processing \ncovidDataProcess = covidDF.copy()"
        },
        {
            "cell_type": "code",
            "execution_count": 12,
            "metadata": {},
            "outputs": [
                {
                    "data": {
                        "text/html": "<div>\n<style scoped>\n    .dataframe tbody tr th:only-of-type {\n        vertical-align: middle;\n    }\n\n    .dataframe tbody tr th {\n        vertical-align: top;\n    }\n\n    .dataframe thead th {\n        text-align: right;\n    }\n</style>\n<table border=\"1\" class=\"dataframe\">\n  <thead>\n    <tr style=\"text-align: right;\">\n      <th></th>\n      <th>name</th>\n      <th>zipcode</th>\n      <th>intent</th>\n    </tr>\n  </thead>\n  <tbody>\n    <tr>\n      <th>0</th>\n      <td>Hemanth</td>\n      <td>21215</td>\n      <td>[Enter_your_Zipcode]</td>\n    </tr>\n    <tr>\n      <th>1</th>\n      <td>Michelle</td>\n      <td>33023</td>\n      <td>[Enter_your_name]</td>\n    </tr>\n    <tr>\n      <th>2</th>\n      <td>Hemanth</td>\n      <td>22314</td>\n      <td>[Prevention]</td>\n    </tr>\n    <tr>\n      <th>3</th>\n      <td>Hemanth</td>\n      <td>85013</td>\n      <td>[Prevention]</td>\n    </tr>\n    <tr>\n      <th>4</th>\n      <td>Hemanth</td>\n      <td>11203</td>\n      <td>[goodbyes]</td>\n    </tr>\n    <tr>\n      <th>5</th>\n      <td>Krishna</td>\n      <td>123456</td>\n      <td>[greeting]</td>\n    </tr>\n    <tr>\n      <th>6</th>\n      <td>Krishna</td>\n      <td>123456</td>\n      <td>[greeting]</td>\n    </tr>\n    <tr>\n      <th>7</th>\n      <td>Krishna</td>\n      <td>123456</td>\n      <td>[greeting]</td>\n    </tr>\n    <tr>\n      <th>8</th>\n      <td>Pavani</td>\n      <td>95134</td>\n      <td>[greeting]</td>\n    </tr>\n    <tr>\n      <th>9</th>\n      <td>John</td>\n      <td>21215</td>\n      <td>[Enter_your_name]</td>\n    </tr>\n  </tbody>\n</table>\n</div>",
                        "text/plain": "       name zipcode                intent\n0   Hemanth   21215  [Enter_your_Zipcode]\n1  Michelle   33023     [Enter_your_name]\n2   Hemanth   22314          [Prevention]\n3   Hemanth   85013          [Prevention]\n4   Hemanth   11203            [goodbyes]\n5   Krishna  123456            [greeting]\n6   Krishna  123456            [greeting]\n7   Krishna  123456            [greeting]\n8    Pavani   95134            [greeting]\n9      John   21215     [Enter_your_name]"
                    },
                    "execution_count": 12,
                    "metadata": {},
                    "output_type": "execute_result"
                }
            ],
            "source": "covidDataProcess.head(10)"
        },
        {
            "cell_type": "code",
            "execution_count": 13,
            "metadata": {},
            "outputs": [],
            "source": "# Remove of duplicates from the data\ncovidDataProcess = covidDataProcess.loc[covidDataProcess.astype(str).drop_duplicates().index]"
        },
        {
            "cell_type": "markdown",
            "metadata": {},
            "source": "### REMOVAL OF SPECIAL CHARACTERS and handling columns for processing"
        },
        {
            "cell_type": "code",
            "execution_count": 14,
            "metadata": {},
            "outputs": [],
            "source": "# Removal of special characters from the column data\ncovidDataProcess['intent'] = covidDataProcess['intent'].astype(str).str.strip('[]')"
        },
        {
            "cell_type": "code",
            "execution_count": 15,
            "metadata": {},
            "outputs": [],
            "source": "covidDataProcess['questions'] = covidDataProcess['intent'].astype(str)"
        },
        {
            "cell_type": "code",
            "execution_count": 16,
            "metadata": {},
            "outputs": [],
            "source": "covidDataProcess['questions'] = covidDataProcess['questions'].str.replace('\\'', '')"
        },
        {
            "cell_type": "code",
            "execution_count": 17,
            "metadata": {},
            "outputs": [
                {
                    "data": {
                        "text/plain": "Enter_your_name             61\ngreeting                    57\nEnter_your_Zipcode          53\ngoodbyes                    34\nGenericQuestions            31\nHandwashingTips             31\nHow_many_cases              31\nTesting                     31\nPrevention                  26\nSymptoms                    25\nColdRelatedQuestions        25\nCoughRelatedQuestions       24\nBodyPainRelatedQuestions    22\nSymptomsinchildren          21\n                            15\nAttendingFuneral             1\nAnimalContact                1\nspreadviafood                1\nName: questions, dtype: int64"
                    },
                    "execution_count": 17,
                    "metadata": {},
                    "output_type": "execute_result"
                }
            ],
            "source": "covidDataProcess.questions.value_counts()"
        },
        {
            "cell_type": "markdown",
            "metadata": {},
            "source": "### Deleting of columns which doesnt add any benefit for model building ,as the below columns like \n      1) greeting,enter_your_name,enter_your_zipcode,goodbyes doesnt add any benefit as predictor variables"
        },
        {
            "cell_type": "code",
            "execution_count": 18,
            "metadata": {},
            "outputs": [],
            "source": "# Excluding the columns which are of no use\ncovidDataAfterProcess = covidDataProcess[(covidDataProcess.questions!='greeting') & (covidDataProcess.questions!='Enter_your_name') & (covidDataProcess.questions!='Enter_your_Zipcode') & (covidDataProcess.questions!='goodbyes')]"
        },
        {
            "cell_type": "code",
            "execution_count": 19,
            "metadata": {},
            "outputs": [
                {
                    "data": {
                        "text/plain": "(285, 4)"
                    },
                    "execution_count": 19,
                    "metadata": {},
                    "output_type": "execute_result"
                }
            ],
            "source": "# currently we have a dimension of 285 columns\ncovidDataAfterProcess.shape"
        },
        {
            "cell_type": "code",
            "execution_count": 20,
            "metadata": {},
            "outputs": [],
            "source": "# Droping the intent column as we made a copy for the same\ncovidDataAfterProcess = covidDataAfterProcess.drop(['intent'],axis=1)"
        },
        {
            "cell_type": "code",
            "execution_count": 21,
            "metadata": {},
            "outputs": [],
            "source": "# Excluding the null column data\ncovidDataAfterProcess = covidDataAfterProcess[covidDataAfterProcess['questions']!='']"
        },
        {
            "cell_type": "code",
            "execution_count": 22,
            "metadata": {},
            "outputs": [],
            "source": "# creation of new column covidanswer to append the same to the question asked by user in chatbot\ncovidDataAfterProcess['covidanswer']='1';"
        },
        {
            "cell_type": "markdown",
            "metadata": {},
            "source": "### Creation of PIVOT table and converting the LONG rows to WIDE columns"
        },
        {
            "cell_type": "code",
            "execution_count": 24,
            "metadata": {},
            "outputs": [],
            "source": "pivoted=covidDataAfterProcess.pivot_table(index='name', columns='questions', values=['covidanswer'], aggfunc='first')"
        },
        {
            "cell_type": "code",
            "execution_count": 25,
            "metadata": {},
            "outputs": [],
            "source": "flattened = pd.DataFrame(pivoted.to_records())"
        },
        {
            "cell_type": "code",
            "execution_count": 26,
            "metadata": {},
            "outputs": [
                {
                    "data": {
                        "text/html": "<div>\n<style scoped>\n    .dataframe tbody tr th:only-of-type {\n        vertical-align: middle;\n    }\n\n    .dataframe tbody tr th {\n        vertical-align: top;\n    }\n\n    .dataframe thead th {\n        text-align: right;\n    }\n</style>\n<table border=\"1\" class=\"dataframe\">\n  <thead>\n    <tr style=\"text-align: right;\">\n      <th></th>\n      <th>name</th>\n      <th>AnimalContact</th>\n      <th>AttendingFuneral</th>\n      <th>BodyPainRelatedQuestions</th>\n      <th>ColdRelatedQuestions</th>\n      <th>CoughRelatedQuestions</th>\n      <th>GenericQuestions</th>\n      <th>HandwashingTips</th>\n      <th>How_many_cases</th>\n      <th>Prevention</th>\n      <th>Symptoms</th>\n      <th>Symptomsinchildren</th>\n      <th>Testing</th>\n      <th>spreadviafood</th>\n    </tr>\n  </thead>\n  <tbody>\n    <tr>\n      <th>0</th>\n      <td>Adolf Hitler</td>\n      <td>NaN</td>\n      <td>NaN</td>\n      <td>NaN</td>\n      <td>1</td>\n      <td>NaN</td>\n      <td>NaN</td>\n      <td>1</td>\n      <td>1</td>\n      <td>1</td>\n      <td>NaN</td>\n      <td>NaN</td>\n      <td>NaN</td>\n      <td>NaN</td>\n    </tr>\n    <tr>\n      <th>1</th>\n      <td>Amanda</td>\n      <td>NaN</td>\n      <td>NaN</td>\n      <td>NaN</td>\n      <td>NaN</td>\n      <td>1</td>\n      <td>NaN</td>\n      <td>NaN</td>\n      <td>NaN</td>\n      <td>1</td>\n      <td>NaN</td>\n      <td>NaN</td>\n      <td>NaN</td>\n      <td>NaN</td>\n    </tr>\n    <tr>\n      <th>2</th>\n      <td>Anthony</td>\n      <td>NaN</td>\n      <td>NaN</td>\n      <td>1</td>\n      <td>1</td>\n      <td>1</td>\n      <td>1</td>\n      <td>1</td>\n      <td>1</td>\n      <td>1</td>\n      <td>NaN</td>\n      <td>1</td>\n      <td>1</td>\n      <td>NaN</td>\n    </tr>\n    <tr>\n      <th>3</th>\n      <td>Anushka Sharma</td>\n      <td>NaN</td>\n      <td>NaN</td>\n      <td>1</td>\n      <td>NaN</td>\n      <td>NaN</td>\n      <td>1</td>\n      <td>NaN</td>\n      <td>1</td>\n      <td>NaN</td>\n      <td>NaN</td>\n      <td>1</td>\n      <td>1</td>\n      <td>NaN</td>\n    </tr>\n    <tr>\n      <th>4</th>\n      <td>Arvind Krishna</td>\n      <td>NaN</td>\n      <td>NaN</td>\n      <td>NaN</td>\n      <td>NaN</td>\n      <td>NaN</td>\n      <td>1</td>\n      <td>NaN</td>\n      <td>NaN</td>\n      <td>NaN</td>\n      <td>1</td>\n      <td>NaN</td>\n      <td>1</td>\n      <td>NaN</td>\n    </tr>\n    <tr>\n      <th>5</th>\n      <td>Atal Bihari Vajpayee</td>\n      <td>NaN</td>\n      <td>NaN</td>\n      <td>1</td>\n      <td>NaN</td>\n      <td>1</td>\n      <td>NaN</td>\n      <td>1</td>\n      <td>NaN</td>\n      <td>NaN</td>\n      <td>NaN</td>\n      <td>NaN</td>\n      <td>NaN</td>\n      <td>NaN</td>\n    </tr>\n    <tr>\n      <th>6</th>\n      <td>Bhagat Singh</td>\n      <td>NaN</td>\n      <td>NaN</td>\n      <td>NaN</td>\n      <td>NaN</td>\n      <td>NaN</td>\n      <td>NaN</td>\n      <td>1</td>\n      <td>1</td>\n      <td>NaN</td>\n      <td>NaN</td>\n      <td>1</td>\n      <td>NaN</td>\n      <td>NaN</td>\n    </tr>\n    <tr>\n      <th>7</th>\n      <td>Brian</td>\n      <td>NaN</td>\n      <td>NaN</td>\n      <td>NaN</td>\n      <td>1</td>\n      <td>NaN</td>\n      <td>1</td>\n      <td>1</td>\n      <td>NaN</td>\n      <td>1</td>\n      <td>NaN</td>\n      <td>NaN</td>\n      <td>1</td>\n      <td>NaN</td>\n    </tr>\n    <tr>\n      <th>8</th>\n      <td>Charles</td>\n      <td>NaN</td>\n      <td>NaN</td>\n      <td>NaN</td>\n      <td>1</td>\n      <td>NaN</td>\n      <td>1</td>\n      <td>1</td>\n      <td>1</td>\n      <td>1</td>\n      <td>NaN</td>\n      <td>NaN</td>\n      <td>1</td>\n      <td>NaN</td>\n    </tr>\n    <tr>\n      <th>9</th>\n      <td>Christopher</td>\n      <td>NaN</td>\n      <td>NaN</td>\n      <td>1</td>\n      <td>1</td>\n      <td>NaN</td>\n      <td>1</td>\n      <td>NaN</td>\n      <td>1</td>\n      <td>NaN</td>\n      <td>1</td>\n      <td>NaN</td>\n      <td>NaN</td>\n      <td>NaN</td>\n    </tr>\n    <tr>\n      <th>10</th>\n      <td>Daniel</td>\n      <td>NaN</td>\n      <td>NaN</td>\n      <td>NaN</td>\n      <td>NaN</td>\n      <td>NaN</td>\n      <td>1</td>\n      <td>NaN</td>\n      <td>1</td>\n      <td>1</td>\n      <td>NaN</td>\n      <td>NaN</td>\n      <td>1</td>\n      <td>NaN</td>\n    </tr>\n    <tr>\n      <th>11</th>\n      <td>David</td>\n      <td>NaN</td>\n      <td>NaN</td>\n      <td>NaN</td>\n      <td>1</td>\n      <td>NaN</td>\n      <td>1</td>\n      <td>NaN</td>\n      <td>NaN</td>\n      <td>NaN</td>\n      <td>1</td>\n      <td>1</td>\n      <td>1</td>\n      <td>NaN</td>\n    </tr>\n    <tr>\n      <th>12</th>\n      <td>Deborah</td>\n      <td>NaN</td>\n      <td>NaN</td>\n      <td>1</td>\n      <td>NaN</td>\n      <td>NaN</td>\n      <td>NaN</td>\n      <td>1</td>\n      <td>NaN</td>\n      <td>NaN</td>\n      <td>NaN</td>\n      <td>NaN</td>\n      <td>NaN</td>\n      <td>NaN</td>\n    </tr>\n    <tr>\n      <th>13</th>\n      <td>Donna</td>\n      <td>NaN</td>\n      <td>NaN</td>\n      <td>NaN</td>\n      <td>NaN</td>\n      <td>NaN</td>\n      <td>1</td>\n      <td>NaN</td>\n      <td>1</td>\n      <td>NaN</td>\n      <td>NaN</td>\n      <td>1</td>\n      <td>NaN</td>\n      <td>NaN</td>\n    </tr>\n    <tr>\n      <th>14</th>\n      <td>Edward</td>\n      <td>NaN</td>\n      <td>NaN</td>\n      <td>NaN</td>\n      <td>NaN</td>\n      <td>NaN</td>\n      <td>1</td>\n      <td>NaN</td>\n      <td>NaN</td>\n      <td>NaN</td>\n      <td>NaN</td>\n      <td>NaN</td>\n      <td>NaN</td>\n      <td>NaN</td>\n    </tr>\n    <tr>\n      <th>15</th>\n      <td>Emma Watson</td>\n      <td>NaN</td>\n      <td>NaN</td>\n      <td>1</td>\n      <td>1</td>\n      <td>1</td>\n      <td>1</td>\n      <td>1</td>\n      <td>1</td>\n      <td>1</td>\n      <td>1</td>\n      <td>1</td>\n      <td>1</td>\n      <td>NaN</td>\n    </tr>\n    <tr>\n      <th>16</th>\n      <td>Gul Panag</td>\n      <td>NaN</td>\n      <td>NaN</td>\n      <td>NaN</td>\n      <td>1</td>\n      <td>1</td>\n      <td>NaN</td>\n      <td>NaN</td>\n      <td>1</td>\n      <td>1</td>\n      <td>NaN</td>\n      <td>NaN</td>\n      <td>NaN</td>\n      <td>NaN</td>\n    </tr>\n    <tr>\n      <th>17</th>\n      <td>Hemanth</td>\n      <td>NaN</td>\n      <td>NaN</td>\n      <td>1</td>\n      <td>1</td>\n      <td>1</td>\n      <td>1</td>\n      <td>1</td>\n      <td>1</td>\n      <td>1</td>\n      <td>1</td>\n      <td>1</td>\n      <td>1</td>\n      <td>NaN</td>\n    </tr>\n    <tr>\n      <th>18</th>\n      <td>Indira Gandhi</td>\n      <td>NaN</td>\n      <td>1</td>\n      <td>1</td>\n      <td>1</td>\n      <td>1</td>\n      <td>1</td>\n      <td>1</td>\n      <td>1</td>\n      <td>1</td>\n      <td>1</td>\n      <td>NaN</td>\n      <td>1</td>\n      <td>NaN</td>\n    </tr>\n    <tr>\n      <th>19</th>\n      <td>James</td>\n      <td>NaN</td>\n      <td>NaN</td>\n      <td>1</td>\n      <td>1</td>\n      <td>1</td>\n      <td>NaN</td>\n      <td>NaN</td>\n      <td>1</td>\n      <td>NaN</td>\n      <td>1</td>\n      <td>1</td>\n      <td>NaN</td>\n      <td>NaN</td>\n    </tr>\n    <tr>\n      <th>20</th>\n      <td>John</td>\n      <td>NaN</td>\n      <td>NaN</td>\n      <td>1</td>\n      <td>1</td>\n      <td>1</td>\n      <td>1</td>\n      <td>NaN</td>\n      <td>1</td>\n      <td>1</td>\n      <td>NaN</td>\n      <td>1</td>\n      <td>NaN</td>\n      <td>NaN</td>\n    </tr>\n    <tr>\n      <th>21</th>\n      <td>Jonny Depp</td>\n      <td>NaN</td>\n      <td>NaN</td>\n      <td>NaN</td>\n      <td>NaN</td>\n      <td>NaN</td>\n      <td>1</td>\n      <td>1</td>\n      <td>NaN</td>\n      <td>1</td>\n      <td>1</td>\n      <td>1</td>\n      <td>NaN</td>\n      <td>NaN</td>\n    </tr>\n    <tr>\n      <th>22</th>\n      <td>Joseph</td>\n      <td>NaN</td>\n      <td>NaN</td>\n      <td>1</td>\n      <td>NaN</td>\n      <td>1</td>\n      <td>NaN</td>\n      <td>1</td>\n      <td>1</td>\n      <td>1</td>\n      <td>1</td>\n      <td>1</td>\n      <td>NaN</td>\n      <td>NaN</td>\n    </tr>\n    <tr>\n      <th>23</th>\n      <td>Kimberly</td>\n      <td>NaN</td>\n      <td>NaN</td>\n      <td>NaN</td>\n      <td>1</td>\n      <td>1</td>\n      <td>NaN</td>\n      <td>NaN</td>\n      <td>NaN</td>\n      <td>1</td>\n      <td>NaN</td>\n      <td>1</td>\n      <td>NaN</td>\n      <td>NaN</td>\n    </tr>\n    <tr>\n      <th>24</th>\n      <td>Krishna</td>\n      <td>NaN</td>\n      <td>NaN</td>\n      <td>NaN</td>\n      <td>NaN</td>\n      <td>NaN</td>\n      <td>1</td>\n      <td>1</td>\n      <td>NaN</td>\n      <td>NaN</td>\n      <td>1</td>\n      <td>NaN</td>\n      <td>1</td>\n      <td>1</td>\n    </tr>\n    <tr>\n      <th>25</th>\n      <td>Mark</td>\n      <td>NaN</td>\n      <td>NaN</td>\n      <td>NaN</td>\n      <td>1</td>\n      <td>NaN</td>\n      <td>NaN</td>\n      <td>NaN</td>\n      <td>1</td>\n      <td>NaN</td>\n      <td>NaN</td>\n      <td>NaN</td>\n      <td>1</td>\n      <td>NaN</td>\n    </tr>\n    <tr>\n      <th>26</th>\n      <td>Matthew</td>\n      <td>NaN</td>\n      <td>NaN</td>\n      <td>NaN</td>\n      <td>NaN</td>\n      <td>NaN</td>\n      <td>1</td>\n      <td>1</td>\n      <td>NaN</td>\n      <td>NaN</td>\n      <td>NaN</td>\n      <td>NaN</td>\n      <td>1</td>\n      <td>NaN</td>\n    </tr>\n    <tr>\n      <th>27</th>\n      <td>Melissa</td>\n      <td>NaN</td>\n      <td>NaN</td>\n      <td>NaN</td>\n      <td>1</td>\n      <td>1</td>\n      <td>NaN</td>\n      <td>NaN</td>\n      <td>NaN</td>\n      <td>NaN</td>\n      <td>1</td>\n      <td>NaN</td>\n      <td>1</td>\n      <td>NaN</td>\n    </tr>\n    <tr>\n      <th>28</th>\n      <td>Michael</td>\n      <td>NaN</td>\n      <td>NaN</td>\n      <td>1</td>\n      <td>1</td>\n      <td>1</td>\n      <td>1</td>\n      <td>NaN</td>\n      <td>1</td>\n      <td>NaN</td>\n      <td>1</td>\n      <td>NaN</td>\n      <td>1</td>\n      <td>NaN</td>\n    </tr>\n    <tr>\n      <th>29</th>\n      <td>Michelle</td>\n      <td>NaN</td>\n      <td>NaN</td>\n      <td>NaN</td>\n      <td>NaN</td>\n      <td>NaN</td>\n      <td>NaN</td>\n      <td>1</td>\n      <td>1</td>\n      <td>NaN</td>\n      <td>NaN</td>\n      <td>NaN</td>\n      <td>NaN</td>\n      <td>NaN</td>\n    </tr>\n    <tr>\n      <th>30</th>\n      <td>Paul</td>\n      <td>NaN</td>\n      <td>NaN</td>\n      <td>1</td>\n      <td>1</td>\n      <td>1</td>\n      <td>1</td>\n      <td>1</td>\n      <td>NaN</td>\n      <td>1</td>\n      <td>1</td>\n      <td>1</td>\n      <td>1</td>\n      <td>NaN</td>\n    </tr>\n    <tr>\n      <th>31</th>\n      <td>Pavani</td>\n      <td>NaN</td>\n      <td>NaN</td>\n      <td>NaN</td>\n      <td>NaN</td>\n      <td>NaN</td>\n      <td>NaN</td>\n      <td>NaN</td>\n      <td>1</td>\n      <td>NaN</td>\n      <td>1</td>\n      <td>NaN</td>\n      <td>NaN</td>\n      <td>NaN</td>\n    </tr>\n    <tr>\n      <th>32</th>\n      <td>Richard</td>\n      <td>NaN</td>\n      <td>NaN</td>\n      <td>NaN</td>\n      <td>NaN</td>\n      <td>NaN</td>\n      <td>NaN</td>\n      <td>1</td>\n      <td>NaN</td>\n      <td>1</td>\n      <td>1</td>\n      <td>NaN</td>\n      <td>1</td>\n      <td>NaN</td>\n    </tr>\n    <tr>\n      <th>33</th>\n      <td>Robert</td>\n      <td>1</td>\n      <td>NaN</td>\n      <td>NaN</td>\n      <td>NaN</td>\n      <td>NaN</td>\n      <td>1</td>\n      <td>NaN</td>\n      <td>1</td>\n      <td>1</td>\n      <td>1</td>\n      <td>NaN</td>\n      <td>1</td>\n      <td>NaN</td>\n    </tr>\n    <tr>\n      <th>34</th>\n      <td>Sandra</td>\n      <td>NaN</td>\n      <td>NaN</td>\n      <td>1</td>\n      <td>NaN</td>\n      <td>NaN</td>\n      <td>NaN</td>\n      <td>1</td>\n      <td>1</td>\n      <td>NaN</td>\n      <td>NaN</td>\n      <td>NaN</td>\n      <td>NaN</td>\n      <td>NaN</td>\n    </tr>\n    <tr>\n      <th>35</th>\n      <td>Timothy</td>\n      <td>NaN</td>\n      <td>NaN</td>\n      <td>NaN</td>\n      <td>NaN</td>\n      <td>1</td>\n      <td>NaN</td>\n      <td>1</td>\n      <td>NaN</td>\n      <td>NaN</td>\n      <td>1</td>\n      <td>NaN</td>\n      <td>1</td>\n      <td>NaN</td>\n    </tr>\n    <tr>\n      <th>36</th>\n      <td>Tony Stark</td>\n      <td>NaN</td>\n      <td>NaN</td>\n      <td>1</td>\n      <td>1</td>\n      <td>1</td>\n      <td>1</td>\n      <td>1</td>\n      <td>1</td>\n      <td>1</td>\n      <td>1</td>\n      <td>1</td>\n      <td>1</td>\n      <td>NaN</td>\n    </tr>\n    <tr>\n      <th>37</th>\n      <td>William</td>\n      <td>NaN</td>\n      <td>NaN</td>\n      <td>NaN</td>\n      <td>NaN</td>\n      <td>NaN</td>\n      <td>1</td>\n      <td>NaN</td>\n      <td>NaN</td>\n      <td>1</td>\n      <td>NaN</td>\n      <td>NaN</td>\n      <td>NaN</td>\n      <td>NaN</td>\n    </tr>\n  </tbody>\n</table>\n</div>",
                        "text/plain": "                    name  AnimalContact  AttendingFuneral  \\\n0           Adolf Hitler            NaN               NaN   \n1                 Amanda            NaN               NaN   \n2                Anthony            NaN               NaN   \n3         Anushka Sharma            NaN               NaN   \n4         Arvind Krishna            NaN               NaN   \n5   Atal Bihari Vajpayee            NaN               NaN   \n6           Bhagat Singh            NaN               NaN   \n7                  Brian            NaN               NaN   \n8                Charles            NaN               NaN   \n9            Christopher            NaN               NaN   \n10                Daniel            NaN               NaN   \n11                 David            NaN               NaN   \n12               Deborah            NaN               NaN   \n13                 Donna            NaN               NaN   \n14                Edward            NaN               NaN   \n15           Emma Watson            NaN               NaN   \n16             Gul Panag            NaN               NaN   \n17               Hemanth            NaN               NaN   \n18         Indira Gandhi            NaN                 1   \n19                 James            NaN               NaN   \n20                  John            NaN               NaN   \n21            Jonny Depp            NaN               NaN   \n22                Joseph            NaN               NaN   \n23              Kimberly            NaN               NaN   \n24               Krishna            NaN               NaN   \n25                  Mark            NaN               NaN   \n26               Matthew            NaN               NaN   \n27               Melissa            NaN               NaN   \n28               Michael            NaN               NaN   \n29              Michelle            NaN               NaN   \n30                  Paul            NaN               NaN   \n31                Pavani            NaN               NaN   \n32               Richard            NaN               NaN   \n33                Robert              1               NaN   \n34                Sandra            NaN               NaN   \n35               Timothy            NaN               NaN   \n36            Tony Stark            NaN               NaN   \n37               William            NaN               NaN   \n\n    BodyPainRelatedQuestions  ColdRelatedQuestions  CoughRelatedQuestions  \\\n0                        NaN                     1                    NaN   \n1                        NaN                   NaN                      1   \n2                          1                     1                      1   \n3                          1                   NaN                    NaN   \n4                        NaN                   NaN                    NaN   \n5                          1                   NaN                      1   \n6                        NaN                   NaN                    NaN   \n7                        NaN                     1                    NaN   \n8                        NaN                     1                    NaN   \n9                          1                     1                    NaN   \n10                       NaN                   NaN                    NaN   \n11                       NaN                     1                    NaN   \n12                         1                   NaN                    NaN   \n13                       NaN                   NaN                    NaN   \n14                       NaN                   NaN                    NaN   \n15                         1                     1                      1   \n16                       NaN                     1                      1   \n17                         1                     1                      1   \n18                         1                     1                      1   \n19                         1                     1                      1   \n20                         1                     1                      1   \n21                       NaN                   NaN                    NaN   \n22                         1                   NaN                      1   \n23                       NaN                     1                      1   \n24                       NaN                   NaN                    NaN   \n25                       NaN                     1                    NaN   \n26                       NaN                   NaN                    NaN   \n27                       NaN                     1                      1   \n28                         1                     1                      1   \n29                       NaN                   NaN                    NaN   \n30                         1                     1                      1   \n31                       NaN                   NaN                    NaN   \n32                       NaN                   NaN                    NaN   \n33                       NaN                   NaN                    NaN   \n34                         1                   NaN                    NaN   \n35                       NaN                   NaN                      1   \n36                         1                     1                      1   \n37                       NaN                   NaN                    NaN   \n\n    GenericQuestions  HandwashingTips  How_many_cases  Prevention  Symptoms  \\\n0                NaN                1               1           1       NaN   \n1                NaN              NaN             NaN           1       NaN   \n2                  1                1               1           1       NaN   \n3                  1              NaN               1         NaN       NaN   \n4                  1              NaN             NaN         NaN         1   \n5                NaN                1             NaN         NaN       NaN   \n6                NaN                1               1         NaN       NaN   \n7                  1                1             NaN           1       NaN   \n8                  1                1               1           1       NaN   \n9                  1              NaN               1         NaN         1   \n10                 1              NaN               1           1       NaN   \n11                 1              NaN             NaN         NaN         1   \n12               NaN                1             NaN         NaN       NaN   \n13                 1              NaN               1         NaN       NaN   \n14                 1              NaN             NaN         NaN       NaN   \n15                 1                1               1           1         1   \n16               NaN              NaN               1           1       NaN   \n17                 1                1               1           1         1   \n18                 1                1               1           1         1   \n19               NaN              NaN               1         NaN         1   \n20                 1              NaN               1           1       NaN   \n21                 1                1             NaN           1         1   \n22               NaN                1               1           1         1   \n23               NaN              NaN             NaN           1       NaN   \n24                 1                1             NaN         NaN         1   \n25               NaN              NaN               1         NaN       NaN   \n26                 1                1             NaN         NaN       NaN   \n27               NaN              NaN             NaN         NaN         1   \n28                 1              NaN               1         NaN         1   \n29               NaN                1               1         NaN       NaN   \n30                 1                1             NaN           1         1   \n31               NaN              NaN               1         NaN         1   \n32               NaN                1             NaN           1         1   \n33                 1              NaN               1           1         1   \n34               NaN                1               1         NaN       NaN   \n35               NaN                1             NaN         NaN         1   \n36                 1                1               1           1         1   \n37                 1              NaN             NaN           1       NaN   \n\n    Symptomsinchildren  Testing  spreadviafood  \n0                  NaN      NaN            NaN  \n1                  NaN      NaN            NaN  \n2                    1        1            NaN  \n3                    1        1            NaN  \n4                  NaN        1            NaN  \n5                  NaN      NaN            NaN  \n6                    1      NaN            NaN  \n7                  NaN        1            NaN  \n8                  NaN        1            NaN  \n9                  NaN      NaN            NaN  \n10                 NaN        1            NaN  \n11                   1        1            NaN  \n12                 NaN      NaN            NaN  \n13                   1      NaN            NaN  \n14                 NaN      NaN            NaN  \n15                   1        1            NaN  \n16                 NaN      NaN            NaN  \n17                   1        1            NaN  \n18                 NaN        1            NaN  \n19                   1      NaN            NaN  \n20                   1      NaN            NaN  \n21                   1      NaN            NaN  \n22                   1      NaN            NaN  \n23                   1      NaN            NaN  \n24                 NaN        1              1  \n25                 NaN        1            NaN  \n26                 NaN        1            NaN  \n27                 NaN        1            NaN  \n28                 NaN        1            NaN  \n29                 NaN      NaN            NaN  \n30                   1        1            NaN  \n31                 NaN      NaN            NaN  \n32                 NaN        1            NaN  \n33                 NaN        1            NaN  \n34                 NaN      NaN            NaN  \n35                 NaN        1            NaN  \n36                   1        1            NaN  \n37                 NaN      NaN            NaN  "
                    },
                    "execution_count": 26,
                    "metadata": {},
                    "output_type": "execute_result"
                }
            ],
            "source": "flattened.columns = [hdr.replace(\"('covidanswer',\", \"\").replace(\")\", \"\").replace('\\'', '') \\\n                     for hdr in flattened.columns]\nflattened"
        },
        {
            "cell_type": "code",
            "execution_count": 27,
            "metadata": {},
            "outputs": [],
            "source": "# replacing nan values to 0\nimport numpy as np\ncovidFinaldata = flattened.replace(np.nan, 0)"
        },
        {
            "cell_type": "code",
            "execution_count": 28,
            "metadata": {},
            "outputs": [
                {
                    "data": {
                        "text/plain": "(38, 14)"
                    },
                    "execution_count": 28,
                    "metadata": {},
                    "output_type": "execute_result"
                }
            ],
            "source": "covidFinaldata.shape"
        },
        {
            "cell_type": "code",
            "execution_count": 29,
            "metadata": {},
            "outputs": [
                {
                    "data": {
                        "text/plain": "['name',\n ' AnimalContact',\n ' AttendingFuneral',\n ' BodyPainRelatedQuestions',\n ' ColdRelatedQuestions',\n ' CoughRelatedQuestions',\n ' GenericQuestions',\n ' HandwashingTips',\n ' How_many_cases',\n ' Prevention',\n ' Symptoms',\n ' Symptomsinchildren',\n ' Testing',\n ' spreadviafood']"
                    },
                    "execution_count": 29,
                    "metadata": {},
                    "output_type": "execute_result"
                }
            ],
            "source": "covidFinaldata.columns.tolist()"
        },
        {
            "cell_type": "code",
            "execution_count": 30,
            "metadata": {},
            "outputs": [],
            "source": "covidFinaldata.columns = covidFinaldata.columns.str.strip()"
        },
        {
            "cell_type": "code",
            "execution_count": 31,
            "metadata": {},
            "outputs": [],
            "source": "covidFinaldata = covidFinaldata[['name','Symptoms','AttendingFuneral','Testing','spreadviafood','AnimalContact','How_many_cases','CoughRelatedQuestions','ColdRelatedQuestions','BodyPainRelatedQuestions','Prevention','HandwashingTips','Symptomsinchildren']]"
        },
        {
            "cell_type": "markdown",
            "metadata": {},
            "source": "### Derived Variables creation from the existing predictor variables\n  1)CovidNewsquestions  --- User who interacted with bot and researched questions related to testing and funerls will fall under this variable\n  2) CovidStatQuestions  --- User who interacted with bot and researched questions related to animal contact and spreading will fall under this variable"
        },
        {
            "cell_type": "code",
            "execution_count": 32,
            "metadata": {},
            "outputs": [],
            "source": "covidFinaldata.AttendingFuneral = pd.to_numeric(covidFinaldata.AttendingFuneral, errors='coerce').astype(np.int64)\ncovidFinaldata.Testing = pd.to_numeric(covidFinaldata.Testing, errors='coerce').astype(np.int64)"
        },
        {
            "cell_type": "code",
            "execution_count": 33,
            "metadata": {},
            "outputs": [],
            "source": "covidFinaldata.spreadviafood = pd.to_numeric(covidFinaldata.spreadviafood, errors='coerce').astype(np.int64)\ncovidFinaldata.AnimalContact = pd.to_numeric(covidFinaldata.AnimalContact, errors='coerce').astype(np.int64)"
        },
        {
            "cell_type": "code",
            "execution_count": 34,
            "metadata": {},
            "outputs": [],
            "source": "covidFinaldata['CovidNewsquestions'] = covidFinaldata.AttendingFuneral + covidFinaldata.Testing"
        },
        {
            "cell_type": "code",
            "execution_count": 35,
            "metadata": {},
            "outputs": [],
            "source": "covidFinaldata['CovidStatQuestions'] = covidFinaldata.spreadviafood + covidFinaldata.AnimalContact"
        },
        {
            "cell_type": "code",
            "execution_count": 36,
            "metadata": {},
            "outputs": [],
            "source": "covidFinaldata.loc[covidFinaldata['CovidNewsquestions'] > 1, 'CovidNewsquestions'] = 1\ncovidFinaldata.loc[covidFinaldata['CovidStatQuestions'] > 1, 'CovidStatQuestions'] = 1"
        },
        {
            "cell_type": "code",
            "execution_count": 37,
            "metadata": {},
            "outputs": [
                {
                    "data": {
                        "text/html": "<div>\n<style scoped>\n    .dataframe tbody tr th:only-of-type {\n        vertical-align: middle;\n    }\n\n    .dataframe tbody tr th {\n        vertical-align: top;\n    }\n\n    .dataframe thead th {\n        text-align: right;\n    }\n</style>\n<table border=\"1\" class=\"dataframe\">\n  <thead>\n    <tr style=\"text-align: right;\">\n      <th></th>\n      <th>name</th>\n      <th>Symptoms</th>\n      <th>AttendingFuneral</th>\n      <th>Testing</th>\n      <th>spreadviafood</th>\n      <th>AnimalContact</th>\n      <th>How_many_cases</th>\n      <th>CoughRelatedQuestions</th>\n      <th>ColdRelatedQuestions</th>\n      <th>BodyPainRelatedQuestions</th>\n      <th>Prevention</th>\n      <th>HandwashingTips</th>\n      <th>Symptomsinchildren</th>\n      <th>CovidNewsquestions</th>\n      <th>CovidStatQuestions</th>\n    </tr>\n  </thead>\n  <tbody>\n    <tr>\n      <th>0</th>\n      <td>Adolf Hitler</td>\n      <td>0</td>\n      <td>0</td>\n      <td>0</td>\n      <td>0</td>\n      <td>0</td>\n      <td>1</td>\n      <td>0</td>\n      <td>1</td>\n      <td>0</td>\n      <td>1</td>\n      <td>1</td>\n      <td>0</td>\n      <td>0</td>\n      <td>0</td>\n    </tr>\n    <tr>\n      <th>1</th>\n      <td>Amanda</td>\n      <td>0</td>\n      <td>0</td>\n      <td>0</td>\n      <td>0</td>\n      <td>0</td>\n      <td>0</td>\n      <td>1</td>\n      <td>0</td>\n      <td>0</td>\n      <td>1</td>\n      <td>0</td>\n      <td>0</td>\n      <td>0</td>\n      <td>0</td>\n    </tr>\n    <tr>\n      <th>2</th>\n      <td>Anthony</td>\n      <td>0</td>\n      <td>0</td>\n      <td>1</td>\n      <td>0</td>\n      <td>0</td>\n      <td>1</td>\n      <td>1</td>\n      <td>1</td>\n      <td>1</td>\n      <td>1</td>\n      <td>1</td>\n      <td>1</td>\n      <td>1</td>\n      <td>0</td>\n    </tr>\n    <tr>\n      <th>3</th>\n      <td>Anushka Sharma</td>\n      <td>0</td>\n      <td>0</td>\n      <td>1</td>\n      <td>0</td>\n      <td>0</td>\n      <td>1</td>\n      <td>0</td>\n      <td>0</td>\n      <td>1</td>\n      <td>0</td>\n      <td>0</td>\n      <td>1</td>\n      <td>1</td>\n      <td>0</td>\n    </tr>\n    <tr>\n      <th>4</th>\n      <td>Arvind Krishna</td>\n      <td>1</td>\n      <td>0</td>\n      <td>1</td>\n      <td>0</td>\n      <td>0</td>\n      <td>0</td>\n      <td>0</td>\n      <td>0</td>\n      <td>0</td>\n      <td>0</td>\n      <td>0</td>\n      <td>0</td>\n      <td>1</td>\n      <td>0</td>\n    </tr>\n    <tr>\n      <th>5</th>\n      <td>Atal Bihari Vajpayee</td>\n      <td>0</td>\n      <td>0</td>\n      <td>0</td>\n      <td>0</td>\n      <td>0</td>\n      <td>0</td>\n      <td>1</td>\n      <td>0</td>\n      <td>1</td>\n      <td>0</td>\n      <td>1</td>\n      <td>0</td>\n      <td>0</td>\n      <td>0</td>\n    </tr>\n    <tr>\n      <th>6</th>\n      <td>Bhagat Singh</td>\n      <td>0</td>\n      <td>0</td>\n      <td>0</td>\n      <td>0</td>\n      <td>0</td>\n      <td>1</td>\n      <td>0</td>\n      <td>0</td>\n      <td>0</td>\n      <td>0</td>\n      <td>1</td>\n      <td>1</td>\n      <td>0</td>\n      <td>0</td>\n    </tr>\n    <tr>\n      <th>7</th>\n      <td>Brian</td>\n      <td>0</td>\n      <td>0</td>\n      <td>1</td>\n      <td>0</td>\n      <td>0</td>\n      <td>0</td>\n      <td>0</td>\n      <td>1</td>\n      <td>0</td>\n      <td>1</td>\n      <td>1</td>\n      <td>0</td>\n      <td>1</td>\n      <td>0</td>\n    </tr>\n    <tr>\n      <th>8</th>\n      <td>Charles</td>\n      <td>0</td>\n      <td>0</td>\n      <td>1</td>\n      <td>0</td>\n      <td>0</td>\n      <td>1</td>\n      <td>0</td>\n      <td>1</td>\n      <td>0</td>\n      <td>1</td>\n      <td>1</td>\n      <td>0</td>\n      <td>1</td>\n      <td>0</td>\n    </tr>\n    <tr>\n      <th>9</th>\n      <td>Christopher</td>\n      <td>1</td>\n      <td>0</td>\n      <td>0</td>\n      <td>0</td>\n      <td>0</td>\n      <td>1</td>\n      <td>0</td>\n      <td>1</td>\n      <td>1</td>\n      <td>0</td>\n      <td>0</td>\n      <td>0</td>\n      <td>0</td>\n      <td>0</td>\n    </tr>\n    <tr>\n      <th>10</th>\n      <td>Daniel</td>\n      <td>0</td>\n      <td>0</td>\n      <td>1</td>\n      <td>0</td>\n      <td>0</td>\n      <td>1</td>\n      <td>0</td>\n      <td>0</td>\n      <td>0</td>\n      <td>1</td>\n      <td>0</td>\n      <td>0</td>\n      <td>1</td>\n      <td>0</td>\n    </tr>\n    <tr>\n      <th>11</th>\n      <td>David</td>\n      <td>1</td>\n      <td>0</td>\n      <td>1</td>\n      <td>0</td>\n      <td>0</td>\n      <td>0</td>\n      <td>0</td>\n      <td>1</td>\n      <td>0</td>\n      <td>0</td>\n      <td>0</td>\n      <td>1</td>\n      <td>1</td>\n      <td>0</td>\n    </tr>\n    <tr>\n      <th>12</th>\n      <td>Deborah</td>\n      <td>0</td>\n      <td>0</td>\n      <td>0</td>\n      <td>0</td>\n      <td>0</td>\n      <td>0</td>\n      <td>0</td>\n      <td>0</td>\n      <td>1</td>\n      <td>0</td>\n      <td>1</td>\n      <td>0</td>\n      <td>0</td>\n      <td>0</td>\n    </tr>\n    <tr>\n      <th>13</th>\n      <td>Donna</td>\n      <td>0</td>\n      <td>0</td>\n      <td>0</td>\n      <td>0</td>\n      <td>0</td>\n      <td>1</td>\n      <td>0</td>\n      <td>0</td>\n      <td>0</td>\n      <td>0</td>\n      <td>0</td>\n      <td>1</td>\n      <td>0</td>\n      <td>0</td>\n    </tr>\n    <tr>\n      <th>14</th>\n      <td>Edward</td>\n      <td>0</td>\n      <td>0</td>\n      <td>0</td>\n      <td>0</td>\n      <td>0</td>\n      <td>0</td>\n      <td>0</td>\n      <td>0</td>\n      <td>0</td>\n      <td>0</td>\n      <td>0</td>\n      <td>0</td>\n      <td>0</td>\n      <td>0</td>\n    </tr>\n    <tr>\n      <th>15</th>\n      <td>Emma Watson</td>\n      <td>1</td>\n      <td>0</td>\n      <td>1</td>\n      <td>0</td>\n      <td>0</td>\n      <td>1</td>\n      <td>1</td>\n      <td>1</td>\n      <td>1</td>\n      <td>1</td>\n      <td>1</td>\n      <td>1</td>\n      <td>1</td>\n      <td>0</td>\n    </tr>\n    <tr>\n      <th>16</th>\n      <td>Gul Panag</td>\n      <td>0</td>\n      <td>0</td>\n      <td>0</td>\n      <td>0</td>\n      <td>0</td>\n      <td>1</td>\n      <td>1</td>\n      <td>1</td>\n      <td>0</td>\n      <td>1</td>\n      <td>0</td>\n      <td>0</td>\n      <td>0</td>\n      <td>0</td>\n    </tr>\n    <tr>\n      <th>17</th>\n      <td>Hemanth</td>\n      <td>1</td>\n      <td>0</td>\n      <td>1</td>\n      <td>0</td>\n      <td>0</td>\n      <td>1</td>\n      <td>1</td>\n      <td>1</td>\n      <td>1</td>\n      <td>1</td>\n      <td>1</td>\n      <td>1</td>\n      <td>1</td>\n      <td>0</td>\n    </tr>\n    <tr>\n      <th>18</th>\n      <td>Indira Gandhi</td>\n      <td>1</td>\n      <td>1</td>\n      <td>1</td>\n      <td>0</td>\n      <td>0</td>\n      <td>1</td>\n      <td>1</td>\n      <td>1</td>\n      <td>1</td>\n      <td>1</td>\n      <td>1</td>\n      <td>0</td>\n      <td>1</td>\n      <td>0</td>\n    </tr>\n    <tr>\n      <th>19</th>\n      <td>James</td>\n      <td>1</td>\n      <td>0</td>\n      <td>0</td>\n      <td>0</td>\n      <td>0</td>\n      <td>1</td>\n      <td>1</td>\n      <td>1</td>\n      <td>1</td>\n      <td>0</td>\n      <td>0</td>\n      <td>1</td>\n      <td>0</td>\n      <td>0</td>\n    </tr>\n    <tr>\n      <th>20</th>\n      <td>John</td>\n      <td>0</td>\n      <td>0</td>\n      <td>0</td>\n      <td>0</td>\n      <td>0</td>\n      <td>1</td>\n      <td>1</td>\n      <td>1</td>\n      <td>1</td>\n      <td>1</td>\n      <td>0</td>\n      <td>1</td>\n      <td>0</td>\n      <td>0</td>\n    </tr>\n    <tr>\n      <th>21</th>\n      <td>Jonny Depp</td>\n      <td>1</td>\n      <td>0</td>\n      <td>0</td>\n      <td>0</td>\n      <td>0</td>\n      <td>0</td>\n      <td>0</td>\n      <td>0</td>\n      <td>0</td>\n      <td>1</td>\n      <td>1</td>\n      <td>1</td>\n      <td>0</td>\n      <td>0</td>\n    </tr>\n    <tr>\n      <th>22</th>\n      <td>Joseph</td>\n      <td>1</td>\n      <td>0</td>\n      <td>0</td>\n      <td>0</td>\n      <td>0</td>\n      <td>1</td>\n      <td>1</td>\n      <td>0</td>\n      <td>1</td>\n      <td>1</td>\n      <td>1</td>\n      <td>1</td>\n      <td>0</td>\n      <td>0</td>\n    </tr>\n    <tr>\n      <th>23</th>\n      <td>Kimberly</td>\n      <td>0</td>\n      <td>0</td>\n      <td>0</td>\n      <td>0</td>\n      <td>0</td>\n      <td>0</td>\n      <td>1</td>\n      <td>1</td>\n      <td>0</td>\n      <td>1</td>\n      <td>0</td>\n      <td>1</td>\n      <td>0</td>\n      <td>0</td>\n    </tr>\n    <tr>\n      <th>24</th>\n      <td>Krishna</td>\n      <td>1</td>\n      <td>0</td>\n      <td>1</td>\n      <td>1</td>\n      <td>0</td>\n      <td>0</td>\n      <td>0</td>\n      <td>0</td>\n      <td>0</td>\n      <td>0</td>\n      <td>1</td>\n      <td>0</td>\n      <td>1</td>\n      <td>1</td>\n    </tr>\n    <tr>\n      <th>25</th>\n      <td>Mark</td>\n      <td>0</td>\n      <td>0</td>\n      <td>1</td>\n      <td>0</td>\n      <td>0</td>\n      <td>1</td>\n      <td>0</td>\n      <td>1</td>\n      <td>0</td>\n      <td>0</td>\n      <td>0</td>\n      <td>0</td>\n      <td>1</td>\n      <td>0</td>\n    </tr>\n    <tr>\n      <th>26</th>\n      <td>Matthew</td>\n      <td>0</td>\n      <td>0</td>\n      <td>1</td>\n      <td>0</td>\n      <td>0</td>\n      <td>0</td>\n      <td>0</td>\n      <td>0</td>\n      <td>0</td>\n      <td>0</td>\n      <td>1</td>\n      <td>0</td>\n      <td>1</td>\n      <td>0</td>\n    </tr>\n    <tr>\n      <th>27</th>\n      <td>Melissa</td>\n      <td>1</td>\n      <td>0</td>\n      <td>1</td>\n      <td>0</td>\n      <td>0</td>\n      <td>0</td>\n      <td>1</td>\n      <td>1</td>\n      <td>0</td>\n      <td>0</td>\n      <td>0</td>\n      <td>0</td>\n      <td>1</td>\n      <td>0</td>\n    </tr>\n    <tr>\n      <th>28</th>\n      <td>Michael</td>\n      <td>1</td>\n      <td>0</td>\n      <td>1</td>\n      <td>0</td>\n      <td>0</td>\n      <td>1</td>\n      <td>1</td>\n      <td>1</td>\n      <td>1</td>\n      <td>0</td>\n      <td>0</td>\n      <td>0</td>\n      <td>1</td>\n      <td>0</td>\n    </tr>\n    <tr>\n      <th>29</th>\n      <td>Michelle</td>\n      <td>0</td>\n      <td>0</td>\n      <td>0</td>\n      <td>0</td>\n      <td>0</td>\n      <td>1</td>\n      <td>0</td>\n      <td>0</td>\n      <td>0</td>\n      <td>0</td>\n      <td>1</td>\n      <td>0</td>\n      <td>0</td>\n      <td>0</td>\n    </tr>\n    <tr>\n      <th>30</th>\n      <td>Paul</td>\n      <td>1</td>\n      <td>0</td>\n      <td>1</td>\n      <td>0</td>\n      <td>0</td>\n      <td>0</td>\n      <td>1</td>\n      <td>1</td>\n      <td>1</td>\n      <td>1</td>\n      <td>1</td>\n      <td>1</td>\n      <td>1</td>\n      <td>0</td>\n    </tr>\n    <tr>\n      <th>31</th>\n      <td>Pavani</td>\n      <td>1</td>\n      <td>0</td>\n      <td>0</td>\n      <td>0</td>\n      <td>0</td>\n      <td>1</td>\n      <td>0</td>\n      <td>0</td>\n      <td>0</td>\n      <td>0</td>\n      <td>0</td>\n      <td>0</td>\n      <td>0</td>\n      <td>0</td>\n    </tr>\n    <tr>\n      <th>32</th>\n      <td>Richard</td>\n      <td>1</td>\n      <td>0</td>\n      <td>1</td>\n      <td>0</td>\n      <td>0</td>\n      <td>0</td>\n      <td>0</td>\n      <td>0</td>\n      <td>0</td>\n      <td>1</td>\n      <td>1</td>\n      <td>0</td>\n      <td>1</td>\n      <td>0</td>\n    </tr>\n    <tr>\n      <th>33</th>\n      <td>Robert</td>\n      <td>1</td>\n      <td>0</td>\n      <td>1</td>\n      <td>0</td>\n      <td>1</td>\n      <td>1</td>\n      <td>0</td>\n      <td>0</td>\n      <td>0</td>\n      <td>1</td>\n      <td>0</td>\n      <td>0</td>\n      <td>1</td>\n      <td>1</td>\n    </tr>\n    <tr>\n      <th>34</th>\n      <td>Sandra</td>\n      <td>0</td>\n      <td>0</td>\n      <td>0</td>\n      <td>0</td>\n      <td>0</td>\n      <td>1</td>\n      <td>0</td>\n      <td>0</td>\n      <td>1</td>\n      <td>0</td>\n      <td>1</td>\n      <td>0</td>\n      <td>0</td>\n      <td>0</td>\n    </tr>\n    <tr>\n      <th>35</th>\n      <td>Timothy</td>\n      <td>1</td>\n      <td>0</td>\n      <td>1</td>\n      <td>0</td>\n      <td>0</td>\n      <td>0</td>\n      <td>1</td>\n      <td>0</td>\n      <td>0</td>\n      <td>0</td>\n      <td>1</td>\n      <td>0</td>\n      <td>1</td>\n      <td>0</td>\n    </tr>\n    <tr>\n      <th>36</th>\n      <td>Tony Stark</td>\n      <td>1</td>\n      <td>0</td>\n      <td>1</td>\n      <td>0</td>\n      <td>0</td>\n      <td>1</td>\n      <td>1</td>\n      <td>1</td>\n      <td>1</td>\n      <td>1</td>\n      <td>1</td>\n      <td>1</td>\n      <td>1</td>\n      <td>0</td>\n    </tr>\n    <tr>\n      <th>37</th>\n      <td>William</td>\n      <td>0</td>\n      <td>0</td>\n      <td>0</td>\n      <td>0</td>\n      <td>0</td>\n      <td>0</td>\n      <td>0</td>\n      <td>0</td>\n      <td>0</td>\n      <td>1</td>\n      <td>0</td>\n      <td>0</td>\n      <td>0</td>\n      <td>0</td>\n    </tr>\n  </tbody>\n</table>\n</div>",
                        "text/plain": "                    name Symptoms  AttendingFuneral  Testing  spreadviafood  \\\n0           Adolf Hitler        0                 0        0              0   \n1                 Amanda        0                 0        0              0   \n2                Anthony        0                 0        1              0   \n3         Anushka Sharma        0                 0        1              0   \n4         Arvind Krishna        1                 0        1              0   \n5   Atal Bihari Vajpayee        0                 0        0              0   \n6           Bhagat Singh        0                 0        0              0   \n7                  Brian        0                 0        1              0   \n8                Charles        0                 0        1              0   \n9            Christopher        1                 0        0              0   \n10                Daniel        0                 0        1              0   \n11                 David        1                 0        1              0   \n12               Deborah        0                 0        0              0   \n13                 Donna        0                 0        0              0   \n14                Edward        0                 0        0              0   \n15           Emma Watson        1                 0        1              0   \n16             Gul Panag        0                 0        0              0   \n17               Hemanth        1                 0        1              0   \n18         Indira Gandhi        1                 1        1              0   \n19                 James        1                 0        0              0   \n20                  John        0                 0        0              0   \n21            Jonny Depp        1                 0        0              0   \n22                Joseph        1                 0        0              0   \n23              Kimberly        0                 0        0              0   \n24               Krishna        1                 0        1              1   \n25                  Mark        0                 0        1              0   \n26               Matthew        0                 0        1              0   \n27               Melissa        1                 0        1              0   \n28               Michael        1                 0        1              0   \n29              Michelle        0                 0        0              0   \n30                  Paul        1                 0        1              0   \n31                Pavani        1                 0        0              0   \n32               Richard        1                 0        1              0   \n33                Robert        1                 0        1              0   \n34                Sandra        0                 0        0              0   \n35               Timothy        1                 0        1              0   \n36            Tony Stark        1                 0        1              0   \n37               William        0                 0        0              0   \n\n    AnimalContact How_many_cases CoughRelatedQuestions ColdRelatedQuestions  \\\n0               0              1                     0                    1   \n1               0              0                     1                    0   \n2               0              1                     1                    1   \n3               0              1                     0                    0   \n4               0              0                     0                    0   \n5               0              0                     1                    0   \n6               0              1                     0                    0   \n7               0              0                     0                    1   \n8               0              1                     0                    1   \n9               0              1                     0                    1   \n10              0              1                     0                    0   \n11              0              0                     0                    1   \n12              0              0                     0                    0   \n13              0              1                     0                    0   \n14              0              0                     0                    0   \n15              0              1                     1                    1   \n16              0              1                     1                    1   \n17              0              1                     1                    1   \n18              0              1                     1                    1   \n19              0              1                     1                    1   \n20              0              1                     1                    1   \n21              0              0                     0                    0   \n22              0              1                     1                    0   \n23              0              0                     1                    1   \n24              0              0                     0                    0   \n25              0              1                     0                    1   \n26              0              0                     0                    0   \n27              0              0                     1                    1   \n28              0              1                     1                    1   \n29              0              1                     0                    0   \n30              0              0                     1                    1   \n31              0              1                     0                    0   \n32              0              0                     0                    0   \n33              1              1                     0                    0   \n34              0              1                     0                    0   \n35              0              0                     1                    0   \n36              0              1                     1                    1   \n37              0              0                     0                    0   \n\n   BodyPainRelatedQuestions Prevention HandwashingTips Symptomsinchildren  \\\n0                         0          1               1                  0   \n1                         0          1               0                  0   \n2                         1          1               1                  1   \n3                         1          0               0                  1   \n4                         0          0               0                  0   \n5                         1          0               1                  0   \n6                         0          0               1                  1   \n7                         0          1               1                  0   \n8                         0          1               1                  0   \n9                         1          0               0                  0   \n10                        0          1               0                  0   \n11                        0          0               0                  1   \n12                        1          0               1                  0   \n13                        0          0               0                  1   \n14                        0          0               0                  0   \n15                        1          1               1                  1   \n16                        0          1               0                  0   \n17                        1          1               1                  1   \n18                        1          1               1                  0   \n19                        1          0               0                  1   \n20                        1          1               0                  1   \n21                        0          1               1                  1   \n22                        1          1               1                  1   \n23                        0          1               0                  1   \n24                        0          0               1                  0   \n25                        0          0               0                  0   \n26                        0          0               1                  0   \n27                        0          0               0                  0   \n28                        1          0               0                  0   \n29                        0          0               1                  0   \n30                        1          1               1                  1   \n31                        0          0               0                  0   \n32                        0          1               1                  0   \n33                        0          1               0                  0   \n34                        1          0               1                  0   \n35                        0          0               1                  0   \n36                        1          1               1                  1   \n37                        0          1               0                  0   \n\n    CovidNewsquestions  CovidStatQuestions  \n0                    0                   0  \n1                    0                   0  \n2                    1                   0  \n3                    1                   0  \n4                    1                   0  \n5                    0                   0  \n6                    0                   0  \n7                    1                   0  \n8                    1                   0  \n9                    0                   0  \n10                   1                   0  \n11                   1                   0  \n12                   0                   0  \n13                   0                   0  \n14                   0                   0  \n15                   1                   0  \n16                   0                   0  \n17                   1                   0  \n18                   1                   0  \n19                   0                   0  \n20                   0                   0  \n21                   0                   0  \n22                   0                   0  \n23                   0                   0  \n24                   1                   1  \n25                   1                   0  \n26                   1                   0  \n27                   1                   0  \n28                   1                   0  \n29                   0                   0  \n30                   1                   0  \n31                   0                   0  \n32                   1                   0  \n33                   1                   1  \n34                   0                   0  \n35                   1                   0  \n36                   1                   0  \n37                   0                   0  "
                    },
                    "execution_count": 37,
                    "metadata": {},
                    "output_type": "execute_result"
                }
            ],
            "source": "covidFinaldata"
        },
        {
            "cell_type": "code",
            "execution_count": 38,
            "metadata": {},
            "outputs": [
                {
                    "data": {
                        "text/html": "<div>\n<style scoped>\n    .dataframe tbody tr th:only-of-type {\n        vertical-align: middle;\n    }\n\n    .dataframe tbody tr th {\n        vertical-align: top;\n    }\n\n    .dataframe thead th {\n        text-align: right;\n    }\n</style>\n<table border=\"1\" class=\"dataframe\">\n  <thead>\n    <tr style=\"text-align: right;\">\n      <th></th>\n      <th>name</th>\n      <th>Symptoms</th>\n      <th>AttendingFuneral</th>\n      <th>Testing</th>\n      <th>spreadviafood</th>\n      <th>AnimalContact</th>\n      <th>How_many_cases</th>\n      <th>CoughRelatedQuestions</th>\n      <th>ColdRelatedQuestions</th>\n      <th>BodyPainRelatedQuestions</th>\n      <th>Prevention</th>\n      <th>HandwashingTips</th>\n      <th>Symptomsinchildren</th>\n      <th>CovidNewsquestions</th>\n      <th>CovidStatQuestions</th>\n      <th>zipcode</th>\n    </tr>\n  </thead>\n  <tbody>\n    <tr>\n      <th>0</th>\n      <td>Adolf Hitler</td>\n      <td>0</td>\n      <td>0</td>\n      <td>0</td>\n      <td>0</td>\n      <td>0</td>\n      <td>1</td>\n      <td>0</td>\n      <td>1</td>\n      <td>0</td>\n      <td>1</td>\n      <td>1</td>\n      <td>0</td>\n      <td>0</td>\n      <td>0</td>\n      <td>11223</td>\n    </tr>\n    <tr>\n      <th>1</th>\n      <td>Amanda</td>\n      <td>0</td>\n      <td>0</td>\n      <td>0</td>\n      <td>0</td>\n      <td>0</td>\n      <td>0</td>\n      <td>1</td>\n      <td>0</td>\n      <td>0</td>\n      <td>1</td>\n      <td>0</td>\n      <td>0</td>\n      <td>0</td>\n      <td>0</td>\n      <td>30024</td>\n    </tr>\n    <tr>\n      <th>2</th>\n      <td>Anthony</td>\n      <td>0</td>\n      <td>0</td>\n      <td>1</td>\n      <td>0</td>\n      <td>0</td>\n      <td>1</td>\n      <td>1</td>\n      <td>1</td>\n      <td>1</td>\n      <td>1</td>\n      <td>1</td>\n      <td>1</td>\n      <td>1</td>\n      <td>0</td>\n      <td>95134</td>\n    </tr>\n    <tr>\n      <th>3</th>\n      <td>Anushka Sharma</td>\n      <td>0</td>\n      <td>0</td>\n      <td>1</td>\n      <td>0</td>\n      <td>0</td>\n      <td>1</td>\n      <td>0</td>\n      <td>0</td>\n      <td>1</td>\n      <td>0</td>\n      <td>0</td>\n      <td>1</td>\n      <td>1</td>\n      <td>0</td>\n      <td>10004</td>\n    </tr>\n    <tr>\n      <th>4</th>\n      <td>Arvind Krishna</td>\n      <td>1</td>\n      <td>0</td>\n      <td>1</td>\n      <td>0</td>\n      <td>0</td>\n      <td>0</td>\n      <td>0</td>\n      <td>0</td>\n      <td>0</td>\n      <td>0</td>\n      <td>0</td>\n      <td>0</td>\n      <td>1</td>\n      <td>0</td>\n      <td>10005</td>\n    </tr>\n    <tr>\n      <th>5</th>\n      <td>Atal Bihari Vajpayee</td>\n      <td>0</td>\n      <td>0</td>\n      <td>0</td>\n      <td>0</td>\n      <td>0</td>\n      <td>0</td>\n      <td>1</td>\n      <td>0</td>\n      <td>1</td>\n      <td>0</td>\n      <td>1</td>\n      <td>0</td>\n      <td>0</td>\n      <td>0</td>\n      <td>11354</td>\n    </tr>\n    <tr>\n      <th>6</th>\n      <td>Bhagat Singh</td>\n      <td>0</td>\n      <td>0</td>\n      <td>0</td>\n      <td>0</td>\n      <td>0</td>\n      <td>1</td>\n      <td>0</td>\n      <td>0</td>\n      <td>0</td>\n      <td>0</td>\n      <td>1</td>\n      <td>1</td>\n      <td>0</td>\n      <td>0</td>\n      <td>11354</td>\n    </tr>\n    <tr>\n      <th>7</th>\n      <td>Brian</td>\n      <td>0</td>\n      <td>0</td>\n      <td>1</td>\n      <td>0</td>\n      <td>0</td>\n      <td>0</td>\n      <td>0</td>\n      <td>1</td>\n      <td>0</td>\n      <td>1</td>\n      <td>1</td>\n      <td>0</td>\n      <td>1</td>\n      <td>0</td>\n      <td>22314</td>\n    </tr>\n    <tr>\n      <th>8</th>\n      <td>Charles</td>\n      <td>0</td>\n      <td>0</td>\n      <td>1</td>\n      <td>0</td>\n      <td>0</td>\n      <td>1</td>\n      <td>0</td>\n      <td>1</td>\n      <td>0</td>\n      <td>1</td>\n      <td>1</td>\n      <td>0</td>\n      <td>1</td>\n      <td>0</td>\n      <td>22314</td>\n    </tr>\n    <tr>\n      <th>9</th>\n      <td>Christopher</td>\n      <td>1</td>\n      <td>0</td>\n      <td>0</td>\n      <td>0</td>\n      <td>0</td>\n      <td>1</td>\n      <td>0</td>\n      <td>1</td>\n      <td>1</td>\n      <td>0</td>\n      <td>0</td>\n      <td>0</td>\n      <td>0</td>\n      <td>0</td>\n      <td>10021</td>\n    </tr>\n    <tr>\n      <th>10</th>\n      <td>Daniel</td>\n      <td>0</td>\n      <td>0</td>\n      <td>1</td>\n      <td>0</td>\n      <td>0</td>\n      <td>1</td>\n      <td>0</td>\n      <td>0</td>\n      <td>0</td>\n      <td>1</td>\n      <td>0</td>\n      <td>0</td>\n      <td>1</td>\n      <td>0</td>\n      <td>11203</td>\n    </tr>\n    <tr>\n      <th>11</th>\n      <td>David</td>\n      <td>1</td>\n      <td>0</td>\n      <td>1</td>\n      <td>0</td>\n      <td>0</td>\n      <td>0</td>\n      <td>0</td>\n      <td>1</td>\n      <td>0</td>\n      <td>0</td>\n      <td>0</td>\n      <td>1</td>\n      <td>1</td>\n      <td>0</td>\n      <td>85013</td>\n    </tr>\n    <tr>\n      <th>12</th>\n      <td>Deborah</td>\n      <td>0</td>\n      <td>0</td>\n      <td>0</td>\n      <td>0</td>\n      <td>0</td>\n      <td>0</td>\n      <td>0</td>\n      <td>0</td>\n      <td>1</td>\n      <td>0</td>\n      <td>1</td>\n      <td>0</td>\n      <td>0</td>\n      <td>0</td>\n      <td>33023</td>\n    </tr>\n    <tr>\n      <th>13</th>\n      <td>Donna</td>\n      <td>0</td>\n      <td>0</td>\n      <td>0</td>\n      <td>0</td>\n      <td>0</td>\n      <td>1</td>\n      <td>0</td>\n      <td>0</td>\n      <td>0</td>\n      <td>0</td>\n      <td>0</td>\n      <td>1</td>\n      <td>0</td>\n      <td>0</td>\n      <td>33023</td>\n    </tr>\n    <tr>\n      <th>14</th>\n      <td>Edward</td>\n      <td>0</td>\n      <td>0</td>\n      <td>0</td>\n      <td>0</td>\n      <td>0</td>\n      <td>0</td>\n      <td>0</td>\n      <td>0</td>\n      <td>0</td>\n      <td>0</td>\n      <td>0</td>\n      <td>0</td>\n      <td>0</td>\n      <td>0</td>\n      <td>760005</td>\n    </tr>\n    <tr>\n      <th>15</th>\n      <td>Emma Watson</td>\n      <td>1</td>\n      <td>0</td>\n      <td>1</td>\n      <td>0</td>\n      <td>0</td>\n      <td>1</td>\n      <td>1</td>\n      <td>1</td>\n      <td>1</td>\n      <td>1</td>\n      <td>1</td>\n      <td>1</td>\n      <td>1</td>\n      <td>0</td>\n      <td>10004</td>\n    </tr>\n    <tr>\n      <th>16</th>\n      <td>Gul Panag</td>\n      <td>0</td>\n      <td>0</td>\n      <td>0</td>\n      <td>0</td>\n      <td>0</td>\n      <td>1</td>\n      <td>1</td>\n      <td>1</td>\n      <td>0</td>\n      <td>1</td>\n      <td>0</td>\n      <td>0</td>\n      <td>0</td>\n      <td>0</td>\n      <td>22003</td>\n    </tr>\n    <tr>\n      <th>17</th>\n      <td>Hemanth</td>\n      <td>1</td>\n      <td>0</td>\n      <td>1</td>\n      <td>0</td>\n      <td>0</td>\n      <td>1</td>\n      <td>1</td>\n      <td>1</td>\n      <td>1</td>\n      <td>1</td>\n      <td>1</td>\n      <td>1</td>\n      <td>1</td>\n      <td>0</td>\n      <td>22314</td>\n    </tr>\n    <tr>\n      <th>18</th>\n      <td>Indira Gandhi</td>\n      <td>1</td>\n      <td>1</td>\n      <td>1</td>\n      <td>0</td>\n      <td>0</td>\n      <td>1</td>\n      <td>1</td>\n      <td>1</td>\n      <td>1</td>\n      <td>1</td>\n      <td>1</td>\n      <td>0</td>\n      <td>1</td>\n      <td>0</td>\n      <td>760005</td>\n    </tr>\n    <tr>\n      <th>19</th>\n      <td>James</td>\n      <td>1</td>\n      <td>0</td>\n      <td>0</td>\n      <td>0</td>\n      <td>0</td>\n      <td>1</td>\n      <td>1</td>\n      <td>1</td>\n      <td>1</td>\n      <td>0</td>\n      <td>0</td>\n      <td>1</td>\n      <td>0</td>\n      <td>0</td>\n      <td>21215</td>\n    </tr>\n    <tr>\n      <th>20</th>\n      <td>John</td>\n      <td>0</td>\n      <td>0</td>\n      <td>0</td>\n      <td>0</td>\n      <td>0</td>\n      <td>1</td>\n      <td>1</td>\n      <td>1</td>\n      <td>1</td>\n      <td>1</td>\n      <td>0</td>\n      <td>1</td>\n      <td>0</td>\n      <td>0</td>\n      <td>85013</td>\n    </tr>\n    <tr>\n      <th>21</th>\n      <td>Jonny Depp</td>\n      <td>1</td>\n      <td>0</td>\n      <td>0</td>\n      <td>0</td>\n      <td>0</td>\n      <td>0</td>\n      <td>0</td>\n      <td>0</td>\n      <td>0</td>\n      <td>1</td>\n      <td>1</td>\n      <td>1</td>\n      <td>0</td>\n      <td>0</td>\n      <td>22003</td>\n    </tr>\n    <tr>\n      <th>22</th>\n      <td>Joseph</td>\n      <td>1</td>\n      <td>0</td>\n      <td>0</td>\n      <td>0</td>\n      <td>0</td>\n      <td>1</td>\n      <td>1</td>\n      <td>0</td>\n      <td>1</td>\n      <td>1</td>\n      <td>1</td>\n      <td>1</td>\n      <td>0</td>\n      <td>0</td>\n      <td>10004</td>\n    </tr>\n    <tr>\n      <th>23</th>\n      <td>Kimberly</td>\n      <td>0</td>\n      <td>0</td>\n      <td>0</td>\n      <td>0</td>\n      <td>0</td>\n      <td>0</td>\n      <td>1</td>\n      <td>1</td>\n      <td>0</td>\n      <td>1</td>\n      <td>0</td>\n      <td>1</td>\n      <td>0</td>\n      <td>0</td>\n      <td>11223</td>\n    </tr>\n    <tr>\n      <th>24</th>\n      <td>Krishna</td>\n      <td>1</td>\n      <td>0</td>\n      <td>1</td>\n      <td>1</td>\n      <td>0</td>\n      <td>0</td>\n      <td>0</td>\n      <td>0</td>\n      <td>0</td>\n      <td>0</td>\n      <td>1</td>\n      <td>0</td>\n      <td>1</td>\n      <td>1</td>\n      <td>123456</td>\n    </tr>\n    <tr>\n      <th>25</th>\n      <td>Mark</td>\n      <td>0</td>\n      <td>0</td>\n      <td>1</td>\n      <td>0</td>\n      <td>0</td>\n      <td>1</td>\n      <td>0</td>\n      <td>1</td>\n      <td>0</td>\n      <td>0</td>\n      <td>0</td>\n      <td>0</td>\n      <td>1</td>\n      <td>0</td>\n      <td>11203</td>\n    </tr>\n    <tr>\n      <th>26</th>\n      <td>Matthew</td>\n      <td>0</td>\n      <td>0</td>\n      <td>1</td>\n      <td>0</td>\n      <td>0</td>\n      <td>0</td>\n      <td>0</td>\n      <td>0</td>\n      <td>0</td>\n      <td>0</td>\n      <td>1</td>\n      <td>0</td>\n      <td>1</td>\n      <td>0</td>\n      <td>21215</td>\n    </tr>\n    <tr>\n      <th>27</th>\n      <td>Melissa</td>\n      <td>1</td>\n      <td>0</td>\n      <td>1</td>\n      <td>0</td>\n      <td>0</td>\n      <td>0</td>\n      <td>1</td>\n      <td>1</td>\n      <td>0</td>\n      <td>0</td>\n      <td>0</td>\n      <td>0</td>\n      <td>1</td>\n      <td>0</td>\n      <td>30024</td>\n    </tr>\n    <tr>\n      <th>28</th>\n      <td>Michael</td>\n      <td>1</td>\n      <td>0</td>\n      <td>1</td>\n      <td>0</td>\n      <td>0</td>\n      <td>1</td>\n      <td>1</td>\n      <td>1</td>\n      <td>1</td>\n      <td>0</td>\n      <td>0</td>\n      <td>0</td>\n      <td>1</td>\n      <td>0</td>\n      <td>10004</td>\n    </tr>\n    <tr>\n      <th>29</th>\n      <td>Michelle</td>\n      <td>0</td>\n      <td>0</td>\n      <td>0</td>\n      <td>0</td>\n      <td>0</td>\n      <td>1</td>\n      <td>0</td>\n      <td>0</td>\n      <td>0</td>\n      <td>0</td>\n      <td>1</td>\n      <td>0</td>\n      <td>0</td>\n      <td>0</td>\n      <td>11223</td>\n    </tr>\n    <tr>\n      <th>30</th>\n      <td>Paul</td>\n      <td>1</td>\n      <td>0</td>\n      <td>1</td>\n      <td>0</td>\n      <td>0</td>\n      <td>0</td>\n      <td>1</td>\n      <td>1</td>\n      <td>1</td>\n      <td>1</td>\n      <td>1</td>\n      <td>1</td>\n      <td>1</td>\n      <td>0</td>\n      <td>10032</td>\n    </tr>\n    <tr>\n      <th>31</th>\n      <td>Pavani</td>\n      <td>1</td>\n      <td>0</td>\n      <td>0</td>\n      <td>0</td>\n      <td>0</td>\n      <td>1</td>\n      <td>0</td>\n      <td>0</td>\n      <td>0</td>\n      <td>0</td>\n      <td>0</td>\n      <td>0</td>\n      <td>0</td>\n      <td>0</td>\n      <td>95134</td>\n    </tr>\n    <tr>\n      <th>32</th>\n      <td>Richard</td>\n      <td>1</td>\n      <td>0</td>\n      <td>1</td>\n      <td>0</td>\n      <td>0</td>\n      <td>0</td>\n      <td>0</td>\n      <td>0</td>\n      <td>0</td>\n      <td>1</td>\n      <td>1</td>\n      <td>0</td>\n      <td>1</td>\n      <td>0</td>\n      <td>10032</td>\n    </tr>\n    <tr>\n      <th>33</th>\n      <td>Robert</td>\n      <td>1</td>\n      <td>0</td>\n      <td>1</td>\n      <td>0</td>\n      <td>1</td>\n      <td>1</td>\n      <td>0</td>\n      <td>0</td>\n      <td>0</td>\n      <td>1</td>\n      <td>0</td>\n      <td>0</td>\n      <td>1</td>\n      <td>1</td>\n      <td>10032</td>\n    </tr>\n    <tr>\n      <th>34</th>\n      <td>Sandra</td>\n      <td>0</td>\n      <td>0</td>\n      <td>0</td>\n      <td>0</td>\n      <td>0</td>\n      <td>1</td>\n      <td>0</td>\n      <td>0</td>\n      <td>1</td>\n      <td>0</td>\n      <td>1</td>\n      <td>0</td>\n      <td>0</td>\n      <td>0</td>\n      <td>11223</td>\n    </tr>\n    <tr>\n      <th>35</th>\n      <td>Timothy</td>\n      <td>1</td>\n      <td>0</td>\n      <td>1</td>\n      <td>0</td>\n      <td>0</td>\n      <td>0</td>\n      <td>1</td>\n      <td>0</td>\n      <td>0</td>\n      <td>0</td>\n      <td>1</td>\n      <td>0</td>\n      <td>1</td>\n      <td>0</td>\n      <td>11203</td>\n    </tr>\n    <tr>\n      <th>36</th>\n      <td>Tony Stark</td>\n      <td>1</td>\n      <td>0</td>\n      <td>1</td>\n      <td>0</td>\n      <td>0</td>\n      <td>1</td>\n      <td>1</td>\n      <td>1</td>\n      <td>1</td>\n      <td>1</td>\n      <td>1</td>\n      <td>1</td>\n      <td>1</td>\n      <td>0</td>\n      <td>21215</td>\n    </tr>\n    <tr>\n      <th>37</th>\n      <td>William</td>\n      <td>0</td>\n      <td>0</td>\n      <td>0</td>\n      <td>0</td>\n      <td>0</td>\n      <td>0</td>\n      <td>0</td>\n      <td>0</td>\n      <td>0</td>\n      <td>1</td>\n      <td>0</td>\n      <td>0</td>\n      <td>0</td>\n      <td>0</td>\n      <td>22314</td>\n    </tr>\n  </tbody>\n</table>\n</div>",
                        "text/plain": "                    name Symptoms  AttendingFuneral  Testing  spreadviafood  \\\n0           Adolf Hitler        0                 0        0              0   \n1                 Amanda        0                 0        0              0   \n2                Anthony        0                 0        1              0   \n3         Anushka Sharma        0                 0        1              0   \n4         Arvind Krishna        1                 0        1              0   \n5   Atal Bihari Vajpayee        0                 0        0              0   \n6           Bhagat Singh        0                 0        0              0   \n7                  Brian        0                 0        1              0   \n8                Charles        0                 0        1              0   \n9            Christopher        1                 0        0              0   \n10                Daniel        0                 0        1              0   \n11                 David        1                 0        1              0   \n12               Deborah        0                 0        0              0   \n13                 Donna        0                 0        0              0   \n14                Edward        0                 0        0              0   \n15           Emma Watson        1                 0        1              0   \n16             Gul Panag        0                 0        0              0   \n17               Hemanth        1                 0        1              0   \n18         Indira Gandhi        1                 1        1              0   \n19                 James        1                 0        0              0   \n20                  John        0                 0        0              0   \n21            Jonny Depp        1                 0        0              0   \n22                Joseph        1                 0        0              0   \n23              Kimberly        0                 0        0              0   \n24               Krishna        1                 0        1              1   \n25                  Mark        0                 0        1              0   \n26               Matthew        0                 0        1              0   \n27               Melissa        1                 0        1              0   \n28               Michael        1                 0        1              0   \n29              Michelle        0                 0        0              0   \n30                  Paul        1                 0        1              0   \n31                Pavani        1                 0        0              0   \n32               Richard        1                 0        1              0   \n33                Robert        1                 0        1              0   \n34                Sandra        0                 0        0              0   \n35               Timothy        1                 0        1              0   \n36            Tony Stark        1                 0        1              0   \n37               William        0                 0        0              0   \n\n    AnimalContact How_many_cases CoughRelatedQuestions ColdRelatedQuestions  \\\n0               0              1                     0                    1   \n1               0              0                     1                    0   \n2               0              1                     1                    1   \n3               0              1                     0                    0   \n4               0              0                     0                    0   \n5               0              0                     1                    0   \n6               0              1                     0                    0   \n7               0              0                     0                    1   \n8               0              1                     0                    1   \n9               0              1                     0                    1   \n10              0              1                     0                    0   \n11              0              0                     0                    1   \n12              0              0                     0                    0   \n13              0              1                     0                    0   \n14              0              0                     0                    0   \n15              0              1                     1                    1   \n16              0              1                     1                    1   \n17              0              1                     1                    1   \n18              0              1                     1                    1   \n19              0              1                     1                    1   \n20              0              1                     1                    1   \n21              0              0                     0                    0   \n22              0              1                     1                    0   \n23              0              0                     1                    1   \n24              0              0                     0                    0   \n25              0              1                     0                    1   \n26              0              0                     0                    0   \n27              0              0                     1                    1   \n28              0              1                     1                    1   \n29              0              1                     0                    0   \n30              0              0                     1                    1   \n31              0              1                     0                    0   \n32              0              0                     0                    0   \n33              1              1                     0                    0   \n34              0              1                     0                    0   \n35              0              0                     1                    0   \n36              0              1                     1                    1   \n37              0              0                     0                    0   \n\n   BodyPainRelatedQuestions Prevention HandwashingTips Symptomsinchildren  \\\n0                         0          1               1                  0   \n1                         0          1               0                  0   \n2                         1          1               1                  1   \n3                         1          0               0                  1   \n4                         0          0               0                  0   \n5                         1          0               1                  0   \n6                         0          0               1                  1   \n7                         0          1               1                  0   \n8                         0          1               1                  0   \n9                         1          0               0                  0   \n10                        0          1               0                  0   \n11                        0          0               0                  1   \n12                        1          0               1                  0   \n13                        0          0               0                  1   \n14                        0          0               0                  0   \n15                        1          1               1                  1   \n16                        0          1               0                  0   \n17                        1          1               1                  1   \n18                        1          1               1                  0   \n19                        1          0               0                  1   \n20                        1          1               0                  1   \n21                        0          1               1                  1   \n22                        1          1               1                  1   \n23                        0          1               0                  1   \n24                        0          0               1                  0   \n25                        0          0               0                  0   \n26                        0          0               1                  0   \n27                        0          0               0                  0   \n28                        1          0               0                  0   \n29                        0          0               1                  0   \n30                        1          1               1                  1   \n31                        0          0               0                  0   \n32                        0          1               1                  0   \n33                        0          1               0                  0   \n34                        1          0               1                  0   \n35                        0          0               1                  0   \n36                        1          1               1                  1   \n37                        0          1               0                  0   \n\n    CovidNewsquestions  CovidStatQuestions zipcode  \n0                    0                   0   11223  \n1                    0                   0   30024  \n2                    1                   0   95134  \n3                    1                   0   10004  \n4                    1                   0   10005  \n5                    0                   0   11354  \n6                    0                   0   11354  \n7                    1                   0   22314  \n8                    1                   0   22314  \n9                    0                   0   10021  \n10                   1                   0   11203  \n11                   1                   0   85013  \n12                   0                   0   33023  \n13                   0                   0   33023  \n14                   0                   0  760005  \n15                   1                   0   10004  \n16                   0                   0   22003  \n17                   1                   0   22314  \n18                   1                   0  760005  \n19                   0                   0   21215  \n20                   0                   0   85013  \n21                   0                   0   22003  \n22                   0                   0   10004  \n23                   0                   0   11223  \n24                   1                   1  123456  \n25                   1                   0   11203  \n26                   1                   0   21215  \n27                   1                   0   30024  \n28                   1                   0   10004  \n29                   0                   0   11223  \n30                   1                   0   10032  \n31                   0                   0   95134  \n32                   1                   0   10032  \n33                   1                   1   10032  \n34                   0                   0   11223  \n35                   1                   0   11203  \n36                   1                   0   21215  \n37                   0                   0   22314  "
                    },
                    "execution_count": 38,
                    "metadata": {},
                    "output_type": "execute_result"
                }
            ],
            "source": "## Merge of datasets to get the geographical related data and personal data\ncovidDataZipcode = covidDataAfterProcess[['name','zipcode']]\ncovidDataZipcode = covidDataZipcode.groupby('name')\ncovidDataZipcode = covidDataZipcode.first()\nmaster_frame = pd.merge(covidFinaldata, covidDataZipcode, how='inner', on='name')\nmaster_frame"
        },
        {
            "cell_type": "code",
            "execution_count": 39,
            "metadata": {},
            "outputs": [],
            "source": "# Creation of copy for further process\nmstFrm = master_frame.copy()"
        },
        {
            "cell_type": "code",
            "execution_count": 40,
            "metadata": {},
            "outputs": [
                {
                    "data": {
                        "text/html": "<div>\n<style scoped>\n    .dataframe tbody tr th:only-of-type {\n        vertical-align: middle;\n    }\n\n    .dataframe tbody tr th {\n        vertical-align: top;\n    }\n\n    .dataframe thead th {\n        text-align: right;\n    }\n</style>\n<table border=\"1\" class=\"dataframe\">\n  <thead>\n    <tr style=\"text-align: right;\">\n      <th></th>\n      <th>name</th>\n      <th>Symptoms</th>\n      <th>AttendingFuneral</th>\n      <th>Testing</th>\n      <th>spreadviafood</th>\n      <th>AnimalContact</th>\n      <th>How_many_cases</th>\n      <th>CoughRelatedQuestions</th>\n      <th>ColdRelatedQuestions</th>\n      <th>BodyPainRelatedQuestions</th>\n      <th>Prevention</th>\n      <th>HandwashingTips</th>\n      <th>Symptomsinchildren</th>\n      <th>CovidNewsquestions</th>\n      <th>CovidStatQuestions</th>\n      <th>zipcode</th>\n    </tr>\n  </thead>\n  <tbody>\n    <tr>\n      <th>0</th>\n      <td>Adolf Hitler</td>\n      <td>0</td>\n      <td>0</td>\n      <td>0</td>\n      <td>0</td>\n      <td>0</td>\n      <td>1</td>\n      <td>0</td>\n      <td>1</td>\n      <td>0</td>\n      <td>1</td>\n      <td>1</td>\n      <td>0</td>\n      <td>0</td>\n      <td>0</td>\n      <td>11223</td>\n    </tr>\n    <tr>\n      <th>1</th>\n      <td>Amanda</td>\n      <td>0</td>\n      <td>0</td>\n      <td>0</td>\n      <td>0</td>\n      <td>0</td>\n      <td>0</td>\n      <td>1</td>\n      <td>0</td>\n      <td>0</td>\n      <td>1</td>\n      <td>0</td>\n      <td>0</td>\n      <td>0</td>\n      <td>0</td>\n      <td>30024</td>\n    </tr>\n    <tr>\n      <th>2</th>\n      <td>Anthony</td>\n      <td>0</td>\n      <td>0</td>\n      <td>1</td>\n      <td>0</td>\n      <td>0</td>\n      <td>1</td>\n      <td>1</td>\n      <td>1</td>\n      <td>1</td>\n      <td>1</td>\n      <td>1</td>\n      <td>1</td>\n      <td>1</td>\n      <td>0</td>\n      <td>95134</td>\n    </tr>\n    <tr>\n      <th>3</th>\n      <td>Anushka Sharma</td>\n      <td>0</td>\n      <td>0</td>\n      <td>1</td>\n      <td>0</td>\n      <td>0</td>\n      <td>1</td>\n      <td>0</td>\n      <td>0</td>\n      <td>1</td>\n      <td>0</td>\n      <td>0</td>\n      <td>1</td>\n      <td>1</td>\n      <td>0</td>\n      <td>10004</td>\n    </tr>\n    <tr>\n      <th>4</th>\n      <td>Arvind Krishna</td>\n      <td>1</td>\n      <td>0</td>\n      <td>1</td>\n      <td>0</td>\n      <td>0</td>\n      <td>0</td>\n      <td>0</td>\n      <td>0</td>\n      <td>0</td>\n      <td>0</td>\n      <td>0</td>\n      <td>0</td>\n      <td>1</td>\n      <td>0</td>\n      <td>10005</td>\n    </tr>\n    <tr>\n      <th>5</th>\n      <td>Atal Bihari Vajpayee</td>\n      <td>0</td>\n      <td>0</td>\n      <td>0</td>\n      <td>0</td>\n      <td>0</td>\n      <td>0</td>\n      <td>1</td>\n      <td>0</td>\n      <td>1</td>\n      <td>0</td>\n      <td>1</td>\n      <td>0</td>\n      <td>0</td>\n      <td>0</td>\n      <td>11354</td>\n    </tr>\n    <tr>\n      <th>6</th>\n      <td>Bhagat Singh</td>\n      <td>0</td>\n      <td>0</td>\n      <td>0</td>\n      <td>0</td>\n      <td>0</td>\n      <td>1</td>\n      <td>0</td>\n      <td>0</td>\n      <td>0</td>\n      <td>0</td>\n      <td>1</td>\n      <td>1</td>\n      <td>0</td>\n      <td>0</td>\n      <td>11354</td>\n    </tr>\n    <tr>\n      <th>7</th>\n      <td>Brian</td>\n      <td>0</td>\n      <td>0</td>\n      <td>1</td>\n      <td>0</td>\n      <td>0</td>\n      <td>0</td>\n      <td>0</td>\n      <td>1</td>\n      <td>0</td>\n      <td>1</td>\n      <td>1</td>\n      <td>0</td>\n      <td>1</td>\n      <td>0</td>\n      <td>22314</td>\n    </tr>\n    <tr>\n      <th>8</th>\n      <td>Charles</td>\n      <td>0</td>\n      <td>0</td>\n      <td>1</td>\n      <td>0</td>\n      <td>0</td>\n      <td>1</td>\n      <td>0</td>\n      <td>1</td>\n      <td>0</td>\n      <td>1</td>\n      <td>1</td>\n      <td>0</td>\n      <td>1</td>\n      <td>0</td>\n      <td>22314</td>\n    </tr>\n    <tr>\n      <th>9</th>\n      <td>Christopher</td>\n      <td>1</td>\n      <td>0</td>\n      <td>0</td>\n      <td>0</td>\n      <td>0</td>\n      <td>1</td>\n      <td>0</td>\n      <td>1</td>\n      <td>1</td>\n      <td>0</td>\n      <td>0</td>\n      <td>0</td>\n      <td>0</td>\n      <td>0</td>\n      <td>10021</td>\n    </tr>\n    <tr>\n      <th>10</th>\n      <td>Daniel</td>\n      <td>0</td>\n      <td>0</td>\n      <td>1</td>\n      <td>0</td>\n      <td>0</td>\n      <td>1</td>\n      <td>0</td>\n      <td>0</td>\n      <td>0</td>\n      <td>1</td>\n      <td>0</td>\n      <td>0</td>\n      <td>1</td>\n      <td>0</td>\n      <td>11203</td>\n    </tr>\n    <tr>\n      <th>11</th>\n      <td>David</td>\n      <td>1</td>\n      <td>0</td>\n      <td>1</td>\n      <td>0</td>\n      <td>0</td>\n      <td>0</td>\n      <td>0</td>\n      <td>1</td>\n      <td>0</td>\n      <td>0</td>\n      <td>0</td>\n      <td>1</td>\n      <td>1</td>\n      <td>0</td>\n      <td>85013</td>\n    </tr>\n    <tr>\n      <th>12</th>\n      <td>Deborah</td>\n      <td>0</td>\n      <td>0</td>\n      <td>0</td>\n      <td>0</td>\n      <td>0</td>\n      <td>0</td>\n      <td>0</td>\n      <td>0</td>\n      <td>1</td>\n      <td>0</td>\n      <td>1</td>\n      <td>0</td>\n      <td>0</td>\n      <td>0</td>\n      <td>33023</td>\n    </tr>\n    <tr>\n      <th>13</th>\n      <td>Donna</td>\n      <td>0</td>\n      <td>0</td>\n      <td>0</td>\n      <td>0</td>\n      <td>0</td>\n      <td>1</td>\n      <td>0</td>\n      <td>0</td>\n      <td>0</td>\n      <td>0</td>\n      <td>0</td>\n      <td>1</td>\n      <td>0</td>\n      <td>0</td>\n      <td>33023</td>\n    </tr>\n    <tr>\n      <th>14</th>\n      <td>Edward</td>\n      <td>0</td>\n      <td>0</td>\n      <td>0</td>\n      <td>0</td>\n      <td>0</td>\n      <td>0</td>\n      <td>0</td>\n      <td>0</td>\n      <td>0</td>\n      <td>0</td>\n      <td>0</td>\n      <td>0</td>\n      <td>0</td>\n      <td>0</td>\n      <td>760005</td>\n    </tr>\n    <tr>\n      <th>15</th>\n      <td>Emma Watson</td>\n      <td>1</td>\n      <td>0</td>\n      <td>1</td>\n      <td>0</td>\n      <td>0</td>\n      <td>1</td>\n      <td>1</td>\n      <td>1</td>\n      <td>1</td>\n      <td>1</td>\n      <td>1</td>\n      <td>1</td>\n      <td>1</td>\n      <td>0</td>\n      <td>10004</td>\n    </tr>\n    <tr>\n      <th>16</th>\n      <td>Gul Panag</td>\n      <td>0</td>\n      <td>0</td>\n      <td>0</td>\n      <td>0</td>\n      <td>0</td>\n      <td>1</td>\n      <td>1</td>\n      <td>1</td>\n      <td>0</td>\n      <td>1</td>\n      <td>0</td>\n      <td>0</td>\n      <td>0</td>\n      <td>0</td>\n      <td>22003</td>\n    </tr>\n    <tr>\n      <th>17</th>\n      <td>Hemanth</td>\n      <td>1</td>\n      <td>0</td>\n      <td>1</td>\n      <td>0</td>\n      <td>0</td>\n      <td>1</td>\n      <td>1</td>\n      <td>1</td>\n      <td>1</td>\n      <td>1</td>\n      <td>1</td>\n      <td>1</td>\n      <td>1</td>\n      <td>0</td>\n      <td>22314</td>\n    </tr>\n    <tr>\n      <th>18</th>\n      <td>Indira Gandhi</td>\n      <td>1</td>\n      <td>1</td>\n      <td>1</td>\n      <td>0</td>\n      <td>0</td>\n      <td>1</td>\n      <td>1</td>\n      <td>1</td>\n      <td>1</td>\n      <td>1</td>\n      <td>1</td>\n      <td>0</td>\n      <td>1</td>\n      <td>0</td>\n      <td>760005</td>\n    </tr>\n    <tr>\n      <th>19</th>\n      <td>James</td>\n      <td>1</td>\n      <td>0</td>\n      <td>0</td>\n      <td>0</td>\n      <td>0</td>\n      <td>1</td>\n      <td>1</td>\n      <td>1</td>\n      <td>1</td>\n      <td>0</td>\n      <td>0</td>\n      <td>1</td>\n      <td>0</td>\n      <td>0</td>\n      <td>21215</td>\n    </tr>\n    <tr>\n      <th>20</th>\n      <td>John</td>\n      <td>0</td>\n      <td>0</td>\n      <td>0</td>\n      <td>0</td>\n      <td>0</td>\n      <td>1</td>\n      <td>1</td>\n      <td>1</td>\n      <td>1</td>\n      <td>1</td>\n      <td>0</td>\n      <td>1</td>\n      <td>0</td>\n      <td>0</td>\n      <td>85013</td>\n    </tr>\n    <tr>\n      <th>21</th>\n      <td>Jonny Depp</td>\n      <td>1</td>\n      <td>0</td>\n      <td>0</td>\n      <td>0</td>\n      <td>0</td>\n      <td>0</td>\n      <td>0</td>\n      <td>0</td>\n      <td>0</td>\n      <td>1</td>\n      <td>1</td>\n      <td>1</td>\n      <td>0</td>\n      <td>0</td>\n      <td>22003</td>\n    </tr>\n    <tr>\n      <th>22</th>\n      <td>Joseph</td>\n      <td>1</td>\n      <td>0</td>\n      <td>0</td>\n      <td>0</td>\n      <td>0</td>\n      <td>1</td>\n      <td>1</td>\n      <td>0</td>\n      <td>1</td>\n      <td>1</td>\n      <td>1</td>\n      <td>1</td>\n      <td>0</td>\n      <td>0</td>\n      <td>10004</td>\n    </tr>\n    <tr>\n      <th>23</th>\n      <td>Kimberly</td>\n      <td>0</td>\n      <td>0</td>\n      <td>0</td>\n      <td>0</td>\n      <td>0</td>\n      <td>0</td>\n      <td>1</td>\n      <td>1</td>\n      <td>0</td>\n      <td>1</td>\n      <td>0</td>\n      <td>1</td>\n      <td>0</td>\n      <td>0</td>\n      <td>11223</td>\n    </tr>\n    <tr>\n      <th>24</th>\n      <td>Krishna</td>\n      <td>1</td>\n      <td>0</td>\n      <td>1</td>\n      <td>1</td>\n      <td>0</td>\n      <td>0</td>\n      <td>0</td>\n      <td>0</td>\n      <td>0</td>\n      <td>0</td>\n      <td>1</td>\n      <td>0</td>\n      <td>1</td>\n      <td>1</td>\n      <td>123456</td>\n    </tr>\n    <tr>\n      <th>25</th>\n      <td>Mark</td>\n      <td>0</td>\n      <td>0</td>\n      <td>1</td>\n      <td>0</td>\n      <td>0</td>\n      <td>1</td>\n      <td>0</td>\n      <td>1</td>\n      <td>0</td>\n      <td>0</td>\n      <td>0</td>\n      <td>0</td>\n      <td>1</td>\n      <td>0</td>\n      <td>11203</td>\n    </tr>\n    <tr>\n      <th>26</th>\n      <td>Matthew</td>\n      <td>0</td>\n      <td>0</td>\n      <td>1</td>\n      <td>0</td>\n      <td>0</td>\n      <td>0</td>\n      <td>0</td>\n      <td>0</td>\n      <td>0</td>\n      <td>0</td>\n      <td>1</td>\n      <td>0</td>\n      <td>1</td>\n      <td>0</td>\n      <td>21215</td>\n    </tr>\n    <tr>\n      <th>27</th>\n      <td>Melissa</td>\n      <td>1</td>\n      <td>0</td>\n      <td>1</td>\n      <td>0</td>\n      <td>0</td>\n      <td>0</td>\n      <td>1</td>\n      <td>1</td>\n      <td>0</td>\n      <td>0</td>\n      <td>0</td>\n      <td>0</td>\n      <td>1</td>\n      <td>0</td>\n      <td>30024</td>\n    </tr>\n    <tr>\n      <th>28</th>\n      <td>Michael</td>\n      <td>1</td>\n      <td>0</td>\n      <td>1</td>\n      <td>0</td>\n      <td>0</td>\n      <td>1</td>\n      <td>1</td>\n      <td>1</td>\n      <td>1</td>\n      <td>0</td>\n      <td>0</td>\n      <td>0</td>\n      <td>1</td>\n      <td>0</td>\n      <td>10004</td>\n    </tr>\n    <tr>\n      <th>29</th>\n      <td>Michelle</td>\n      <td>0</td>\n      <td>0</td>\n      <td>0</td>\n      <td>0</td>\n      <td>0</td>\n      <td>1</td>\n      <td>0</td>\n      <td>0</td>\n      <td>0</td>\n      <td>0</td>\n      <td>1</td>\n      <td>0</td>\n      <td>0</td>\n      <td>0</td>\n      <td>11223</td>\n    </tr>\n    <tr>\n      <th>30</th>\n      <td>Paul</td>\n      <td>1</td>\n      <td>0</td>\n      <td>1</td>\n      <td>0</td>\n      <td>0</td>\n      <td>0</td>\n      <td>1</td>\n      <td>1</td>\n      <td>1</td>\n      <td>1</td>\n      <td>1</td>\n      <td>1</td>\n      <td>1</td>\n      <td>0</td>\n      <td>10032</td>\n    </tr>\n    <tr>\n      <th>31</th>\n      <td>Pavani</td>\n      <td>1</td>\n      <td>0</td>\n      <td>0</td>\n      <td>0</td>\n      <td>0</td>\n      <td>1</td>\n      <td>0</td>\n      <td>0</td>\n      <td>0</td>\n      <td>0</td>\n      <td>0</td>\n      <td>0</td>\n      <td>0</td>\n      <td>0</td>\n      <td>95134</td>\n    </tr>\n    <tr>\n      <th>32</th>\n      <td>Richard</td>\n      <td>1</td>\n      <td>0</td>\n      <td>1</td>\n      <td>0</td>\n      <td>0</td>\n      <td>0</td>\n      <td>0</td>\n      <td>0</td>\n      <td>0</td>\n      <td>1</td>\n      <td>1</td>\n      <td>0</td>\n      <td>1</td>\n      <td>0</td>\n      <td>10032</td>\n    </tr>\n    <tr>\n      <th>33</th>\n      <td>Robert</td>\n      <td>1</td>\n      <td>0</td>\n      <td>1</td>\n      <td>0</td>\n      <td>1</td>\n      <td>1</td>\n      <td>0</td>\n      <td>0</td>\n      <td>0</td>\n      <td>1</td>\n      <td>0</td>\n      <td>0</td>\n      <td>1</td>\n      <td>1</td>\n      <td>10032</td>\n    </tr>\n    <tr>\n      <th>34</th>\n      <td>Sandra</td>\n      <td>0</td>\n      <td>0</td>\n      <td>0</td>\n      <td>0</td>\n      <td>0</td>\n      <td>1</td>\n      <td>0</td>\n      <td>0</td>\n      <td>1</td>\n      <td>0</td>\n      <td>1</td>\n      <td>0</td>\n      <td>0</td>\n      <td>0</td>\n      <td>11223</td>\n    </tr>\n    <tr>\n      <th>35</th>\n      <td>Timothy</td>\n      <td>1</td>\n      <td>0</td>\n      <td>1</td>\n      <td>0</td>\n      <td>0</td>\n      <td>0</td>\n      <td>1</td>\n      <td>0</td>\n      <td>0</td>\n      <td>0</td>\n      <td>1</td>\n      <td>0</td>\n      <td>1</td>\n      <td>0</td>\n      <td>11203</td>\n    </tr>\n    <tr>\n      <th>36</th>\n      <td>Tony Stark</td>\n      <td>1</td>\n      <td>0</td>\n      <td>1</td>\n      <td>0</td>\n      <td>0</td>\n      <td>1</td>\n      <td>1</td>\n      <td>1</td>\n      <td>1</td>\n      <td>1</td>\n      <td>1</td>\n      <td>1</td>\n      <td>1</td>\n      <td>0</td>\n      <td>21215</td>\n    </tr>\n    <tr>\n      <th>37</th>\n      <td>William</td>\n      <td>0</td>\n      <td>0</td>\n      <td>0</td>\n      <td>0</td>\n      <td>0</td>\n      <td>0</td>\n      <td>0</td>\n      <td>0</td>\n      <td>0</td>\n      <td>1</td>\n      <td>0</td>\n      <td>0</td>\n      <td>0</td>\n      <td>0</td>\n      <td>22314</td>\n    </tr>\n  </tbody>\n</table>\n</div>",
                        "text/plain": "                    name Symptoms  AttendingFuneral  Testing  spreadviafood  \\\n0           Adolf Hitler        0                 0        0              0   \n1                 Amanda        0                 0        0              0   \n2                Anthony        0                 0        1              0   \n3         Anushka Sharma        0                 0        1              0   \n4         Arvind Krishna        1                 0        1              0   \n5   Atal Bihari Vajpayee        0                 0        0              0   \n6           Bhagat Singh        0                 0        0              0   \n7                  Brian        0                 0        1              0   \n8                Charles        0                 0        1              0   \n9            Christopher        1                 0        0              0   \n10                Daniel        0                 0        1              0   \n11                 David        1                 0        1              0   \n12               Deborah        0                 0        0              0   \n13                 Donna        0                 0        0              0   \n14                Edward        0                 0        0              0   \n15           Emma Watson        1                 0        1              0   \n16             Gul Panag        0                 0        0              0   \n17               Hemanth        1                 0        1              0   \n18         Indira Gandhi        1                 1        1              0   \n19                 James        1                 0        0              0   \n20                  John        0                 0        0              0   \n21            Jonny Depp        1                 0        0              0   \n22                Joseph        1                 0        0              0   \n23              Kimberly        0                 0        0              0   \n24               Krishna        1                 0        1              1   \n25                  Mark        0                 0        1              0   \n26               Matthew        0                 0        1              0   \n27               Melissa        1                 0        1              0   \n28               Michael        1                 0        1              0   \n29              Michelle        0                 0        0              0   \n30                  Paul        1                 0        1              0   \n31                Pavani        1                 0        0              0   \n32               Richard        1                 0        1              0   \n33                Robert        1                 0        1              0   \n34                Sandra        0                 0        0              0   \n35               Timothy        1                 0        1              0   \n36            Tony Stark        1                 0        1              0   \n37               William        0                 0        0              0   \n\n    AnimalContact How_many_cases CoughRelatedQuestions ColdRelatedQuestions  \\\n0               0              1                     0                    1   \n1               0              0                     1                    0   \n2               0              1                     1                    1   \n3               0              1                     0                    0   \n4               0              0                     0                    0   \n5               0              0                     1                    0   \n6               0              1                     0                    0   \n7               0              0                     0                    1   \n8               0              1                     0                    1   \n9               0              1                     0                    1   \n10              0              1                     0                    0   \n11              0              0                     0                    1   \n12              0              0                     0                    0   \n13              0              1                     0                    0   \n14              0              0                     0                    0   \n15              0              1                     1                    1   \n16              0              1                     1                    1   \n17              0              1                     1                    1   \n18              0              1                     1                    1   \n19              0              1                     1                    1   \n20              0              1                     1                    1   \n21              0              0                     0                    0   \n22              0              1                     1                    0   \n23              0              0                     1                    1   \n24              0              0                     0                    0   \n25              0              1                     0                    1   \n26              0              0                     0                    0   \n27              0              0                     1                    1   \n28              0              1                     1                    1   \n29              0              1                     0                    0   \n30              0              0                     1                    1   \n31              0              1                     0                    0   \n32              0              0                     0                    0   \n33              1              1                     0                    0   \n34              0              1                     0                    0   \n35              0              0                     1                    0   \n36              0              1                     1                    1   \n37              0              0                     0                    0   \n\n   BodyPainRelatedQuestions Prevention HandwashingTips Symptomsinchildren  \\\n0                         0          1               1                  0   \n1                         0          1               0                  0   \n2                         1          1               1                  1   \n3                         1          0               0                  1   \n4                         0          0               0                  0   \n5                         1          0               1                  0   \n6                         0          0               1                  1   \n7                         0          1               1                  0   \n8                         0          1               1                  0   \n9                         1          0               0                  0   \n10                        0          1               0                  0   \n11                        0          0               0                  1   \n12                        1          0               1                  0   \n13                        0          0               0                  1   \n14                        0          0               0                  0   \n15                        1          1               1                  1   \n16                        0          1               0                  0   \n17                        1          1               1                  1   \n18                        1          1               1                  0   \n19                        1          0               0                  1   \n20                        1          1               0                  1   \n21                        0          1               1                  1   \n22                        1          1               1                  1   \n23                        0          1               0                  1   \n24                        0          0               1                  0   \n25                        0          0               0                  0   \n26                        0          0               1                  0   \n27                        0          0               0                  0   \n28                        1          0               0                  0   \n29                        0          0               1                  0   \n30                        1          1               1                  1   \n31                        0          0               0                  0   \n32                        0          1               1                  0   \n33                        0          1               0                  0   \n34                        1          0               1                  0   \n35                        0          0               1                  0   \n36                        1          1               1                  1   \n37                        0          1               0                  0   \n\n    CovidNewsquestions  CovidStatQuestions zipcode  \n0                    0                   0   11223  \n1                    0                   0   30024  \n2                    1                   0   95134  \n3                    1                   0   10004  \n4                    1                   0   10005  \n5                    0                   0   11354  \n6                    0                   0   11354  \n7                    1                   0   22314  \n8                    1                   0   22314  \n9                    0                   0   10021  \n10                   1                   0   11203  \n11                   1                   0   85013  \n12                   0                   0   33023  \n13                   0                   0   33023  \n14                   0                   0  760005  \n15                   1                   0   10004  \n16                   0                   0   22003  \n17                   1                   0   22314  \n18                   1                   0  760005  \n19                   0                   0   21215  \n20                   0                   0   85013  \n21                   0                   0   22003  \n22                   0                   0   10004  \n23                   0                   0   11223  \n24                   1                   1  123456  \n25                   1                   0   11203  \n26                   1                   0   21215  \n27                   1                   0   30024  \n28                   1                   0   10004  \n29                   0                   0   11223  \n30                   1                   0   10032  \n31                   0                   0   95134  \n32                   1                   0   10032  \n33                   1                   1   10032  \n34                   0                   0   11223  \n35                   1                   0   11203  \n36                   1                   0   21215  \n37                   0                   0   22314  "
                    },
                    "execution_count": 40,
                    "metadata": {},
                    "output_type": "execute_result"
                }
            ],
            "source": "mstFrm.head(10)"
        },
        {
            "cell_type": "code",
            "execution_count": 41,
            "metadata": {},
            "outputs": [
                {
                    "data": {
                        "text/plain": "name                        0.0\nSymptoms                    0.0\nAttendingFuneral            0.0\nTesting                     0.0\nspreadviafood               0.0\nAnimalContact               0.0\nHow_many_cases              0.0\nCoughRelatedQuestions       0.0\nColdRelatedQuestions        0.0\nBodyPainRelatedQuestions    0.0\nPrevention                  0.0\nHandwashingTips             0.0\nSymptomsinchildren          0.0\nCovidNewsquestions          0.0\nCovidStatQuestions          0.0\nzipcode                     0.0\ndtype: float64"
                    },
                    "execution_count": 41,
                    "metadata": {},
                    "output_type": "execute_result"
                }
            ],
            "source": "# Find column wise percentage of nulls\n\nmstFrm.isnull().sum()/len(mstFrm.index)"
        },
        {
            "cell_type": "markdown",
            "metadata": {},
            "source": "## TRAINING THE MODEL WITH HISTORICAL DATA "
        },
        {
            "cell_type": "markdown",
            "metadata": {},
            "source": "## Reading the historical data file and training the model in a better way to predict the realtime dataflow from cloudant DB"
        },
        {
            "cell_type": "code",
            "execution_count": 42,
            "metadata": {},
            "outputs": [
                {
                    "data": {
                        "text/html": "<div>\n<style scoped>\n    .dataframe tbody tr th:only-of-type {\n        vertical-align: middle;\n    }\n\n    .dataframe tbody tr th {\n        vertical-align: top;\n    }\n\n    .dataframe thead th {\n        text-align: right;\n    }\n</style>\n<table border=\"1\" class=\"dataframe\">\n  <thead>\n    <tr style=\"text-align: right;\">\n      <th></th>\n      <th>PersonName</th>\n      <th>Zipcode</th>\n      <th>symptomatic questions</th>\n      <th>CovidNewsquestions</th>\n      <th>CovidStatQuestions</th>\n      <th>NearbyCasesSearch</th>\n      <th>CoughRelatedQuestions</th>\n      <th>COldrelatedQuestions</th>\n      <th>BodyPainsRelatedQuestions</th>\n      <th>CovidpreventionRelatedQuestions</th>\n      <th>HandWashTechniqueQuestions</th>\n      <th>ChildSymptomicQuestions</th>\n      <th>Zone</th>\n    </tr>\n  </thead>\n  <tbody>\n    <tr>\n      <th>0</th>\n      <td>as</td>\n      <td>1</td>\n      <td>1</td>\n      <td>0</td>\n      <td>1</td>\n      <td>1</td>\n      <td>1</td>\n      <td>1</td>\n      <td>1</td>\n      <td>0</td>\n      <td>1</td>\n      <td>1</td>\n      <td>panic</td>\n    </tr>\n    <tr>\n      <th>1</th>\n      <td>das</td>\n      <td>41</td>\n      <td>1</td>\n      <td>0</td>\n      <td>1</td>\n      <td>1</td>\n      <td>1</td>\n      <td>0</td>\n      <td>1</td>\n      <td>1</td>\n      <td>0</td>\n      <td>1</td>\n      <td>panic</td>\n    </tr>\n    <tr>\n      <th>2</th>\n      <td>dsd</td>\n      <td>54351</td>\n      <td>1</td>\n      <td>0</td>\n      <td>1</td>\n      <td>0</td>\n      <td>1</td>\n      <td>0</td>\n      <td>0</td>\n      <td>0</td>\n      <td>1</td>\n      <td>0</td>\n      <td>ok</td>\n    </tr>\n    <tr>\n      <th>3</th>\n      <td>dsddsa</td>\n      <td>5435541</td>\n      <td>1</td>\n      <td>0</td>\n      <td>0</td>\n      <td>1</td>\n      <td>1</td>\n      <td>1</td>\n      <td>1</td>\n      <td>0</td>\n      <td>0</td>\n      <td>1</td>\n      <td>panic</td>\n    </tr>\n    <tr>\n      <th>4</th>\n      <td>tfefsd</td>\n      <td>678781</td>\n      <td>0</td>\n      <td>1</td>\n      <td>1</td>\n      <td>1</td>\n      <td>1</td>\n      <td>1</td>\n      <td>1</td>\n      <td>1</td>\n      <td>1</td>\n      <td>0</td>\n      <td>panic</td>\n    </tr>\n  </tbody>\n</table>\n</div>",
                        "text/plain": "  PersonName  Zipcode  symptomatic questions  CovidNewsquestions  \\\n0         as        1                      1                   0   \n1        das       41                      1                   0   \n2        dsd    54351                      1                   0   \n3     dsddsa  5435541                      1                   0   \n4     tfefsd   678781                      0                   1   \n\n   CovidStatQuestions  NearbyCasesSearch  CoughRelatedQuestions  \\\n0                   1                  1                      1   \n1                   1                  1                      1   \n2                   1                  0                      1   \n3                   0                  1                      1   \n4                   1                  1                      1   \n\n   COldrelatedQuestions  BodyPainsRelatedQuestions  \\\n0                     1                          1   \n1                     0                          1   \n2                     0                          0   \n3                     1                          1   \n4                     1                          1   \n\n   CovidpreventionRelatedQuestions  HandWashTechniqueQuestions  \\\n0                                0                           1   \n1                                1                           0   \n2                                0                           1   \n3                                0                           0   \n4                                1                           1   \n\n   ChildSymptomicQuestions   Zone  \n0                        1  panic  \n1                        1  panic  \n2                        0     ok  \n3                        1  panic  \n4                        0  panic  "
                    },
                    "execution_count": 42,
                    "metadata": {},
                    "output_type": "execute_result"
                }
            ],
            "source": "# The code was removed by Watson Studio for sharing."
        },
        {
            "cell_type": "code",
            "execution_count": 43,
            "metadata": {},
            "outputs": [],
            "source": "# Tag the Panic as 1 and Ok as 0\n\ncovid19['Zone'] = np.where((covid19['Zone'] == 'panic'), '1', '0')"
        },
        {
            "cell_type": "code",
            "execution_count": 44,
            "metadata": {},
            "outputs": [],
            "source": "# Cast the resulting column into int datatype\n\ncovid19.Zone = covid19.Zone.apply(np.int64)"
        },
        {
            "cell_type": "markdown",
            "metadata": {},
            "source": "### Checking the data percentage on target column for class imbalance"
        },
        {
            "cell_type": "code",
            "execution_count": 45,
            "metadata": {},
            "outputs": [
                {
                    "data": {
                        "text/plain": "0    54.166667\n1    45.833333\nName: Zone, dtype: float64"
                    },
                    "execution_count": 45,
                    "metadata": {},
                    "output_type": "execute_result"
                }
            ],
            "source": "# Find the percentage of churners\n((covid19['Zone'].value_counts())/len(covid19.index))*100"
        },
        {
            "cell_type": "code",
            "execution_count": 48,
            "metadata": {},
            "outputs": [
                {
                    "data": {
                        "image/png": "[encoded data removed]",
                        "text/plain": "<Figure size 432x288 with 1 Axes>"
                    },
                    "metadata": {},
                    "output_type": "display_data"
                }
            ],
            "source": "# Plot showing the Panic distribution\n\nplt.pie((((covid19['Zone'].value_counts())/len(covid19.index))*100).reset_index()['Zone'], autopct='%1.1f%%', startangle=90, radius = 1)\nplt.show()"
        },
        {
            "cell_type": "markdown",
            "metadata": {},
            "source": "Since the percentage of the two categories is balanced, there is no class imbalance and wont cause the algorithms to \nwrongly tag the panic as non panic(ok) ."
        },
        {
            "cell_type": "code",
            "execution_count": 49,
            "metadata": {},
            "outputs": [],
            "source": "# Work on the copy of the dataset\n\nch = covid19.copy()"
        },
        {
            "cell_type": "code",
            "execution_count": 50,
            "metadata": {},
            "outputs": [
                {
                    "data": {
                        "text/plain": "(24, 13)"
                    },
                    "execution_count": 50,
                    "metadata": {},
                    "output_type": "execute_result"
                }
            ],
            "source": "ch.shape"
        },
        {
            "cell_type": "code",
            "execution_count": 51,
            "metadata": {},
            "outputs": [
                {
                    "data": {
                        "text/plain": "0    54.166667\n1    45.833333\nName: Zone, dtype: float64"
                    },
                    "execution_count": 51,
                    "metadata": {},
                    "output_type": "execute_result"
                }
            ],
            "source": "# Find the percentage of churners\n((ch['Zone'].value_counts())/len(ch.index))*100"
        },
        {
            "cell_type": "code",
            "execution_count": 52,
            "metadata": {},
            "outputs": [],
            "source": "# Putting feature variable to X\nX = ch.drop(['Zone','Zipcode','PersonName'],axis=1)\n\n# Putting response variable to y\ny = ch['Zone']"
        },
        {
            "cell_type": "code",
            "execution_count": 53,
            "metadata": {},
            "outputs": [],
            "source": "# Splitting the data into train and test\nfrom sklearn.model_selection import train_test_split\nX_train, X_test, y_train, y_test = train_test_split(X,y, train_size=0.7,test_size=0.3,random_state=100)"
        },
        {
            "cell_type": "code",
            "execution_count": 54,
            "metadata": {},
            "outputs": [],
            "source": "# Create correlation matrix\ncorr_matrix = X_train.corr().abs()\n\n# Select upper triangle of correlation matrix\nupper = corr_matrix.where(np.triu(np.ones(corr_matrix.shape), k=1).astype(np.bool))"
        },
        {
            "cell_type": "code",
            "execution_count": 55,
            "metadata": {},
            "outputs": [],
            "source": "# Find index of feature columns with correlation greater than 0.69\nto_drop = [column for column in upper.columns if any(upper[column] > 0.60)]"
        },
        {
            "cell_type": "code",
            "execution_count": 56,
            "metadata": {},
            "outputs": [
                {
                    "data": {
                        "text/plain": "['CoughRelatedQuestions',\n 'BodyPainsRelatedQuestions',\n 'ChildSymptomicQuestions']"
                    },
                    "execution_count": 56,
                    "metadata": {},
                    "output_type": "execute_result"
                }
            ],
            "source": "to_drop"
        },
        {
            "cell_type": "code",
            "execution_count": 57,
            "metadata": {},
            "outputs": [],
            "source": "X_train_2 = X_train.drop(to_drop, 1)\nX_test_2 = X_test.drop(to_drop, 1)"
        },
        {
            "cell_type": "code",
            "execution_count": 58,
            "metadata": {},
            "outputs": [
                {
                    "name": "stderr",
                    "output_type": "stream",
                    "text": "/opt/ibm/conda/miniconda3.6/lib/python3.6/site-packages/sklearn/linear_model/logistic.py:433: FutureWarning: Default solver will be changed to 'lbfgs' in 0.22. Specify a solver to silence this warning.\n  FutureWarning)\n"
                },
                {
                    "data": {
                        "text/plain": "LogisticRegression(C=1.0, class_weight=None, dual=False, fit_intercept=True,\n          intercept_scaling=1, max_iter=100, multi_class='warn',\n          n_jobs=None, penalty='l2', random_state=None, solver='warn',\n          tol=0.0001, verbose=0, warm_start=False)"
                    },
                    "execution_count": 58,
                    "metadata": {},
                    "output_type": "execute_result"
                }
            ],
            "source": "# Let's run the model using the selected variables\nfrom sklearn.linear_model import LogisticRegression\nfrom sklearn import metrics\nlogsk = LogisticRegression()\nlogsk.fit(X_train_2, y_train)"
        },
        {
            "cell_type": "code",
            "execution_count": 59,
            "metadata": {},
            "outputs": [],
            "source": "# Predicted probabilities\ny_pred = logsk.predict_proba(X_test_2)"
        },
        {
            "cell_type": "code",
            "execution_count": 60,
            "metadata": {},
            "outputs": [],
            "source": "# Converting y_pred to a dataframe which is an array\ny_pred_df = pd.DataFrame(y_pred)"
        },
        {
            "cell_type": "code",
            "execution_count": 61,
            "metadata": {},
            "outputs": [
                {
                    "data": {
                        "text/html": "<div>\n<style scoped>\n    .dataframe tbody tr th:only-of-type {\n        vertical-align: middle;\n    }\n\n    .dataframe tbody tr th {\n        vertical-align: top;\n    }\n\n    .dataframe thead th {\n        text-align: right;\n    }\n</style>\n<table border=\"1\" class=\"dataframe\">\n  <thead>\n    <tr style=\"text-align: right;\">\n      <th></th>\n      <th>0</th>\n      <th>1</th>\n    </tr>\n  </thead>\n  <tbody>\n    <tr>\n      <th>0</th>\n      <td>0.258286</td>\n      <td>0.741714</td>\n    </tr>\n    <tr>\n      <th>1</th>\n      <td>0.461285</td>\n      <td>0.538715</td>\n    </tr>\n    <tr>\n      <th>2</th>\n      <td>0.680949</td>\n      <td>0.319051</td>\n    </tr>\n    <tr>\n      <th>3</th>\n      <td>0.440551</td>\n      <td>0.559449</td>\n    </tr>\n    <tr>\n      <th>4</th>\n      <td>0.537315</td>\n      <td>0.462685</td>\n    </tr>\n    <tr>\n      <th>5</th>\n      <td>0.270123</td>\n      <td>0.729877</td>\n    </tr>\n    <tr>\n      <th>6</th>\n      <td>0.150672</td>\n      <td>0.849328</td>\n    </tr>\n    <tr>\n      <th>7</th>\n      <td>0.618038</td>\n      <td>0.381962</td>\n    </tr>\n  </tbody>\n</table>\n</div>",
                        "text/plain": "          0         1\n0  0.258286  0.741714\n1  0.461285  0.538715\n2  0.680949  0.319051\n3  0.440551  0.559449\n4  0.537315  0.462685\n5  0.270123  0.729877\n6  0.150672  0.849328\n7  0.618038  0.381962"
                    },
                    "execution_count": 61,
                    "metadata": {},
                    "output_type": "execute_result"
                }
            ],
            "source": "y_pred_df"
        },
        {
            "cell_type": "code",
            "execution_count": 62,
            "metadata": {},
            "outputs": [],
            "source": "# Converting to column dataframe\ny_pred_1 = y_pred_df.iloc[:,[1]]"
        },
        {
            "cell_type": "code",
            "execution_count": 63,
            "metadata": {},
            "outputs": [
                {
                    "data": {
                        "text/html": "<div>\n<style scoped>\n    .dataframe tbody tr th:only-of-type {\n        vertical-align: middle;\n    }\n\n    .dataframe tbody tr th {\n        vertical-align: top;\n    }\n\n    .dataframe thead th {\n        text-align: right;\n    }\n</style>\n<table border=\"1\" class=\"dataframe\">\n  <thead>\n    <tr style=\"text-align: right;\">\n      <th></th>\n      <th>1</th>\n    </tr>\n  </thead>\n  <tbody>\n    <tr>\n      <th>0</th>\n      <td>0.741714</td>\n    </tr>\n    <tr>\n      <th>1</th>\n      <td>0.538715</td>\n    </tr>\n    <tr>\n      <th>2</th>\n      <td>0.319051</td>\n    </tr>\n    <tr>\n      <th>3</th>\n      <td>0.559449</td>\n    </tr>\n    <tr>\n      <th>4</th>\n      <td>0.462685</td>\n    </tr>\n  </tbody>\n</table>\n</div>",
                        "text/plain": "          1\n0  0.741714\n1  0.538715\n2  0.319051\n3  0.559449\n4  0.462685"
                    },
                    "execution_count": 63,
                    "metadata": {},
                    "output_type": "execute_result"
                }
            ],
            "source": "# Let's see the head\ny_pred_1.head()"
        },
        {
            "cell_type": "code",
            "execution_count": 64,
            "metadata": {},
            "outputs": [],
            "source": "# Converting y_test to dataframe\ny_test_df = pd.DataFrame(y_test)"
        },
        {
            "cell_type": "code",
            "execution_count": 66,
            "metadata": {},
            "outputs": [],
            "source": "# Putting CustID to index\ny_test_df['PersonName'] = y_test_df.index"
        },
        {
            "cell_type": "code",
            "execution_count": 67,
            "metadata": {},
            "outputs": [
                {
                    "data": {
                        "text/html": "<div>\n<style scoped>\n    .dataframe tbody tr th:only-of-type {\n        vertical-align: middle;\n    }\n\n    .dataframe tbody tr th {\n        vertical-align: top;\n    }\n\n    .dataframe thead th {\n        text-align: right;\n    }\n</style>\n<table border=\"1\" class=\"dataframe\">\n  <thead>\n    <tr style=\"text-align: right;\">\n      <th></th>\n      <th>Zone</th>\n      <th>PersonName</th>\n    </tr>\n  </thead>\n  <tbody>\n    <tr>\n      <th>6</th>\n      <td>1</td>\n      <td>6</td>\n    </tr>\n    <tr>\n      <th>9</th>\n      <td>0</td>\n      <td>9</td>\n    </tr>\n    <tr>\n      <th>18</th>\n      <td>0</td>\n      <td>18</td>\n    </tr>\n    <tr>\n      <th>21</th>\n      <td>1</td>\n      <td>21</td>\n    </tr>\n    <tr>\n      <th>13</th>\n      <td>0</td>\n      <td>13</td>\n    </tr>\n    <tr>\n      <th>5</th>\n      <td>0</td>\n      <td>5</td>\n    </tr>\n    <tr>\n      <th>12</th>\n      <td>1</td>\n      <td>12</td>\n    </tr>\n    <tr>\n      <th>22</th>\n      <td>0</td>\n      <td>22</td>\n    </tr>\n  </tbody>\n</table>\n</div>",
                        "text/plain": "    Zone  PersonName\n6      1           6\n9      0           9\n18     0          18\n21     1          21\n13     0          13\n5      0           5\n12     1          12\n22     0          22"
                    },
                    "execution_count": 67,
                    "metadata": {},
                    "output_type": "execute_result"
                }
            ],
            "source": "y_test_df"
        },
        {
            "cell_type": "code",
            "execution_count": 68,
            "metadata": {},
            "outputs": [],
            "source": "# Removing index for both dataframes to append them side by side \ny_pred_1.reset_index(drop=True, inplace=True)\ny_test_df.reset_index(drop=True, inplace=True)"
        },
        {
            "cell_type": "code",
            "execution_count": 69,
            "metadata": {},
            "outputs": [],
            "source": "# Appending y_test_df and y_pred_1\ny_pred_final = pd.concat([y_test_df,y_pred_1],axis=1)"
        },
        {
            "cell_type": "code",
            "execution_count": 70,
            "metadata": {},
            "outputs": [
                {
                    "data": {
                        "text/html": "<div>\n<style scoped>\n    .dataframe tbody tr th:only-of-type {\n        vertical-align: middle;\n    }\n\n    .dataframe tbody tr th {\n        vertical-align: top;\n    }\n\n    .dataframe thead th {\n        text-align: right;\n    }\n</style>\n<table border=\"1\" class=\"dataframe\">\n  <thead>\n    <tr style=\"text-align: right;\">\n      <th></th>\n      <th>Zone</th>\n      <th>PersonName</th>\n      <th>1</th>\n    </tr>\n  </thead>\n  <tbody>\n    <tr>\n      <th>0</th>\n      <td>1</td>\n      <td>6</td>\n      <td>0.741714</td>\n    </tr>\n    <tr>\n      <th>1</th>\n      <td>0</td>\n      <td>9</td>\n      <td>0.538715</td>\n    </tr>\n    <tr>\n      <th>2</th>\n      <td>0</td>\n      <td>18</td>\n      <td>0.319051</td>\n    </tr>\n    <tr>\n      <th>3</th>\n      <td>1</td>\n      <td>21</td>\n      <td>0.559449</td>\n    </tr>\n    <tr>\n      <th>4</th>\n      <td>0</td>\n      <td>13</td>\n      <td>0.462685</td>\n    </tr>\n  </tbody>\n</table>\n</div>",
                        "text/plain": "   Zone  PersonName         1\n0     1           6  0.741714\n1     0           9  0.538715\n2     0          18  0.319051\n3     1          21  0.559449\n4     0          13  0.462685"
                    },
                    "execution_count": 70,
                    "metadata": {},
                    "output_type": "execute_result"
                }
            ],
            "source": "y_pred_final.head()"
        },
        {
            "cell_type": "code",
            "execution_count": 71,
            "metadata": {},
            "outputs": [],
            "source": "df_out=X.copy()"
        },
        {
            "cell_type": "code",
            "execution_count": 72,
            "metadata": {},
            "outputs": [],
            "source": "# Predicted probabilities\ny_wholePred = logsk.predict_proba(df_out.drop(to_drop, 1))"
        },
        {
            "cell_type": "code",
            "execution_count": 73,
            "metadata": {},
            "outputs": [
                {
                    "data": {
                        "text/html": "<div>\n<style scoped>\n    .dataframe tbody tr th:only-of-type {\n        vertical-align: middle;\n    }\n\n    .dataframe tbody tr th {\n        vertical-align: top;\n    }\n\n    .dataframe thead th {\n        text-align: right;\n    }\n</style>\n<table border=\"1\" class=\"dataframe\">\n  <thead>\n    <tr style=\"text-align: right;\">\n      <th></th>\n      <th>1</th>\n    </tr>\n  </thead>\n  <tbody>\n    <tr>\n      <th>0</th>\n      <td>0.660249</td>\n    </tr>\n    <tr>\n      <th>1</th>\n      <td>0.743448</td>\n    </tr>\n    <tr>\n      <th>2</th>\n      <td>0.410708</td>\n    </tr>\n    <tr>\n      <th>3</th>\n      <td>0.827652</td>\n    </tr>\n    <tr>\n      <th>4</th>\n      <td>0.549175</td>\n    </tr>\n    <tr>\n      <th>5</th>\n      <td>0.729877</td>\n    </tr>\n    <tr>\n      <th>6</th>\n      <td>0.741714</td>\n    </tr>\n    <tr>\n      <th>7</th>\n      <td>0.461659</td>\n    </tr>\n    <tr>\n      <th>8</th>\n      <td>0.317083</td>\n    </tr>\n    <tr>\n      <th>9</th>\n      <td>0.538715</td>\n    </tr>\n    <tr>\n      <th>10</th>\n      <td>0.818791</td>\n    </tr>\n    <tr>\n      <th>11</th>\n      <td>0.304045</td>\n    </tr>\n    <tr>\n      <th>12</th>\n      <td>0.849328</td>\n    </tr>\n    <tr>\n      <th>13</th>\n      <td>0.462685</td>\n    </tr>\n    <tr>\n      <th>14</th>\n      <td>0.206801</td>\n    </tr>\n    <tr>\n      <th>15</th>\n      <td>0.605293</td>\n    </tr>\n    <tr>\n      <th>16</th>\n      <td>0.423164</td>\n    </tr>\n    <tr>\n      <th>17</th>\n      <td>0.438094</td>\n    </tr>\n    <tr>\n      <th>18</th>\n      <td>0.319051</td>\n    </tr>\n    <tr>\n      <th>19</th>\n      <td>0.817442</td>\n    </tr>\n    <tr>\n      <th>20</th>\n      <td>0.578210</td>\n    </tr>\n    <tr>\n      <th>21</th>\n      <td>0.559449</td>\n    </tr>\n    <tr>\n      <th>22</th>\n      <td>0.381962</td>\n    </tr>\n    <tr>\n      <th>23</th>\n      <td>0.438094</td>\n    </tr>\n  </tbody>\n</table>\n</div>",
                        "text/plain": "           1\n0   0.660249\n1   0.743448\n2   0.410708\n3   0.827652\n4   0.549175\n5   0.729877\n6   0.741714\n7   0.461659\n8   0.317083\n9   0.538715\n10  0.818791\n11  0.304045\n12  0.849328\n13  0.462685\n14  0.206801\n15  0.605293\n16  0.423164\n17  0.438094\n18  0.319051\n19  0.817442\n20  0.578210\n21  0.559449\n22  0.381962\n23  0.438094"
                    },
                    "execution_count": 73,
                    "metadata": {},
                    "output_type": "execute_result"
                }
            ],
            "source": "y_pred_df = pd.DataFrame(y_wholePred)\ny_pred_2 = y_pred_df.iloc[:,[1]]\ny_pred_2"
        },
        {
            "cell_type": "code",
            "execution_count": 74,
            "metadata": {},
            "outputs": [],
            "source": "# Removing index for both dataframes to append them side by side \ny_pred_2.reset_index(drop=True, inplace=True)\nch.reset_index(drop=True, inplace=True)"
        },
        {
            "cell_type": "code",
            "execution_count": 75,
            "metadata": {},
            "outputs": [],
            "source": "# Appending y_test_df and y_pred_1\ny_pred_final = pd.concat([ch,y_pred_2],axis=1)"
        },
        {
            "cell_type": "code",
            "execution_count": 77,
            "metadata": {},
            "outputs": [],
            "source": "# Renaming the column \ny_pred_final= y_pred_final.rename(columns={ 1 : 'Covid19_Prob'})\ny_pred_final['predicted'] = y_pred_final.Covid19_Prob.map( lambda x: 1 if x > 0.5 else 0)"
        },
        {
            "cell_type": "code",
            "execution_count": 78,
            "metadata": {},
            "outputs": [
                {
                    "data": {
                        "text/html": "<div>\n<style scoped>\n    .dataframe tbody tr th:only-of-type {\n        vertical-align: middle;\n    }\n\n    .dataframe tbody tr th {\n        vertical-align: top;\n    }\n\n    .dataframe thead th {\n        text-align: right;\n    }\n</style>\n<table border=\"1\" class=\"dataframe\">\n  <thead>\n    <tr style=\"text-align: right;\">\n      <th></th>\n      <th>PersonName</th>\n      <th>Zipcode</th>\n      <th>symptomatic questions</th>\n      <th>CovidNewsquestions</th>\n      <th>CovidStatQuestions</th>\n      <th>NearbyCasesSearch</th>\n      <th>CoughRelatedQuestions</th>\n      <th>COldrelatedQuestions</th>\n      <th>BodyPainsRelatedQuestions</th>\n      <th>CovidpreventionRelatedQuestions</th>\n      <th>HandWashTechniqueQuestions</th>\n      <th>ChildSymptomicQuestions</th>\n      <th>Zone</th>\n      <th>Covid19_Prob</th>\n      <th>predicted</th>\n    </tr>\n  </thead>\n  <tbody>\n    <tr>\n      <th>0</th>\n      <td>as</td>\n      <td>1</td>\n      <td>1</td>\n      <td>0</td>\n      <td>1</td>\n      <td>1</td>\n      <td>1</td>\n      <td>1</td>\n      <td>1</td>\n      <td>0</td>\n      <td>1</td>\n      <td>1</td>\n      <td>1</td>\n      <td>0.660249</td>\n      <td>1</td>\n    </tr>\n    <tr>\n      <th>1</th>\n      <td>das</td>\n      <td>41</td>\n      <td>1</td>\n      <td>0</td>\n      <td>1</td>\n      <td>1</td>\n      <td>1</td>\n      <td>0</td>\n      <td>1</td>\n      <td>1</td>\n      <td>0</td>\n      <td>1</td>\n      <td>1</td>\n      <td>0.743448</td>\n      <td>1</td>\n    </tr>\n    <tr>\n      <th>2</th>\n      <td>dsd</td>\n      <td>54351</td>\n      <td>1</td>\n      <td>0</td>\n      <td>1</td>\n      <td>0</td>\n      <td>1</td>\n      <td>0</td>\n      <td>0</td>\n      <td>0</td>\n      <td>1</td>\n      <td>0</td>\n      <td>0</td>\n      <td>0.410708</td>\n      <td>0</td>\n    </tr>\n    <tr>\n      <th>3</th>\n      <td>dsddsa</td>\n      <td>5435541</td>\n      <td>1</td>\n      <td>0</td>\n      <td>0</td>\n      <td>1</td>\n      <td>1</td>\n      <td>1</td>\n      <td>1</td>\n      <td>0</td>\n      <td>0</td>\n      <td>1</td>\n      <td>1</td>\n      <td>0.827652</td>\n      <td>1</td>\n    </tr>\n    <tr>\n      <th>4</th>\n      <td>tfefsd</td>\n      <td>678781</td>\n      <td>0</td>\n      <td>1</td>\n      <td>1</td>\n      <td>1</td>\n      <td>1</td>\n      <td>1</td>\n      <td>1</td>\n      <td>1</td>\n      <td>1</td>\n      <td>0</td>\n      <td>1</td>\n      <td>0.549175</td>\n      <td>1</td>\n    </tr>\n  </tbody>\n</table>\n</div>",
                        "text/plain": "  PersonName  Zipcode  symptomatic questions  CovidNewsquestions  \\\n0         as        1                      1                   0   \n1        das       41                      1                   0   \n2        dsd    54351                      1                   0   \n3     dsddsa  5435541                      1                   0   \n4     tfefsd   678781                      0                   1   \n\n   CovidStatQuestions  NearbyCasesSearch  CoughRelatedQuestions  \\\n0                   1                  1                      1   \n1                   1                  1                      1   \n2                   1                  0                      1   \n3                   0                  1                      1   \n4                   1                  1                      1   \n\n   COldrelatedQuestions  BodyPainsRelatedQuestions  \\\n0                     1                          1   \n1                     0                          1   \n2                     0                          0   \n3                     1                          1   \n4                     1                          1   \n\n   CovidpreventionRelatedQuestions  HandWashTechniqueQuestions  \\\n0                                0                           1   \n1                                1                           0   \n2                                0                           1   \n3                                0                           0   \n4                                1                           1   \n\n   ChildSymptomicQuestions  Zone  Covid19_Prob  predicted  \n0                        1     1      0.660249          1  \n1                        1     1      0.743448          1  \n2                        0     0      0.410708          0  \n3                        1     1      0.827652          1  \n4                        0     1      0.549175          1  "
                    },
                    "execution_count": 78,
                    "metadata": {},
                    "output_type": "execute_result"
                }
            ],
            "source": "y_pred_final.head()"
        },
        {
            "cell_type": "code",
            "execution_count": 79,
            "metadata": {},
            "outputs": [
                {
                    "data": {
                        "text/plain": "array([[11,  2],\n       [ 0, 11]])"
                    },
                    "execution_count": 79,
                    "metadata": {},
                    "output_type": "execute_result"
                }
            ],
            "source": "from sklearn import metrics\n# Confusion matrix \nconfusion = metrics.confusion_matrix( y_pred_final.Zone, y_pred_final.predicted )\nconfusion"
        },
        {
            "cell_type": "code",
            "execution_count": 80,
            "metadata": {},
            "outputs": [
                {
                    "data": {
                        "text/plain": "0.9166666666666666"
                    },
                    "execution_count": 80,
                    "metadata": {},
                    "output_type": "execute_result"
                }
            ],
            "source": "#Let's check the overall accuracy.\nmetrics.accuracy_score( y_pred_final.Zone, y_pred_final.predicted)"
        },
        {
            "cell_type": "markdown",
            "metadata": {},
            "source": "### PROCESSING THE REALTIME DATA TO THE TRAINED MODEL TO PREDICT THE PATTERN"
        },
        {
            "cell_type": "code",
            "execution_count": 115,
            "metadata": {},
            "outputs": [],
            "source": "covid19RealtimeData = mstFrm.copy()"
        },
        {
            "cell_type": "code",
            "execution_count": 116,
            "metadata": {},
            "outputs": [],
            "source": "covid19RealtimeData = covid19RealtimeData.drop(['AttendingFuneral', 'Testing','spreadviafood','AnimalContact'], axis=1)"
        },
        {
            "cell_type": "code",
            "execution_count": 117,
            "metadata": {},
            "outputs": [
                {
                    "data": {
                        "text/plain": "Index(['PersonName', 'Zipcode', 'symptomatic questions', 'CovidNewsquestions',\n       'CovidStatQuestions', 'NearbyCasesSearch', 'CoughRelatedQuestions',\n       'COldrelatedQuestions', 'BodyPainsRelatedQuestions',\n       'CovidpreventionRelatedQuestions', 'HandWashTechniqueQuestions',\n       'ChildSymptomicQuestions', 'Zone', 'Covid19_Prob', 'predicted'],\n      dtype='object')"
                    },
                    "execution_count": 117,
                    "metadata": {},
                    "output_type": "execute_result"
                }
            ],
            "source": "y_pred_final.columns"
        },
        {
            "cell_type": "code",
            "execution_count": 118,
            "metadata": {},
            "outputs": [
                {
                    "data": {
                        "text/plain": "Index(['name', 'Symptoms', 'How_many_cases', 'CoughRelatedQuestions',\n       'ColdRelatedQuestions', 'BodyPainRelatedQuestions', 'Prevention',\n       'HandwashingTips', 'Symptomsinchildren', 'CovidNewsquestions',\n       'CovidStatQuestions', 'zipcode'],\n      dtype='object')"
                    },
                    "execution_count": 118,
                    "metadata": {},
                    "output_type": "execute_result"
                }
            ],
            "source": "covid19RealtimeData.columns"
        },
        {
            "cell_type": "code",
            "execution_count": 119,
            "metadata": {},
            "outputs": [],
            "source": "col_dict = {'Symptoms': 'symptomatic questions', 'How_many_cases': 'NearbyCasesSearch',\n               'CoughRelatedQuestions': 'CoughRelatedQuestions', 'ColdRelatedQuestions': 'COldrelatedQuestions',\n               'BodyPainRelatedQuestions': 'BodyPainsRelatedQuestions', 'HandwashingTips': 'HandWashTechniqueQuestions',\n               'Symptomsinchildren': 'ChildSymptomicQuestions', 'How_many_cases': 'NearbyCasesSearch',\n               'name': 'PersonName', 'zipcode': 'Zipcode', 'Prevention' : 'CovidpreventionRelatedQuestions' }   ## key\u2192old name, value\u2192new name\n\ncovid19RealtimeData.columns = [col_dict.get(x, x) for x in covid19RealtimeData.columns]"
        },
        {
            "cell_type": "code",
            "execution_count": 120,
            "metadata": {},
            "outputs": [
                {
                    "data": {
                        "text/plain": "(38, 12)"
                    },
                    "execution_count": 120,
                    "metadata": {},
                    "output_type": "execute_result"
                }
            ],
            "source": "covid19RealtimeData.shape"
        },
        {
            "cell_type": "code",
            "execution_count": 121,
            "metadata": {},
            "outputs": [],
            "source": "# Realtime Predicting probabilities\ncovid19RealtimeData = covid19RealtimeData.drop(['PersonName', 'Zipcode'],axis=1)\ny_wholePred_realtime = logsk.predict_proba(covid19RealtimeData.drop(to_drop, 1))"
        },
        {
            "cell_type": "code",
            "execution_count": 122,
            "metadata": {},
            "outputs": [
                {
                    "data": {
                        "text/html": "<div>\n<style scoped>\n    .dataframe tbody tr th:only-of-type {\n        vertical-align: middle;\n    }\n\n    .dataframe tbody tr th {\n        vertical-align: top;\n    }\n\n    .dataframe thead th {\n        text-align: right;\n    }\n</style>\n<table border=\"1\" class=\"dataframe\">\n  <thead>\n    <tr style=\"text-align: right;\">\n      <th></th>\n      <th>1</th>\n    </tr>\n  </thead>\n  <tbody>\n    <tr>\n      <th>0</th>\n      <td>0.477854</td>\n    </tr>\n    <tr>\n      <th>1</th>\n      <td>0.519656</td>\n    </tr>\n    <tr>\n      <th>2</th>\n      <td>0.605293</td>\n    </tr>\n    <tr>\n      <th>3</th>\n      <td>0.519132</td>\n    </tr>\n    <tr>\n      <th>4</th>\n      <td>0.742660</td>\n    </tr>\n    <tr>\n      <th>5</th>\n      <td>0.437079</td>\n    </tr>\n    <tr>\n      <th>6</th>\n      <td>0.476825</td>\n    </tr>\n    <tr>\n      <th>7</th>\n      <td>0.566432</td>\n    </tr>\n    <tr>\n      <th>8</th>\n      <td>0.605293</td>\n    </tr>\n    <tr>\n      <th>9</th>\n      <td>0.507362</td>\n    </tr>\n    <tr>\n      <th>10</th>\n      <td>0.680296</td>\n    </tr>\n    <tr>\n      <th>11</th>\n      <td>0.595175</td>\n    </tr>\n    <tr>\n      <th>12</th>\n      <td>0.437079</td>\n    </tr>\n    <tr>\n      <th>13</th>\n      <td>0.391826</td>\n    </tr>\n    <tr>\n      <th>14</th>\n      <td>0.354366</td>\n    </tr>\n    <tr>\n      <th>15</th>\n      <td>0.827941</td>\n    </tr>\n    <tr>\n      <th>16</th>\n      <td>0.392810</td>\n    </tr>\n    <tr>\n      <th>17</th>\n      <td>0.827941</td>\n    </tr>\n    <tr>\n      <th>18</th>\n      <td>0.827941</td>\n    </tr>\n    <tr>\n      <th>19</th>\n      <td>0.507362</td>\n    </tr>\n    <tr>\n      <th>20</th>\n      <td>0.392810</td>\n    </tr>\n    <tr>\n      <th>21</th>\n      <td>0.827652</td>\n    </tr>\n    <tr>\n      <th>22</th>\n      <td>0.849328</td>\n    </tr>\n    <tr>\n      <th>23</th>\n      <td>0.355310</td>\n    </tr>\n    <tr>\n      <th>24</th>\n      <td>0.764316</td>\n    </tr>\n    <tr>\n      <th>25</th>\n      <td>0.354830</td>\n    </tr>\n    <tr>\n      <th>26</th>\n      <td>0.565419</td>\n    </tr>\n    <tr>\n      <th>27</th>\n      <td>0.595175</td>\n    </tr>\n    <tr>\n      <th>28</th>\n      <td>0.633128</td>\n    </tr>\n    <tr>\n      <th>29</th>\n      <td>0.476825</td>\n    </tr>\n    <tr>\n      <th>30</th>\n      <td>0.803899</td>\n    </tr>\n    <tr>\n      <th>31</th>\n      <td>0.669051</td>\n    </tr>\n    <tr>\n      <th>32</th>\n      <td>0.889465</td>\n    </tr>\n    <tr>\n      <th>33</th>\n      <td>0.841368</td>\n    </tr>\n    <tr>\n      <th>34</th>\n      <td>0.476825</td>\n    </tr>\n    <tr>\n      <th>35</th>\n      <td>0.803248</td>\n    </tr>\n    <tr>\n      <th>36</th>\n      <td>0.827941</td>\n    </tr>\n    <tr>\n      <th>37</th>\n      <td>0.519656</td>\n    </tr>\n  </tbody>\n</table>\n</div>",
                        "text/plain": "           1\n0   0.477854\n1   0.519656\n2   0.605293\n3   0.519132\n4   0.742660\n5   0.437079\n6   0.476825\n7   0.566432\n8   0.605293\n9   0.507362\n10  0.680296\n11  0.595175\n12  0.437079\n13  0.391826\n14  0.354366\n15  0.827941\n16  0.392810\n17  0.827941\n18  0.827941\n19  0.507362\n20  0.392810\n21  0.827652\n22  0.849328\n23  0.355310\n24  0.764316\n25  0.354830\n26  0.565419\n27  0.595175\n28  0.633128\n29  0.476825\n30  0.803899\n31  0.669051\n32  0.889465\n33  0.841368\n34  0.476825\n35  0.803248\n36  0.827941\n37  0.519656"
                    },
                    "execution_count": 122,
                    "metadata": {},
                    "output_type": "execute_result"
                }
            ],
            "source": "y_pred_realtime_df = pd.DataFrame(y_wholePred_realtime)\ny_pred_realtime_2 = y_pred_realtime_df.iloc[:,[1]]\ny_pred_realtime_2.head()"
        },
        {
            "cell_type": "code",
            "execution_count": 123,
            "metadata": {},
            "outputs": [],
            "source": "y_pred_realtime_2.reset_index(drop=True, inplace=True)\nmstFrm.reset_index(drop=True, inplace=True)"
        },
        {
            "cell_type": "code",
            "execution_count": 124,
            "metadata": {},
            "outputs": [],
            "source": "y_pred_realtime_final = pd.concat([mstFrm,y_pred_realtime_2],axis=1)"
        },
        {
            "cell_type": "code",
            "execution_count": 125,
            "metadata": {},
            "outputs": [],
            "source": "y_pred_realtime_final= y_pred_realtime_final.rename(columns={ 1 : 'Covid19_Prob'})\ny_pred_realtime_final['predicted'] = y_pred_realtime_final.Covid19_Prob.map( lambda x: 1 if x > 0.5 else 0)"
        },
        {
            "cell_type": "code",
            "execution_count": 126,
            "metadata": {},
            "outputs": [
                {
                    "data": {
                        "text/html": "<div>\n<style scoped>\n    .dataframe tbody tr th:only-of-type {\n        vertical-align: middle;\n    }\n\n    .dataframe tbody tr th {\n        vertical-align: top;\n    }\n\n    .dataframe thead th {\n        text-align: right;\n    }\n</style>\n<table border=\"1\" class=\"dataframe\">\n  <thead>\n    <tr style=\"text-align: right;\">\n      <th></th>\n      <th>name</th>\n      <th>Symptoms</th>\n      <th>AttendingFuneral</th>\n      <th>Testing</th>\n      <th>spreadviafood</th>\n      <th>AnimalContact</th>\n      <th>How_many_cases</th>\n      <th>CoughRelatedQuestions</th>\n      <th>ColdRelatedQuestions</th>\n      <th>BodyPainRelatedQuestions</th>\n      <th>Prevention</th>\n      <th>HandwashingTips</th>\n      <th>Symptomsinchildren</th>\n      <th>CovidNewsquestions</th>\n      <th>CovidStatQuestions</th>\n      <th>zipcode</th>\n      <th>Covid19_Prob</th>\n      <th>predicted</th>\n    </tr>\n  </thead>\n  <tbody>\n    <tr>\n      <th>0</th>\n      <td>Adolf Hitler</td>\n      <td>0</td>\n      <td>0</td>\n      <td>0</td>\n      <td>0</td>\n      <td>0</td>\n      <td>1</td>\n      <td>0</td>\n      <td>1</td>\n      <td>0</td>\n      <td>1</td>\n      <td>1</td>\n      <td>0</td>\n      <td>0</td>\n      <td>0</td>\n      <td>11223</td>\n      <td>0.477854</td>\n      <td>0</td>\n    </tr>\n    <tr>\n      <th>1</th>\n      <td>Amanda</td>\n      <td>0</td>\n      <td>0</td>\n      <td>0</td>\n      <td>0</td>\n      <td>0</td>\n      <td>0</td>\n      <td>1</td>\n      <td>0</td>\n      <td>0</td>\n      <td>1</td>\n      <td>0</td>\n      <td>0</td>\n      <td>0</td>\n      <td>0</td>\n      <td>30024</td>\n      <td>0.519656</td>\n      <td>1</td>\n    </tr>\n    <tr>\n      <th>2</th>\n      <td>Anthony</td>\n      <td>0</td>\n      <td>0</td>\n      <td>1</td>\n      <td>0</td>\n      <td>0</td>\n      <td>1</td>\n      <td>1</td>\n      <td>1</td>\n      <td>1</td>\n      <td>1</td>\n      <td>1</td>\n      <td>1</td>\n      <td>1</td>\n      <td>0</td>\n      <td>95134</td>\n      <td>0.605293</td>\n      <td>1</td>\n    </tr>\n    <tr>\n      <th>3</th>\n      <td>Anushka Sharma</td>\n      <td>0</td>\n      <td>0</td>\n      <td>1</td>\n      <td>0</td>\n      <td>0</td>\n      <td>1</td>\n      <td>0</td>\n      <td>0</td>\n      <td>1</td>\n      <td>0</td>\n      <td>0</td>\n      <td>1</td>\n      <td>1</td>\n      <td>0</td>\n      <td>10004</td>\n      <td>0.519132</td>\n      <td>1</td>\n    </tr>\n    <tr>\n      <th>4</th>\n      <td>Arvind Krishna</td>\n      <td>1</td>\n      <td>0</td>\n      <td>1</td>\n      <td>0</td>\n      <td>0</td>\n      <td>0</td>\n      <td>0</td>\n      <td>0</td>\n      <td>0</td>\n      <td>0</td>\n      <td>0</td>\n      <td>0</td>\n      <td>1</td>\n      <td>0</td>\n      <td>10005</td>\n      <td>0.742660</td>\n      <td>1</td>\n    </tr>\n  </tbody>\n</table>\n</div>",
                        "text/plain": "             name Symptoms  AttendingFuneral  Testing  spreadviafood  \\\n0    Adolf Hitler        0                 0        0              0   \n1          Amanda        0                 0        0              0   \n2         Anthony        0                 0        1              0   \n3  Anushka Sharma        0                 0        1              0   \n4  Arvind Krishna        1                 0        1              0   \n\n   AnimalContact How_many_cases CoughRelatedQuestions ColdRelatedQuestions  \\\n0              0              1                     0                    1   \n1              0              0                     1                    0   \n2              0              1                     1                    1   \n3              0              1                     0                    0   \n4              0              0                     0                    0   \n\n  BodyPainRelatedQuestions Prevention HandwashingTips Symptomsinchildren  \\\n0                        0          1               1                  0   \n1                        0          1               0                  0   \n2                        1          1               1                  1   \n3                        1          0               0                  1   \n4                        0          0               0                  0   \n\n   CovidNewsquestions  CovidStatQuestions zipcode  Covid19_Prob  predicted  \n0                   0                   0   11223      0.477854          0  \n1                   0                   0   30024      0.519656          1  \n2                   1                   0   95134      0.605293          1  \n3                   1                   0   10004      0.519132          1  \n4                   1                   0   10005      0.742660          1  "
                    },
                    "execution_count": 126,
                    "metadata": {},
                    "output_type": "execute_result"
                }
            ],
            "source": "y_pred_realtime_final.head()"
        },
        {
            "cell_type": "markdown",
            "metadata": {},
            "source": "## STORING THE PREDICTED VARIABLES TO CSV FORMAT FOR FURTHER INSIGHTS"
        },
        {
            "cell_type": "code",
            "execution_count": 127,
            "metadata": {},
            "outputs": [],
            "source": "y_pred_realtime_final.to_csv('covidPatternClassification.csv',index=False)"
        },
        {
            "cell_type": "code",
            "execution_count": 128,
            "metadata": {},
            "outputs": [
                {
                    "data": {
                        "text/html": "<div>\n<style scoped>\n    .dataframe tbody tr th:only-of-type {\n        vertical-align: middle;\n    }\n\n    .dataframe tbody tr th {\n        vertical-align: top;\n    }\n\n    .dataframe thead th {\n        text-align: right;\n    }\n</style>\n<table border=\"1\" class=\"dataframe\">\n  <thead>\n    <tr style=\"text-align: right;\">\n      <th></th>\n      <th>name</th>\n      <th>Symptoms</th>\n      <th>AttendingFuneral</th>\n      <th>Testing</th>\n      <th>spreadviafood</th>\n      <th>AnimalContact</th>\n      <th>How_many_cases</th>\n      <th>CoughRelatedQuestions</th>\n      <th>ColdRelatedQuestions</th>\n      <th>BodyPainRelatedQuestions</th>\n      <th>Prevention</th>\n      <th>HandwashingTips</th>\n      <th>Symptomsinchildren</th>\n      <th>CovidNewsquestions</th>\n      <th>CovidStatQuestions</th>\n      <th>zipcode</th>\n      <th>Covid19_Prob</th>\n      <th>predicted</th>\n    </tr>\n  </thead>\n  <tbody>\n    <tr>\n      <th>0</th>\n      <td>Adolf Hitler</td>\n      <td>0</td>\n      <td>0</td>\n      <td>0</td>\n      <td>0</td>\n      <td>0</td>\n      <td>1</td>\n      <td>0</td>\n      <td>1</td>\n      <td>0</td>\n      <td>1</td>\n      <td>1</td>\n      <td>0</td>\n      <td>0</td>\n      <td>0</td>\n      <td>11223</td>\n      <td>0.477854</td>\n      <td>0</td>\n    </tr>\n    <tr>\n      <th>1</th>\n      <td>Amanda</td>\n      <td>0</td>\n      <td>0</td>\n      <td>0</td>\n      <td>0</td>\n      <td>0</td>\n      <td>0</td>\n      <td>1</td>\n      <td>0</td>\n      <td>0</td>\n      <td>1</td>\n      <td>0</td>\n      <td>0</td>\n      <td>0</td>\n      <td>0</td>\n      <td>30024</td>\n      <td>0.519656</td>\n      <td>1</td>\n    </tr>\n    <tr>\n      <th>2</th>\n      <td>Anthony</td>\n      <td>0</td>\n      <td>0</td>\n      <td>1</td>\n      <td>0</td>\n      <td>0</td>\n      <td>1</td>\n      <td>1</td>\n      <td>1</td>\n      <td>1</td>\n      <td>1</td>\n      <td>1</td>\n      <td>1</td>\n      <td>1</td>\n      <td>0</td>\n      <td>95134</td>\n      <td>0.605293</td>\n      <td>1</td>\n    </tr>\n    <tr>\n      <th>3</th>\n      <td>Anushka Sharma</td>\n      <td>0</td>\n      <td>0</td>\n      <td>1</td>\n      <td>0</td>\n      <td>0</td>\n      <td>1</td>\n      <td>0</td>\n      <td>0</td>\n      <td>1</td>\n      <td>0</td>\n      <td>0</td>\n      <td>1</td>\n      <td>1</td>\n      <td>0</td>\n      <td>10004</td>\n      <td>0.519132</td>\n      <td>1</td>\n    </tr>\n    <tr>\n      <th>4</th>\n      <td>Arvind Krishna</td>\n      <td>1</td>\n      <td>0</td>\n      <td>1</td>\n      <td>0</td>\n      <td>0</td>\n      <td>0</td>\n      <td>0</td>\n      <td>0</td>\n      <td>0</td>\n      <td>0</td>\n      <td>0</td>\n      <td>0</td>\n      <td>1</td>\n      <td>0</td>\n      <td>10005</td>\n      <td>0.742660</td>\n      <td>1</td>\n    </tr>\n  </tbody>\n</table>\n</div>",
                        "text/plain": "             name  Symptoms  AttendingFuneral  Testing  spreadviafood  \\\n0    Adolf Hitler         0                 0        0              0   \n1          Amanda         0                 0        0              0   \n2         Anthony         0                 0        1              0   \n3  Anushka Sharma         0                 0        1              0   \n4  Arvind Krishna         1                 0        1              0   \n\n   AnimalContact  How_many_cases  CoughRelatedQuestions  ColdRelatedQuestions  \\\n0              0               1                      0                     1   \n1              0               0                      1                     0   \n2              0               1                      1                     1   \n3              0               1                      0                     0   \n4              0               0                      0                     0   \n\n   BodyPainRelatedQuestions  Prevention  HandwashingTips  Symptomsinchildren  \\\n0                         0           1                1                   0   \n1                         0           1                0                   0   \n2                         1           1                1                   1   \n3                         1           0                0                   1   \n4                         0           0                0                   0   \n\n   CovidNewsquestions  CovidStatQuestions  zipcode  Covid19_Prob  predicted  \n0                   0                   0    11223      0.477854          0  \n1                   0                   0    30024      0.519656          1  \n2                   1                   0    95134      0.605293          1  \n3                   1                   0    10004      0.519132          1  \n4                   1                   0    10005      0.742660          1  "
                    },
                    "execution_count": 128,
                    "metadata": {},
                    "output_type": "execute_result"
                }
            ],
            "source": "data = pd.read_csv(\"covidPatternClassification.csv\")\ndata.head()"
        },
        {
            "cell_type": "markdown",
            "metadata": {},
            "source": "##INSTALLING THE REQUIRED PACKAGES TO STORE THE CSV INTO COS STORAGE IN IBM"
        },
        {
            "cell_type": "code",
            "execution_count": 129,
            "metadata": {},
            "outputs": [
                {
                    "name": "stdout",
                    "output_type": "stream",
                    "text": "Collecting ibm-cos-sdk\n\u001b[?25l  Downloading https://files.pythonhosted.org/packages/fc/3e/87c6df874801a8327d36821d742e96987e21276671d6b669574d31fed9be/ibm-cos-sdk-2.6.3.tar.gz (54kB)\n\u001b[K    100% |\u2588\u2588\u2588\u2588\u2588\u2588\u2588\u2588\u2588\u2588\u2588\u2588\u2588\u2588\u2588\u2588\u2588\u2588\u2588\u2588\u2588\u2588\u2588\u2588\u2588\u2588\u2588\u2588\u2588\u2588\u2588\u2588| 61kB 3.6MB/s eta 0:00:01\n\u001b[?25hCollecting ibm-cos-sdk-core==2.6.3 (from ibm-cos-sdk)\n\u001b[?25l  Downloading https://files.pythonhosted.org/packages/60/22/b44dfb4e45bf14fd04c6e3964b9c353de7a503c2de25848b2cc60a8bbc2d/ibm-cos-sdk-core-2.6.3.tar.gz (823kB)\n\u001b[K    100% |\u2588\u2588\u2588\u2588\u2588\u2588\u2588\u2588\u2588\u2588\u2588\u2588\u2588\u2588\u2588\u2588\u2588\u2588\u2588\u2588\u2588\u2588\u2588\u2588\u2588\u2588\u2588\u2588\u2588\u2588\u2588\u2588| 829kB 531kB/s eta 0:00:01\n\u001b[?25hCollecting ibm-cos-sdk-s3transfer==2.6.3 (from ibm-cos-sdk)\n\u001b[?25l  Downloading https://files.pythonhosted.org/packages/72/3e/f204ebdb2f9cb8f6fb431226e39cc9cb2875567d400cf7c5bc9c9b309a2c/ibm-cos-sdk-s3transfer-2.6.3.tar.gz (218kB)\n\u001b[K    100% |\u2588\u2588\u2588\u2588\u2588\u2588\u2588\u2588\u2588\u2588\u2588\u2588\u2588\u2588\u2588\u2588\u2588\u2588\u2588\u2588\u2588\u2588\u2588\u2588\u2588\u2588\u2588\u2588\u2588\u2588\u2588\u2588| 225kB 6.5MB/s eta 0:00:01\n\u001b[?25hCollecting jmespath<1.0.0,>=0.7.1 (from ibm-cos-sdk)\n  Downloading https://files.pythonhosted.org/packages/07/cb/5f001272b6faeb23c1c9e0acc04d48eaaf5c862c17709d20e3469c6e0139/jmespath-0.10.0-py2.py3-none-any.whl\nCollecting docutils<0.16,>=0.10 (from ibm-cos-sdk-core==2.6.3->ibm-cos-sdk)\n\u001b[?25l  Downloading https://files.pythonhosted.org/packages/22/cd/a6aa959dca619918ccb55023b4cb151949c64d4d5d55b3f4ffd7eee0c6e8/docutils-0.15.2-py3-none-any.whl (547kB)\n\u001b[K    100% |\u2588\u2588\u2588\u2588\u2588\u2588\u2588\u2588\u2588\u2588\u2588\u2588\u2588\u2588\u2588\u2588\u2588\u2588\u2588\u2588\u2588\u2588\u2588\u2588\u2588\u2588\u2588\u2588\u2588\u2588\u2588\u2588| 552kB 5.9MB/s eta 0:00:01\n\u001b[?25hCollecting requests<3.0,>=2.18 (from ibm-cos-sdk-core==2.6.3->ibm-cos-sdk)\n  Using cached https://files.pythonhosted.org/packages/45/1e/0c169c6a5381e241ba7404532c16a21d86ab872c9bed8bdcd4c423954103/requests-2.24.0-py2.py3-none-any.whl\nCollecting python-dateutil<3.0.0,>=2.1 (from ibm-cos-sdk-core==2.6.3->ibm-cos-sdk)\n  Using cached https://files.pythonhosted.org/packages/d4/70/d60450c3dd48ef87586924207ae8907090de0b306af2bce5d134d78615cb/python_dateutil-2.8.1-py2.py3-none-any.whl\nCollecting chardet<4,>=3.0.2 (from requests<3.0,>=2.18->ibm-cos-sdk-core==2.6.3->ibm-cos-sdk)\n  Using cached https://files.pythonhosted.org/packages/bc/a9/01ffebfb562e4274b6487b4bb1ddec7ca55ec7510b22e4c51f14098443b8/chardet-3.0.4-py2.py3-none-any.whl\nCollecting urllib3!=1.25.0,!=1.25.1,<1.26,>=1.21.1 (from requests<3.0,>=2.18->ibm-cos-sdk-core==2.6.3->ibm-cos-sdk)\n  Using cached https://files.pythonhosted.org/packages/9f/f0/a391d1463ebb1b233795cabfc0ef38d3db4442339de68f847026199e69d7/urllib3-1.25.10-py2.py3-none-any.whl\nCollecting certifi>=2017.4.17 (from requests<3.0,>=2.18->ibm-cos-sdk-core==2.6.3->ibm-cos-sdk)\n  Using cached https://files.pythonhosted.org/packages/5e/c4/6c4fe722df5343c33226f0b4e0bb042e4dc13483228b4718baf286f86d87/certifi-2020.6.20-py2.py3-none-any.whl\nCollecting idna<3,>=2.5 (from requests<3.0,>=2.18->ibm-cos-sdk-core==2.6.3->ibm-cos-sdk)\n  Using cached https://files.pythonhosted.org/packages/a2/38/928ddce2273eaa564f6f50de919327bf3a00f091b5baba8dfa9460f3a8a8/idna-2.10-py2.py3-none-any.whl\nCollecting six>=1.5 (from python-dateutil<3.0.0,>=2.1->ibm-cos-sdk-core==2.6.3->ibm-cos-sdk)\n  Using cached https://files.pythonhosted.org/packages/ee/ff/48bde5c0f013094d729fe4b0316ba2a24774b3ff1c52d924a8a4cb04078a/six-1.15.0-py2.py3-none-any.whl\nBuilding wheels for collected packages: ibm-cos-sdk, ibm-cos-sdk-core, ibm-cos-sdk-s3transfer\n  Building wheel for ibm-cos-sdk (setup.py) ... \u001b[?25ldone\n\u001b[?25h  Stored in directory: /home/spark/shared/.cache/pip/wheels/23/c0/0b/6e7df83370c0fd314b4fe9aef6667e40178b31e7180dc69f26\n  Building wheel for ibm-cos-sdk-core (setup.py) ... \u001b[?25ldone\n\u001b[?25h  Stored in directory: /home/spark/shared/.cache/pip/wheels/f1/29/05/ab91fed96d22f69b37c4331f33b77f0f05df0c382bf5f09167\n  Building wheel for ibm-cos-sdk-s3transfer (setup.py) ... \u001b[?25ldone\n\u001b[?25h  Stored in directory: /home/spark/shared/.cache/pip/wheels/89/7d/0a/2ff0215b826ef7d5a5292a62d0f57144976d7dc61fe57f2445\nSuccessfully built ibm-cos-sdk ibm-cos-sdk-core ibm-cos-sdk-s3transfer\n\u001b[31mtensorflow 1.13.1 requires tensorboard<1.14.0,>=1.13.0, which is not installed.\u001b[0m\n\u001b[31mpytest-astropy 0.8.0 requires pytest-cov>=2.0, which is not installed.\u001b[0m\n\u001b[31mpytest-astropy 0.8.0 requires pytest-filter-subpackage>=0.1, which is not installed.\u001b[0m\n\u001b[31mwatson-machine-learning-client-v4 1.0.95 has requirement ibm-cos-sdk==2.6.0, but you'll have ibm-cos-sdk 2.6.3 which is incompatible.\u001b[0m\n\u001b[31mpytest-openfiles 0.5.0 has requirement pytest>=4.6, but you'll have pytest 3.10.1 which is incompatible.\u001b[0m\n\u001b[31mpytest-doctestplus 0.7.0 has requirement pytest>=4.0, but you'll have pytest 3.10.1 which is incompatible.\u001b[0m\n\u001b[31mpytest-astropy 0.8.0 has requirement pytest>=4.6, but you'll have pytest 3.10.1 which is incompatible.\u001b[0m\n\u001b[31mbotocore 1.12.82 has requirement urllib3<1.25,>=1.20, but you'll have urllib3 1.25.10 which is incompatible.\u001b[0m\nInstalling collected packages: jmespath, docutils, chardet, urllib3, certifi, idna, requests, six, python-dateutil, ibm-cos-sdk-core, ibm-cos-sdk-s3transfer, ibm-cos-sdk\nSuccessfully installed certifi-2020.6.20 chardet-3.0.4 docutils-0.15.2 ibm-cos-sdk-2.6.3 ibm-cos-sdk-core-2.6.3 ibm-cos-sdk-s3transfer-2.6.3 idna-2.10 jmespath-0.10.0 python-dateutil-2.8.1 requests-2.24.0 six-1.15.0 urllib3-1.25.10\n\u001b[33mTarget directory /home/spark/shared/user-libs/python3.6/urllib3-1.25.10.dist-info already exists. Specify --upgrade to force replacement.\u001b[0m\n\u001b[33mTarget directory /home/spark/shared/user-libs/python3.6/__pycache__ already exists. Specify --upgrade to force replacement.\u001b[0m\n\u001b[33mTarget directory /home/spark/shared/user-libs/python3.6/requests-2.24.0.dist-info already exists. Specify --upgrade to force replacement.\u001b[0m\n\u001b[33mTarget directory /home/spark/shared/user-libs/python3.6/requests already exists. Specify --upgrade to force replacement.\u001b[0m\n\u001b[33mTarget directory /home/spark/shared/user-libs/python3.6/certifi-2020.6.20.dist-info already exists. Specify --upgrade to force replacement.\u001b[0m\n\u001b[33mTarget directory /home/spark/shared/user-libs/python3.6/six-1.15.0.dist-info already exists. Specify --upgrade to force replacement.\u001b[0m\n\u001b[33mTarget directory /home/spark/shared/user-libs/python3.6/urllib3 already exists. Specify --upgrade to force replacement.\u001b[0m\n\u001b[33mTarget directory /home/spark/shared/user-libs/python3.6/python_dateutil-2.8.1.dist-info already exists. Specify --upgrade to force replacement.\u001b[0m\n\u001b[33mTarget directory /home/spark/shared/user-libs/python3.6/chardet already exists. Specify --upgrade to force replacement.\u001b[0m\n\u001b[33mTarget directory /home/spark/shared/user-libs/python3.6/dateutil already exists. Specify --upgrade to force replacement.\u001b[0m\n\u001b[33mTarget directory /home/spark/shared/user-libs/python3.6/certifi already exists. Specify --upgrade to force replacement.\u001b[0m\n\u001b[33mTarget directory /home/spark/shared/user-libs/python3.6/idna-2.10.dist-info already exists. Specify --upgrade to force replacement.\u001b[0m\n\u001b[33mTarget directory /home/spark/shared/user-libs/python3.6/idna already exists. Specify --upgrade to force replacement.\u001b[0m\n\u001b[33mTarget directory /home/spark/shared/user-libs/python3.6/six.py already exists. Specify --upgrade to force replacement.\u001b[0m\n\u001b[33mTarget directory /home/spark/shared/user-libs/python3.6/chardet-3.0.4.dist-info already exists. Specify --upgrade to force replacement.\u001b[0m\n\u001b[33mTarget directory /home/spark/shared/user-libs/python3.6/bin already exists. Specify --upgrade to force replacement.\u001b[0m\n"
                }
            ],
            "source": "!pip install ibm-cos-sdk"
        },
        {
            "cell_type": "code",
            "execution_count": 131,
            "metadata": {},
            "outputs": [],
            "source": "import ibm_boto3\nfrom ibm_botocore.client import Config, ClientError\n\n\n\n# Constants for IBM COS values\nCOS_ENDPOINT = \"https://s3-api.us-geo.objectstorage.service.networklayer.com\" # Current list avaiable at https://control.cloud-object-storage.cloud.ibm.com/v2/endpoints\nCOS_API_KEY_ID = \"tBJP6LVzcQy4NvUvOCl6gYk-g4vnTIMi673AzS3gydcv\" # eg \"W00YixxxxxxxxxxMB-odB-2ySfTrFBIQQWanc--P3byk\"\nCOS_INSTANCE_CRN = \"crn:v1:bluemix:public:cloud-object-storage:global:a/adf5d6c95fbb4f639efd0a43c86c3d1c:221a8342-941e-48c1-ac66-c55dfef0d045::\" # eg \"crn:v1:bluemix:public:cloud-object-storage:global:a/3bf0d9003xxxxxxxxxx1c3e97696b71c:d6f04d83-6c4f-4a62-a165-696756d63903::\"\nCOS_AUTH_ENDPOINT = \"https://iam.cloud.ibm.com/oidc/token\"\n\n# Create resource\ncos = ibm_boto3.resource(\"s3\",\n    ibm_api_key_id=COS_API_KEY_ID,\n    ibm_service_instance_id=COS_INSTANCE_CRN,\n    ibm_auth_endpoint=COS_AUTH_ENDPOINT,\n    config=Config(signature_version=\"oauth\"),\n    endpoint_url=COS_ENDPOINT\n)"
        },
        {
            "cell_type": "code",
            "execution_count": 132,
            "metadata": {},
            "outputs": [],
            "source": "def multi_part_upload(bucket_name, item_name, file_path):\n    try:\n        print(\"Starting file transfer for {0} to bucket: {1}\\n\".format(item_name, bucket_name))\n        # set 5 MB chunks\n        part_size = 1024 * 1024 * 5\n\n        # set threadhold to 15 MB\n        file_threshold = 1024 * 1024 * 15\n\n        # set the transfer threshold and chunk size\n        transfer_config = ibm_boto3.s3.transfer.TransferConfig(\n            multipart_threshold=file_threshold,\n            multipart_chunksize=part_size\n        )\n\n        # the upload_fileobj method will automatically execute a multi-part upload\n        # in 5 MB chunks for all files over 15 MB\n        with open(file_path, \"rb\") as file_data:\n            cos.Object(bucket_name, item_name).upload_fileobj(\n                Fileobj=file_data,\n                Config=transfer_config\n            )\n\n        print(\"Transfer for {0} Complete!\\n\".format(item_name))\n    except ClientError as be:\n        print(\"CLIENT ERROR: {0}\\n\".format(be))\n    except Exception as e:\n        print(\"Unable to complete multi-part upload: {0}\".format(e))\n"
        },
        {
            "cell_type": "code",
            "execution_count": 133,
            "metadata": {},
            "outputs": [
                {
                    "name": "stdout",
                    "output_type": "stream",
                    "text": "Starting file transfer for covidPatternClassification.csv to bucket: covidclassification-donotdelete-pr-8ak6n0mijfy2rc\n\nTransfer for covidPatternClassification.csv Complete!\n\n"
                }
            ],
            "source": "multi_part_upload('covidclassification-donotdelete-pr-8ak6n0mijfy2rc','covidPatternClassification.csv','covidPatternClassification.csv')"
        },
        {
            "cell_type": "code",
            "execution_count": 167,
            "metadata": {},
            "outputs": [
                {
                    "name": "stdout",
                    "output_type": "stream",
                    "text": "1.0.95\n"
                }
            ],
            "source": "# create client to access our WML service\nfrom watson_machine_learning_client import WatsonMachineLearningAPIClient\n\nwml_credentials = {\n  \"apikey\": \"Xz5J-Eufiu7-29sv9jm6LOvaIKMjsE5r55TjUxe8lML_\",\n  \"iam_apikey_description\": \"Auto-generated for key 7bca1e8d-7bb5-4971-8681-cd512388b68a\",\n  \"iam_apikey_name\": \"wdp-writer\",\n  \"iam_role_crn\": \"crn:v1:bluemix:public:iam::::serviceRole:Writer\",\n  \"iam_serviceid_crn\": \"crn:v1:bluemix:public:iam-identity::a/adf5d6c95fbb4f639efd0a43c86c3d1c::serviceid:ServiceId-68f98d04-1120-4972-beec-feb505f1967e\",\n  \"instance_id\": \"1cab57fd-a73e-4804-b8ea-e6f8c15acfc9\",\n  \"url\": \"https://us-south.ml.cloud.ibm.com\"\n}\n\nclient = WatsonMachineLearningAPIClient(wml_credentials)\nprint(client.version)"
        },
        {
            "cell_type": "code",
            "execution_count": 168,
            "metadata": {},
            "outputs": [
                {
                    "name": "stdout",
                    "output_type": "stream",
                    "text": "----  ----  -------  ----\nGUID  NAME  CREATED  TYPE\n----  ----  -------  ----\n----  ----  -----  -------  -------------\nGUID  NAME  STATE  CREATED  ARTIFACT_TYPE\n----  ----  -----  -------  -------------\n"
                }
            ],
            "source": "# Use this cell to do any cleanup of previously created models and deployments\nclient.repository.list_models()\nclient.deployments.list()"
        },
        {
            "cell_type": "code",
            "execution_count": 171,
            "metadata": {},
            "outputs": [
                {
                    "name": "stdout",
                    "output_type": "stream",
                    "text": "Traceback (most recent call last):\n  File \"/opt/ibm/conda/miniconda3.6/lib/python3.6/site-packages/watson_machine_learning_client/libs/repo/mlrepositoryclient/model_collection.py\", line 463, in _save_spark_pipeline_model\n    model_artifact = self._create_pipeline_model(artifact, query_param)\n  File \"/opt/ibm/conda/miniconda3.6/lib/python3.6/site-packages/watson_machine_learning_client/libs/repo/mlrepositoryclient/model_collection.py\", line 509, in _create_pipeline_model\n    model_input = self._prepare_model_input(model_artifact)\n  File \"/opt/ibm/conda/miniconda3.6/lib/python3.6/site-packages/watson_machine_learning_client/libs/repo/mlrepositoryclient/model_collection.py\", line 790, in _prepare_model_input\n    if not issubclass (type(framework_runtimes), list):\nUnboundLocalError: local variable 'type' referenced before assignment\n\n"
                },
                {
                    "ename": "WMLClientError",
                    "evalue": "Publishing model failed.\nReason: local variable 'type' referenced before assignment",
                    "output_type": "error",
                    "traceback": [
                        "\u001b[0;31m---------------------------------------------------------------------------\u001b[0m",
                        "\u001b[0;31mUnboundLocalError\u001b[0m                         Traceback (most recent call last)",
                        "\u001b[0;32m/opt/ibm/conda/miniconda3.6/lib/python3.6/site-packages/watson_machine_learning_client/models.py\u001b[0m in \u001b[0;36m_publish_from_object\u001b[0;34m(self, model, meta_props, training_data, training_target, pipeline, feature_names, label_column_names, project_id)\u001b[0m\n\u001b[1;32m    330\u001b[0m             \u001b[0;32melse\u001b[0m\u001b[0;34m:\u001b[0m\u001b[0;34m\u001b[0m\u001b[0;34m\u001b[0m\u001b[0m\n\u001b[0;32m--> 331\u001b[0;31m                 \u001b[0msaved_model\u001b[0m \u001b[0;34m=\u001b[0m \u001b[0mself\u001b[0m\u001b[0;34m.\u001b[0m\u001b[0m_client\u001b[0m\u001b[0;34m.\u001b[0m\u001b[0mrepository\u001b[0m\u001b[0;34m.\u001b[0m\u001b[0m_ml_repository_client\u001b[0m\u001b[0;34m.\u001b[0m\u001b[0mmodels\u001b[0m\u001b[0;34m.\u001b[0m\u001b[0msave\u001b[0m\u001b[0;34m(\u001b[0m\u001b[0mmodel_artifact\u001b[0m\u001b[0;34m,\u001b[0m \u001b[0mquery_param\u001b[0m\u001b[0;34m=\u001b[0m\u001b[0mquery_param_for_repo_client\u001b[0m\u001b[0;34m)\u001b[0m\u001b[0;34m\u001b[0m\u001b[0;34m\u001b[0m\u001b[0m\n\u001b[0m\u001b[1;32m    332\u001b[0m         \u001b[0;32mexcept\u001b[0m \u001b[0mException\u001b[0m \u001b[0;32mas\u001b[0m \u001b[0me\u001b[0m\u001b[0;34m:\u001b[0m\u001b[0;34m\u001b[0m\u001b[0;34m\u001b[0m\u001b[0m\n",
                        "\u001b[0;32m/opt/ibm/conda/miniconda3.6/lib/python3.6/site-packages/watson_machine_learning_client/libs/repo/mlrepositoryclient/model_collection.py\u001b[0m in \u001b[0;36msave\u001b[0;34m(self, artifact, query_param)\u001b[0m\n\u001b[1;32m    225\u001b[0m         \u001b[0;32melse\u001b[0m\u001b[0;34m:\u001b[0m\u001b[0;34m\u001b[0m\u001b[0;34m\u001b[0m\u001b[0m\n\u001b[0;32m--> 226\u001b[0;31m             \u001b[0;32mreturn\u001b[0m \u001b[0mself\u001b[0m\u001b[0;34m.\u001b[0m\u001b[0m_save_spark_pipeline_model\u001b[0m\u001b[0;34m(\u001b[0m\u001b[0martifact\u001b[0m\u001b[0;34m,\u001b[0m \u001b[0mquery_param\u001b[0m\u001b[0;34m)\u001b[0m\u001b[0;34m\u001b[0m\u001b[0;34m\u001b[0m\u001b[0m\n\u001b[0m\u001b[1;32m    227\u001b[0m \u001b[0;34m\u001b[0m\u001b[0m\n",
                        "\u001b[0;32m/opt/ibm/conda/miniconda3.6/lib/python3.6/site-packages/watson_machine_learning_client/libs/repo/mlrepositoryclient/model_collection.py\u001b[0m in \u001b[0;36m_save_spark_pipeline_model\u001b[0;34m(self, artifact, query_param)\u001b[0m\n\u001b[1;32m    474\u001b[0m             \u001b[0mprint\u001b[0m\u001b[0;34m(\u001b[0m\u001b[0mtraceback\u001b[0m\u001b[0;34m.\u001b[0m\u001b[0mformat_exc\u001b[0m\u001b[0;34m(\u001b[0m\u001b[0;34m)\u001b[0m\u001b[0;34m)\u001b[0m\u001b[0;34m\u001b[0m\u001b[0;34m\u001b[0m\u001b[0m\n\u001b[0;32m--> 475\u001b[0;31m             \u001b[0;32mraise\u001b[0m \u001b[0me\u001b[0m\u001b[0;34m\u001b[0m\u001b[0;34m\u001b[0m\u001b[0m\n\u001b[0m\u001b[1;32m    476\u001b[0m \u001b[0;34m\u001b[0m\u001b[0m\n",
                        "\u001b[0;32m/opt/ibm/conda/miniconda3.6/lib/python3.6/site-packages/watson_machine_learning_client/libs/repo/mlrepositoryclient/model_collection.py\u001b[0m in \u001b[0;36m_save_spark_pipeline_model\u001b[0;34m(self, artifact, query_param)\u001b[0m\n\u001b[1;32m    462\u001b[0m             \u001b[0;32mif\u001b[0m \u001b[0martifact\u001b[0m\u001b[0;34m.\u001b[0m\u001b[0muid\u001b[0m \u001b[0;32mis\u001b[0m \u001b[0;32mNone\u001b[0m\u001b[0;34m:\u001b[0m\u001b[0;34m\u001b[0m\u001b[0;34m\u001b[0m\u001b[0m\n\u001b[0;32m--> 463\u001b[0;31m                 \u001b[0mmodel_artifact\u001b[0m \u001b[0;34m=\u001b[0m \u001b[0mself\u001b[0m\u001b[0;34m.\u001b[0m\u001b[0m_create_pipeline_model\u001b[0m\u001b[0;34m(\u001b[0m\u001b[0martifact\u001b[0m\u001b[0;34m,\u001b[0m \u001b[0mquery_param\u001b[0m\u001b[0;34m)\u001b[0m\u001b[0;34m\u001b[0m\u001b[0;34m\u001b[0m\u001b[0m\n\u001b[0m\u001b[1;32m    464\u001b[0m             \u001b[0;32melse\u001b[0m\u001b[0;34m:\u001b[0m\u001b[0;34m\u001b[0m\u001b[0;34m\u001b[0m\u001b[0m\n",
                        "\u001b[0;32m/opt/ibm/conda/miniconda3.6/lib/python3.6/site-packages/watson_machine_learning_client/libs/repo/mlrepositoryclient/model_collection.py\u001b[0m in \u001b[0;36m_create_pipeline_model\u001b[0;34m(self, model_artifact, query_param)\u001b[0m\n\u001b[1;32m    508\u001b[0m     \u001b[0;32mdef\u001b[0m \u001b[0m_create_pipeline_model\u001b[0m\u001b[0;34m(\u001b[0m\u001b[0mself\u001b[0m\u001b[0;34m,\u001b[0m \u001b[0mmodel_artifact\u001b[0m\u001b[0;34m,\u001b[0m \u001b[0mquery_param\u001b[0m\u001b[0;34m=\u001b[0m\u001b[0;32mNone\u001b[0m\u001b[0;34m)\u001b[0m\u001b[0;34m:\u001b[0m\u001b[0;34m\u001b[0m\u001b[0;34m\u001b[0m\u001b[0m\n\u001b[0;32m--> 509\u001b[0;31m         \u001b[0mmodel_input\u001b[0m \u001b[0;34m=\u001b[0m \u001b[0mself\u001b[0m\u001b[0;34m.\u001b[0m\u001b[0m_prepare_model_input\u001b[0m\u001b[0;34m(\u001b[0m\u001b[0mmodel_artifact\u001b[0m\u001b[0;34m)\u001b[0m\u001b[0;34m\u001b[0m\u001b[0;34m\u001b[0m\u001b[0m\n\u001b[0m\u001b[1;32m    510\u001b[0m         \u001b[0mmodel_output\u001b[0m \u001b[0;34m=\u001b[0m \u001b[0mself\u001b[0m\u001b[0;34m.\u001b[0m\u001b[0mrepository_api\u001b[0m\u001b[0;34m.\u001b[0m\u001b[0mml_assets_model_creation\u001b[0m\u001b[0;34m(\u001b[0m\u001b[0mmodel_input\u001b[0m\u001b[0;34m)\u001b[0m\u001b[0;34m\u001b[0m\u001b[0;34m\u001b[0m\u001b[0m\n",
                        "\u001b[0;32m/opt/ibm/conda/miniconda3.6/lib/python3.6/site-packages/watson_machine_learning_client/libs/repo/mlrepositoryclient/model_collection.py\u001b[0m in \u001b[0;36m_prepare_model_input\u001b[0;34m(artifact)\u001b[0m\n\u001b[1;32m    789\u001b[0m                 \u001b[0mframework_runtimes\u001b[0m \u001b[0;34m=\u001b[0m \u001b[0martifact\u001b[0m\u001b[0;34m.\u001b[0m\u001b[0mmeta\u001b[0m\u001b[0;34m.\u001b[0m\u001b[0mprop\u001b[0m\u001b[0;34m(\u001b[0m\u001b[0mMetaNames\u001b[0m\u001b[0;34m.\u001b[0m\u001b[0mFRAMEWORK_RUNTIMES\u001b[0m\u001b[0;34m)\u001b[0m\u001b[0;34m\u001b[0m\u001b[0;34m\u001b[0m\u001b[0m\n\u001b[0;32m--> 790\u001b[0;31m             \u001b[0;32mif\u001b[0m \u001b[0;32mnot\u001b[0m \u001b[0missubclass\u001b[0m \u001b[0;34m(\u001b[0m\u001b[0mtype\u001b[0m\u001b[0;34m(\u001b[0m\u001b[0mframework_runtimes\u001b[0m\u001b[0;34m)\u001b[0m\u001b[0;34m,\u001b[0m \u001b[0mlist\u001b[0m\u001b[0;34m)\u001b[0m\u001b[0;34m:\u001b[0m\u001b[0;34m\u001b[0m\u001b[0;34m\u001b[0m\u001b[0m\n\u001b[0m\u001b[1;32m    791\u001b[0m                 \u001b[0;32mraise\u001b[0m \u001b[0mValueError\u001b[0m\u001b[0;34m(\u001b[0m\u001b[0;34m'Invalid data format for framework_runtimes.'\u001b[0m\u001b[0;34m)\u001b[0m\u001b[0;34m\u001b[0m\u001b[0;34m\u001b[0m\u001b[0m\n",
                        "\u001b[0;31mUnboundLocalError\u001b[0m: local variable 'type' referenced before assignment",
                        "\nDuring handling of the above exception, another exception occurred:\n",
                        "\u001b[0;31mWMLClientError\u001b[0m                            Traceback (most recent call last)",
                        "\u001b[0;32m<ipython-input-171-72fbec48cdea>\u001b[0m in \u001b[0;36m<module>\u001b[0;34m()\u001b[0m\n\u001b[1;32m      3\u001b[0m     \u001b[0mclient\u001b[0m\u001b[0;34m.\u001b[0m\u001b[0mrepository\u001b[0m\u001b[0;34m.\u001b[0m\u001b[0mModelMetaNames\u001b[0m\u001b[0;34m.\u001b[0m\u001b[0mTYPE\u001b[0m\u001b[0;34m:\u001b[0m \u001b[0;34m\"Y\"\u001b[0m\u001b[0;34m\u001b[0m\u001b[0;34m\u001b[0m\u001b[0m\n\u001b[1;32m      4\u001b[0m }\n\u001b[0;32m----> 5\u001b[0;31m \u001b[0mpublished_model\u001b[0m \u001b[0;34m=\u001b[0m \u001b[0mclient\u001b[0m\u001b[0;34m.\u001b[0m\u001b[0mrepository\u001b[0m\u001b[0;34m.\u001b[0m\u001b[0mstore_model\u001b[0m\u001b[0;34m(\u001b[0m\u001b[0mmodel\u001b[0m\u001b[0;34m=\u001b[0m\u001b[0mlogsk\u001b[0m\u001b[0;34m,\u001b[0m \u001b[0mmeta_props\u001b[0m\u001b[0;34m=\u001b[0m\u001b[0mmeta_props\u001b[0m\u001b[0;34m)\u001b[0m\u001b[0;34m\u001b[0m\u001b[0;34m\u001b[0m\u001b[0m\n\u001b[0m",
                        "\u001b[0;32m/opt/ibm/conda/miniconda3.6/lib/python3.6/site-packages/watson_machine_learning_client/repository.py\u001b[0m in \u001b[0;36mstore_model\u001b[0;34m(self, model, meta_props, training_data, training_target, pipeline, feature_names, label_column_names, subtrainingId)\u001b[0m\n\u001b[1;32m    354\u001b[0m             \"\"\"\n\u001b[1;32m    355\u001b[0m \u001b[0;34m\u001b[0m\u001b[0m\n\u001b[0;32m--> 356\u001b[0;31m         \u001b[0;32mreturn\u001b[0m \u001b[0mself\u001b[0m\u001b[0;34m.\u001b[0m\u001b[0m_client\u001b[0m\u001b[0;34m.\u001b[0m\u001b[0m_models\u001b[0m\u001b[0;34m.\u001b[0m\u001b[0mstore\u001b[0m\u001b[0;34m(\u001b[0m\u001b[0mmodel\u001b[0m\u001b[0;34m,\u001b[0m \u001b[0mmeta_props\u001b[0m\u001b[0;34m=\u001b[0m\u001b[0mmeta_props\u001b[0m\u001b[0;34m,\u001b[0m \u001b[0mtraining_data\u001b[0m\u001b[0;34m=\u001b[0m\u001b[0mtraining_data\u001b[0m\u001b[0;34m,\u001b[0m \u001b[0mtraining_target\u001b[0m\u001b[0;34m=\u001b[0m\u001b[0mtraining_target\u001b[0m\u001b[0;34m,\u001b[0m \u001b[0mpipeline\u001b[0m\u001b[0;34m=\u001b[0m\u001b[0mpipeline\u001b[0m\u001b[0;34m,\u001b[0m \u001b[0mfeature_names\u001b[0m\u001b[0;34m=\u001b[0m\u001b[0mfeature_names\u001b[0m\u001b[0;34m,\u001b[0m \u001b[0mlabel_column_names\u001b[0m\u001b[0;34m=\u001b[0m\u001b[0mlabel_column_names\u001b[0m\u001b[0;34m,\u001b[0m\u001b[0msubtrainingId\u001b[0m\u001b[0;34m=\u001b[0m\u001b[0msubtrainingId\u001b[0m\u001b[0;34m)\u001b[0m\u001b[0;34m\u001b[0m\u001b[0;34m\u001b[0m\u001b[0m\n\u001b[0m\u001b[1;32m    357\u001b[0m \u001b[0;34m\u001b[0m\u001b[0m\n\u001b[1;32m    358\u001b[0m     \u001b[0;34m@\u001b[0m\u001b[0mdocstring_parameter\u001b[0m\u001b[0;34m(\u001b[0m\u001b[0;34m{\u001b[0m\u001b[0;34m'str_type'\u001b[0m\u001b[0;34m:\u001b[0m \u001b[0mSTR_TYPE_NAME\u001b[0m\u001b[0;34m}\u001b[0m\u001b[0;34m)\u001b[0m\u001b[0;34m\u001b[0m\u001b[0;34m\u001b[0m\u001b[0m\n",
                        "\u001b[0;32m/opt/ibm/conda/miniconda3.6/lib/python3.6/site-packages/watson_machine_learning_client/models.py\u001b[0m in \u001b[0;36mstore\u001b[0;34m(self, model, meta_props, training_data, training_target, pipeline, version, artifactid, feature_names, label_column_names, subtrainingId)\u001b[0m\n\u001b[1;32m   1083\u001b[0m                 \u001b[0;32mraise\u001b[0m \u001b[0mWMLClientError\u001b[0m\u001b[0;34m(\u001b[0m\u001b[0;34mu'Unsupported type: object for param model. Supported types: path to saved model, training ID'\u001b[0m\u001b[0;34m)\u001b[0m\u001b[0;34m\u001b[0m\u001b[0;34m\u001b[0m\u001b[0m\n\u001b[1;32m   1084\u001b[0m             \u001b[0;32melse\u001b[0m\u001b[0;34m:\u001b[0m\u001b[0;34m\u001b[0m\u001b[0;34m\u001b[0m\u001b[0m\n\u001b[0;32m-> 1085\u001b[0;31m                 \u001b[0msaved_model\u001b[0m \u001b[0;34m=\u001b[0m \u001b[0mself\u001b[0m\u001b[0;34m.\u001b[0m\u001b[0m_publish_from_object\u001b[0m\u001b[0;34m(\u001b[0m\u001b[0mmodel\u001b[0m\u001b[0;34m=\u001b[0m\u001b[0mmodel\u001b[0m\u001b[0;34m,\u001b[0m \u001b[0mmeta_props\u001b[0m\u001b[0;34m=\u001b[0m\u001b[0mmeta_props\u001b[0m\u001b[0;34m,\u001b[0m \u001b[0mtraining_data\u001b[0m\u001b[0;34m=\u001b[0m\u001b[0mtraining_data\u001b[0m\u001b[0;34m,\u001b[0m \u001b[0mtraining_target\u001b[0m\u001b[0;34m=\u001b[0m\u001b[0mtraining_target\u001b[0m\u001b[0;34m,\u001b[0m \u001b[0mpipeline\u001b[0m\u001b[0;34m=\u001b[0m\u001b[0mpipeline\u001b[0m\u001b[0;34m,\u001b[0m \u001b[0mfeature_names\u001b[0m\u001b[0;34m=\u001b[0m\u001b[0mfeature_names\u001b[0m\u001b[0;34m,\u001b[0m \u001b[0mlabel_column_names\u001b[0m\u001b[0;34m=\u001b[0m\u001b[0mlabel_column_names\u001b[0m\u001b[0;34m)\u001b[0m\u001b[0;34m\u001b[0m\u001b[0;34m\u001b[0m\u001b[0m\n\u001b[0m\u001b[1;32m   1086\u001b[0m         \u001b[0;32melse\u001b[0m\u001b[0;34m:\u001b[0m\u001b[0;34m\u001b[0m\u001b[0;34m\u001b[0m\u001b[0m\n\u001b[1;32m   1087\u001b[0m             \u001b[0;31m# print(\"model is a string type\")\u001b[0m\u001b[0;34m\u001b[0m\u001b[0;34m\u001b[0m\u001b[0;34m\u001b[0m\u001b[0m\n",
                        "\u001b[0;32m/opt/ibm/conda/miniconda3.6/lib/python3.6/site-packages/watson_machine_learning_client/models.py\u001b[0m in \u001b[0;36m_publish_from_object\u001b[0;34m(self, model, meta_props, training_data, training_target, pipeline, feature_names, label_column_names, project_id)\u001b[0m\n\u001b[1;32m    331\u001b[0m                 \u001b[0msaved_model\u001b[0m \u001b[0;34m=\u001b[0m \u001b[0mself\u001b[0m\u001b[0;34m.\u001b[0m\u001b[0m_client\u001b[0m\u001b[0;34m.\u001b[0m\u001b[0mrepository\u001b[0m\u001b[0;34m.\u001b[0m\u001b[0m_ml_repository_client\u001b[0m\u001b[0;34m.\u001b[0m\u001b[0mmodels\u001b[0m\u001b[0;34m.\u001b[0m\u001b[0msave\u001b[0m\u001b[0;34m(\u001b[0m\u001b[0mmodel_artifact\u001b[0m\u001b[0;34m,\u001b[0m \u001b[0mquery_param\u001b[0m\u001b[0;34m=\u001b[0m\u001b[0mquery_param_for_repo_client\u001b[0m\u001b[0;34m)\u001b[0m\u001b[0;34m\u001b[0m\u001b[0;34m\u001b[0m\u001b[0m\n\u001b[1;32m    332\u001b[0m         \u001b[0;32mexcept\u001b[0m \u001b[0mException\u001b[0m \u001b[0;32mas\u001b[0m \u001b[0me\u001b[0m\u001b[0;34m:\u001b[0m\u001b[0;34m\u001b[0m\u001b[0;34m\u001b[0m\u001b[0m\n\u001b[0;32m--> 333\u001b[0;31m             \u001b[0;32mraise\u001b[0m \u001b[0mWMLClientError\u001b[0m\u001b[0;34m(\u001b[0m\u001b[0;34mu'Publishing model failed.'\u001b[0m\u001b[0;34m,\u001b[0m \u001b[0me\u001b[0m\u001b[0;34m)\u001b[0m\u001b[0;34m\u001b[0m\u001b[0;34m\u001b[0m\u001b[0m\n\u001b[0m\u001b[1;32m    334\u001b[0m         \u001b[0;32melse\u001b[0m\u001b[0;34m:\u001b[0m\u001b[0;34m\u001b[0m\u001b[0;34m\u001b[0m\u001b[0m\n\u001b[1;32m    335\u001b[0m             \u001b[0;32mreturn\u001b[0m \u001b[0mself\u001b[0m\u001b[0;34m.\u001b[0m\u001b[0mget_details\u001b[0m\u001b[0;34m(\u001b[0m\u001b[0;34mu'{}'\u001b[0m\u001b[0;34m.\u001b[0m\u001b[0mformat\u001b[0m\u001b[0;34m(\u001b[0m\u001b[0msaved_model\u001b[0m\u001b[0;34m.\u001b[0m\u001b[0muid\u001b[0m\u001b[0;34m)\u001b[0m\u001b[0;34m)\u001b[0m\u001b[0;34m\u001b[0m\u001b[0;34m\u001b[0m\u001b[0m\n",
                        "\u001b[0;31mWMLClientError\u001b[0m: Publishing model failed.\nReason: local variable 'type' referenced before assignment"
                    ]
                }
            ],
            "source": "meta_props = {\n    client.repository.ModelMetaNames.NAME: \"Covid Classification\",\n    client.repository.ModelMetaNames.TYPE: \"\"\n}\npublished_model = client.repository.store_model(model=logsk, meta_props=meta_props)"
        },
        {
            "cell_type": "code",
            "execution_count": null,
            "metadata": {},
            "outputs": [],
            "source": "\n# new list of models\nclient.repository.list_models()\n\n# get UID of our just stored model\nmodel_uid = client.repository.get_model_uid(published_model)\nprint(\"Model id: {}\".format(model_uid))"
        },
        {
            "cell_type": "code",
            "execution_count": null,
            "metadata": {},
            "outputs": [],
            "source": "created_deployment = client.deployments.create(model_uid, name=\"covid_classification_model_gb\")\n\n# new list of deployments\nclient.deployments.list()\n\n# get UID of our new deployment\ndeployment_uid = client.deployments.get_uid(created_deployment)\nprint(\"Deployment id: {}\".format(deployment_uid))\nprint(created_deployment)"
        },
        {
            "cell_type": "code",
            "execution_count": null,
            "metadata": {},
            "outputs": [],
            "source": "# get scoring end point\nscoring_endpoint = client.deployments.get_scoring_url(created_deployment)\nprint(scoring_endpoint)"
        },
        {
            "cell_type": "code",
            "execution_count": null,
            "metadata": {},
            "outputs": [],
            "source": "# use our WML client to score our model\n\n# add some test data\nscoring_payload = {'fields': ['symptomatic questions', 'CovidNewsquestions', 'CovidStatQuestions', 'NearbyCasesSearch', 'CoughRelatedQuestions',\n        'COldrelatedQuestions', 'BodyPainsRelatedQuestions', 'CovidpreventionRelatedQuestions', 'HandWashTechniqueQuestions', 'ChildSymptomicQuestions'], \n                    'values': [[1,0,1,0,1,0,0,0,1,0]]}"
        },
        {
            "cell_type": "code",
            "execution_count": null,
            "metadata": {},
            "outputs": [],
            "source": "# score the model\nimport json\npredictions = client.deployments.score(scoring_endpoint, scoring_payload)\nprint('prediction',json.dumps(predictions, indent=2))"
        }
    ],
    "metadata": {
        "kernelspec": {
            "display_name": "Python 3.6 with Spark",
            "language": "python3",
            "name": "python36"
        },
        "language_info": {
            "codemirror_mode": {
                "name": "ipython",
                "version": 3
            },
            "file_extension": ".py",
            "mimetype": "text/x-python",
            "name": "python",
            "nbconvert_exporter": "python",
            "pygments_lexer": "ipython3",
            "version": "3.6.8"
        }
    },
    "nbformat": 4,
    "nbformat_minor": 4
}